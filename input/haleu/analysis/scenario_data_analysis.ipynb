{
 "cells": [
  {
   "cell_type": "markdown",
   "metadata": {},
   "source": [
    "### Analysis about the current US fuel cycle\n",
    "Includes each of the current reactors and their decommissioning, based on license expirations. This notebook looks specifically at the amount of fuel and enriched U that is required by the current fuel cycle."
   ]
  },
  {
   "cell_type": "code",
   "execution_count": 1,
   "metadata": {},
   "outputs": [],
   "source": [
    "import numpy as np\n",
    "import pandas as pd\n",
    "import math\n",
    "import matplotlib.pyplot as plt\n",
    "from functools import reduce"
   ]
  },
  {
   "cell_type": "code",
   "execution_count": 2,
   "metadata": {},
   "outputs": [],
   "source": [
    "import cymetric as cym\n",
    "from cymetric import timeseries\n",
    "from cymetric import filters\n",
    "from cymetric import tools\n",
    "\n",
    "import transition_metrics as tm"
   ]
  },
  {
   "cell_type": "code",
   "execution_count": 3,
   "metadata": {},
   "outputs": [],
   "source": [
    "current_outfile = '../outputs/united_states_2020.sqlite'\n",
    "mmr_outfile = '../outputs/united_states_mmr.sqlite'\n",
    "xe_outfile = '../outputs/united_states_xe100.sqlite'"
   ]
  },
  {
   "cell_type": "markdown",
   "metadata": {},
   "source": [
    "## Reactors Built and Decommissioned\n",
    "\n",
    "This section plots the number of each reactor type in the simulation as a function of time"
   ]
  },
  {
   "cell_type": "code",
   "execution_count": 29,
   "metadata": {},
   "outputs": [],
   "source": [
    "current_nonlwr = ['Sink_HLW', 'Sink_LLW', 'Mine', 'Mill',\n",
    "                 'Enrichment', 'FuelFab', 'DryStorage', 'United States',\n",
    "                 'WetStorage', 'FuelCycle', 'UNITED_STATES_OF_AMERICA']\n",
    "mmr_nonlwr = ['Sink_HLW', 'Sink_LLW', 'Mine', 'Mill',\n",
    "             'Enrichment', 'FuelFab', 'DryStorage', 'United States',\n",
    "             'WetStorage', 'FuelCycle', 'UNITED_STATES_OF_AMERICA',\n",
    "             'MMR_enter','MMR_exit', 'Enrichment2', 'FuelFab2']\n",
    "xe_nonlwr = ['Sink_HLW', 'Sink_LLW', 'Mine', 'Mill',\n",
    "             'LEUEnrichment', 'FuelFab', 'DryStorage', 'United States',\n",
    "             'WetStorage', 'FuelCycle', 'UNITED_STATES_OF_AMERICA',\n",
    "             'Xe-100_enter','Xe-100_exit', 'FuelFab2', 'Enrichment']"
   ]
  },
  {
   "cell_type": "code",
   "execution_count": 30,
   "metadata": {},
   "outputs": [
    {
     "name": "stderr",
     "output_type": "stream",
     "text": [
      "/home/amandabachmann/transition-scenarios/input/haleu/analysis/transition_metrics.py:98: SettingWithCopyWarning: \n",
      "A value is trying to be set on a copy of a slice from a DataFrame\n",
      "\n",
      "See the caveats in the documentation: https://pandas.pydata.org/pandas-docs/stable/user_guide/indexing.html#returning-a-view-versus-a-copy\n",
      "  df['Year'][index] = np.round(df['Time'][index] / 12 + 1965, 2)\n"
     ]
    }
   ],
   "source": [
    "current_reactors = tm.rx_commission_decommission(current_outfile, current_nonlwr)\n",
    "current_reactors = tm.add_year(current_reactors)\n",
    "\n",
    "mmr_reactors = tm.rx_commission_decommission(mmr_outfile, mmr_nonlwr)\n",
    "mmr_reactors = tm.add_year(mmr_reactors)\n",
    "mmr_reactors['mmr_total'] = (mmr_reactors['MMR_enter'] - mmr_reactors['MMR_exit']).cumsum()\n",
    "\n",
    "xe_reactors = tm.rx_commission_decommission(xe_outfile, xe_nonlwr)\n",
    "xe_reactors = tm.add_year(xe_reactors)\n",
    "xe_reactors['xe_total'] = (xe_reactors['Xe-100_enter'] - xe_reactors['Xe-100_exit']).cumsum()"
   ]
  },
  {
   "cell_type": "code",
   "execution_count": 38,
   "metadata": {},
   "outputs": [
    {
     "data": {
      "text/plain": [
       "<matplotlib.legend.Legend at 0x7f4301cb6940>"
      ]
     },
     "execution_count": 38,
     "metadata": {},
     "output_type": "execute_result"
    },
    {
     "data": {
      "image/png": "[encoded data removed]",
      "text/plain": [
       "<Figure size 432x288 with 1 Axes>"
      ]
     },
     "metadata": {
      "needs_background": "light"
     },
     "output_type": "display_data"
    }
   ],
   "source": [
    "plt.figure()\n",
    "plt.plot(current_reactors['Year'], current_reactors['lwr_total'], label='current')\n",
    "plt.plot(mmr_reactors['Year'], mmr_reactors['mmr_total'], label='MMR Transition')\n",
    "plt.plot(xe_reactors['Year'], xe_reactors['xe_total'], label='Xe-100 Transition')\n",
    "plt.title('Number of Reactors per year')\n",
    "plt.xlabel('Year')\n",
    "plt.ylabel('Number of Reactors')\n",
    "plt.yscale('log')\n",
    "plt.legend()\n",
    "#plt.savefig('figures/rx_deployment_all.png')"
   ]
  },
  {
   "cell_type": "code",
   "execution_count": 34,
   "metadata": {},
   "outputs": [
    {
     "data": {
      "text/html": [
       "<div>\n",
       "<style scoped>\n",
       "    .dataframe tbody tr th:only-of-type {\n",
       "        vertical-align: middle;\n",
       "    }\n",
       "\n",
       "    .dataframe tbody tr th {\n",
       "        vertical-align: top;\n",
       "    }\n",
       "\n",
       "    .dataframe thead th {\n",
       "        text-align: right;\n",
       "    }\n",
       "</style>\n",
       "<table border=\"1\" class=\"dataframe\">\n",
       "  <thead>\n",
       "    <tr style=\"text-align: right;\">\n",
       "      <th></th>\n",
       "      <th>SimId</th>\n",
       "      <th>AgentId</th>\n",
       "      <th>Year</th>\n",
       "      <th>Energy</th>\n",
       "    </tr>\n",
       "  </thead>\n",
       "  <tbody>\n",
       "    <tr>\n",
       "      <th>0</th>\n",
       "      <td>2af7a6fa-919c-42d9-a651-65973f51cbb7</td>\n",
       "      <td>170</td>\n",
       "      <td>2</td>\n",
       "      <td>0.000000</td>\n",
       "    </tr>\n",
       "    <tr>\n",
       "      <th>1</th>\n",
       "      <td>2af7a6fa-919c-42d9-a651-65973f51cbb7</td>\n",
       "      <td>170</td>\n",
       "      <td>3</td>\n",
       "      <td>0.000000</td>\n",
       "    </tr>\n",
       "    <tr>\n",
       "      <th>2</th>\n",
       "      <td>2af7a6fa-919c-42d9-a651-65973f51cbb7</td>\n",
       "      <td>170</td>\n",
       "      <td>4</td>\n",
       "      <td>0.000000</td>\n",
       "    </tr>\n",
       "    <tr>\n",
       "      <th>3</th>\n",
       "      <td>2af7a6fa-919c-42d9-a651-65973f51cbb7</td>\n",
       "      <td>170</td>\n",
       "      <td>5</td>\n",
       "      <td>0.000000</td>\n",
       "    </tr>\n",
       "    <tr>\n",
       "      <th>4</th>\n",
       "      <td>2af7a6fa-919c-42d9-a651-65973f51cbb7</td>\n",
       "      <td>170</td>\n",
       "      <td>6</td>\n",
       "      <td>0.000000</td>\n",
       "    </tr>\n",
       "    <tr>\n",
       "      <th>...</th>\n",
       "      <td>...</td>\n",
       "      <td>...</td>\n",
       "      <td>...</td>\n",
       "      <td>...</td>\n",
       "    </tr>\n",
       "    <tr>\n",
       "      <th>417765</th>\n",
       "      <td>2af7a6fa-919c-42d9-a651-65973f51cbb7</td>\n",
       "      <td>24133</td>\n",
       "      <td>120</td>\n",
       "      <td>0.000000</td>\n",
       "    </tr>\n",
       "    <tr>\n",
       "      <th>417766</th>\n",
       "      <td>2af7a6fa-919c-42d9-a651-65973f51cbb7</td>\n",
       "      <td>24133</td>\n",
       "      <td>121</td>\n",
       "      <td>0.000000</td>\n",
       "    </tr>\n",
       "    <tr>\n",
       "      <th>417767</th>\n",
       "      <td>2af7a6fa-919c-42d9-a651-65973f51cbb7</td>\n",
       "      <td>24133</td>\n",
       "      <td>122</td>\n",
       "      <td>5.833333</td>\n",
       "    </tr>\n",
       "    <tr>\n",
       "      <th>417768</th>\n",
       "      <td>2af7a6fa-919c-42d9-a651-65973f51cbb7</td>\n",
       "      <td>24133</td>\n",
       "      <td>123</td>\n",
       "      <td>10.000000</td>\n",
       "    </tr>\n",
       "    <tr>\n",
       "      <th>417769</th>\n",
       "      <td>2af7a6fa-919c-42d9-a651-65973f51cbb7</td>\n",
       "      <td>24133</td>\n",
       "      <td>124</td>\n",
       "      <td>10.000000</td>\n",
       "    </tr>\n",
       "  </tbody>\n",
       "</table>\n",
       "<p>417770 rows × 4 columns</p>\n",
       "</div>"
      ],
      "text/plain": [
       "                                       SimId  AgentId  Year     Energy\n",
       "0       2af7a6fa-919c-42d9-a651-65973f51cbb7      170     2   0.000000\n",
       "1       2af7a6fa-919c-42d9-a651-65973f51cbb7      170     3   0.000000\n",
       "2       2af7a6fa-919c-42d9-a651-65973f51cbb7      170     4   0.000000\n",
       "3       2af7a6fa-919c-42d9-a651-65973f51cbb7      170     5   0.000000\n",
       "4       2af7a6fa-919c-42d9-a651-65973f51cbb7      170     6   0.000000\n",
       "...                                      ...      ...   ...        ...\n",
       "417765  2af7a6fa-919c-42d9-a651-65973f51cbb7    24133   120   0.000000\n",
       "417766  2af7a6fa-919c-42d9-a651-65973f51cbb7    24133   121   0.000000\n",
       "417767  2af7a6fa-919c-42d9-a651-65973f51cbb7    24133   122   5.833333\n",
       "417768  2af7a6fa-919c-42d9-a651-65973f51cbb7    24133   123  10.000000\n",
       "417769  2af7a6fa-919c-42d9-a651-65973f51cbb7    24133   124  10.000000\n",
       "\n",
       "[417770 rows x 4 columns]"
      ]
     },
     "execution_count": 34,
     "metadata": {},
     "output_type": "execute_result"
    }
   ],
   "source": [
    "evaler = tm.get_metrics(mmr_outfile)\n",
    "evaler.eval('AnnualElectricityGeneratedByAgent')"
   ]
  },
  {
   "cell_type": "markdown",
   "metadata": {},
   "source": [
    "## Eletricity output"
   ]
  },
  {
   "cell_type": "code",
   "execution_count": 35,
   "metadata": {},
   "outputs": [],
   "source": [
    "current_energy = tm.get_electricity(current_outfile)\n",
    "mmr_energy = tm.get_electricity(mmr_outfile)\n",
    "xe_energy = tm.get_electricity(xe_outfile)"
   ]
  },
  {
   "cell_type": "code",
   "execution_count": 36,
   "metadata": {},
   "outputs": [
    {
     "data": {
      "text/plain": [
       "<matplotlib.legend.Legend at 0x7f43026cc208>"
      ]
     },
     "execution_count": 36,
     "metadata": {},
     "output_type": "execute_result"
    },
    {
     "data": {
      "image/png": "[encoded data removed]",
      "text/plain": [
       "<Figure size 432x288 with 1 Axes>"
      ]
     },
     "metadata": {
      "needs_background": "light"
     },
     "output_type": "display_data"
    }
   ],
   "source": [
    "plt.figure()\n",
    "plt.plot(current_energy['Year'], current_energy['Energy (GW)'], label='Current US')\n",
    "plt.plot(mmr_energy['Year'], mmr_energy['Energy (GW)'], label='MMR Transition')\n",
    "plt.plot(xe_energy['Year'], xe_energy['Energy (GW)'], label='Xe-100 Transition')\n",
    "plt.title('Energy Use Each Year')\n",
    "plt.xlabel('Year')\n",
    "plt.ylabel('Energy (GW)')\n",
    "plt.legend()\n",
    "#plt.savefig('figures/energy_all.png')"
   ]
  },
  {
   "cell_type": "code",
   "execution_count": null,
   "metadata": {},
   "outputs": [],
   "source": [
    "#Provides level of electricity to set for transitions\n",
    "current_energy['Energy (GW)'].loc[current_energy['Year'] == 2025]\n",
    "current_energy['Year'].loc[current_energy['Energy (GW)'] == max(current_energy['Energy (GW)'][35:70])]\n",
    "current_energy[65:70]"
   ]
  },
  {
   "cell_type": "markdown",
   "metadata": {},
   "source": [
    "# Calculating annual throughputs"
   ]
  },
  {
   "cell_type": "markdown",
   "metadata": {},
   "source": [
    "## Calculating annual enriched U supplied by enrichment facility (product)"
   ]
  },
  {
   "cell_type": "code",
   "execution_count": null,
   "metadata": {},
   "outputs": [],
   "source": [
    "current_leu = tm.calculate_throughput(current_outfile, 'enr_u')\n",
    "mmr_leu = tm.calculate_throughput(mmr_outfile, 'enr_u')\n",
    "mmr_haleu = tm.calculate_throughput(mmr_outfile, 'haleu')\n",
    "xe_leu = tm.calculate_throughput(xe_outfile, 'enr_u')\n",
    "xe_haleu = tm.calculate_throughput(xe_outfile, 'haleu')"
   ]
  },
  {
   "cell_type": "markdown",
   "metadata": {},
   "source": [
    "## Calculating annual feed material"
   ]
  },
  {
   "cell_type": "code",
   "execution_count": null,
   "metadata": {},
   "outputs": [],
   "source": [
    "current_feed = tm.calculate_throughput(current_outfile, 'uf6')\n",
    "mmr_feed = tm.calculate_throughput(mmr_outfile, 'uf6')\n",
    "xe_feed = tm.calculate_throughput(xe_outfile, 'uf6')"
   ]
  },
  {
   "cell_type": "markdown",
   "metadata": {},
   "source": [
    "## Calculating annual tails production"
   ]
  },
  {
   "cell_type": "code",
   "execution_count": null,
   "metadata": {},
   "outputs": [],
   "source": [
    "current_tails = tm.calculate_throughput(current_outfile, 'tails')\n",
    "mmr_tails = tm.calculate_throughput(mmr_outfile, 'tails')\n",
    "xe_tails = tm.calculate_throughput(xe_outfile, 'tails')"
   ]
  },
  {
   "cell_type": "markdown",
   "metadata": {},
   "source": [
    "## Calculating annual fuel production"
   ]
  },
  {
   "cell_type": "code",
   "execution_count": null,
   "metadata": {},
   "outputs": [],
   "source": [
    "current_uox = tm.calculate_throughput(current_outfile, 'fresh_uox')\n",
    "mmr_uox = tm.calculate_throughput(mmr_outfile, 'fresh_uox')\n",
    "mmr_triso = tm.calculate_throughput(mmr_outfile, 'TRISO')\n",
    "xe_uox = tm.calculate_throughput(xe_outfile, 'fresh_uox')\n",
    "xe_triso = tm.calculate_throughput(xe_outfile, 'TRISO')"
   ]
  },
  {
   "cell_type": "markdown",
   "metadata": {},
   "source": [
    "## Plotting material transactions"
   ]
  },
  {
   "cell_type": "code",
   "execution_count": null,
   "metadata": {},
   "outputs": [],
   "source": [
    "# current fuel cycle\n",
    "current_commodities = tm.merge_databases([current_leu, current_feed, current_tails, current_uox])\n",
    "tm.plot_metric(current_commodities, ['Year', 'enr_u', 'uf6', 'tails', 'fresh_uox'], \n",
    "            ['Year', 'Mass (kg)', 'Commodity', r'4.5% $^{235}$U', r'UF$_6$','tails', r'UO$_2$'])\n",
    "plt.title('Current US Transactions')\n",
    "plt.savefig('figures/commodity_demand_2020.png')"
   ]
  },
  {
   "cell_type": "code",
   "execution_count": null,
   "metadata": {},
   "outputs": [],
   "source": [
    "# MMR transition\n",
    "mmr_commodities = tm.merge_databases([mmr_leu, mmr_haleu, mmr_feed, mmr_tails,\n",
    "                                      mmr_uox, mmr_triso])\n",
    "tm.plot_metric(mmr_commodities, ['Year', 'enr_u', 'haleu', 'uf6', 'tails', 'TRISO', 'fresh_uox'], \n",
    "            ['Year', 'Mass (kg)', 'Commodity', r'4.5% $^{235}$U', r'13% $^{235}$U', \n",
    "             r'UF$_6$','tails', 'TRISO fuel', r'UO$_2$'])\n",
    "plt.title('MMR Transition Transactions')\n",
    "plt.yscale('log')\n",
    "plt.savefig('figures/commodity_demand_mmr.png')"
   ]
  },
  {
   "cell_type": "code",
   "execution_count": null,
   "metadata": {},
   "outputs": [],
   "source": [
    "#Xe-100 Transition\n",
    "xe_commodities = tm.merge_databases([xe_leu, xe_haleu, xe_feed, xe_tails,\n",
    "                                      xe_uox, xe_triso])\n",
    "tm.plot_metric(xe_commodities, ['Year', 'enr_u', 'haleu', 'uf6', 'tails', 'TRISO', 'fresh_uox'], \n",
    "            ['Year', 'Mass (kg)', 'Commodity', r'4.5% $^{235}$U', r'13% $^{235}$U', \n",
    "             r'UF$_6$','tails', 'TRISO fuel', r'UO$_2$'])\n",
    "plt.title('Xe-100 Transition Transactions')\n",
    "plt.yscale('log')\n",
    "plt.savefig('figures/commodity_demand_xe.png')"
   ]
  },
  {
   "cell_type": "code",
   "execution_count": null,
   "metadata": {},
   "outputs": [],
   "source": [
    "#Comparing enriched uranum transactions\n",
    "plt.figure()\n",
    "plt.plot(current_commodities['Year'], current_commodities['enr_u'], label=r'Current LEU')\n",
    "plt.plot(mmr_commodities['Year'], mmr_commodities['enr_u'], label='MMR LEU')\n",
    "plt.plot(mmr_commodities['Year'], mmr_commodities['haleu'], label='MMR HALEU')\n",
    "plt.plot(xe_commodities['Year'], xe_commodities['enr_u'], label='Xe-100 LEU')\n",
    "plt.plot(xe_commodities['Year'], xe_commodities['haleu'], label='Xe-100 HALEU')\n",
    "plt.legend()\n",
    "plt.xlabel('Year')\n",
    "plt.ylabel('Mass (kg)')\n",
    "plt.title('Mass of Enriched Uranium')\n",
    "plt.savefig('figures/enrichedU_all.png')"
   ]
  },
  {
   "cell_type": "markdown",
   "metadata": {},
   "source": [
    "## Determining feed, tails, and product assay"
   ]
  },
  {
   "cell_type": "code",
   "execution_count": null,
   "metadata": {},
   "outputs": [],
   "source": [
    "#Defining assays\n",
    "x_p = 0.045\n",
    "x_f = 0.00711\n",
    "x_t = 0.002"
   ]
  },
  {
   "cell_type": "markdown",
   "metadata": {},
   "source": [
    "## SWU Calculation\n",
    "SWU = (P*V(x_p) + T*V(x_t) - F*V(x_f))*t\n",
    "\n",
    "V(x_i) = (2*x_i-1)*ln(x_i/(1-x_i))"
   ]
  },
  {
   "cell_type": "code",
   "execution_count": null,
   "metadata": {},
   "outputs": [],
   "source": [
    "current_feed = tm.calculate_feed(current_commodities['enr_u'], current_commodities['tails'])\n",
    "current_swu = tm.calculate_SWU(current_commodities['enr_u'], x_p, \n",
    "                               current_commodities['tails'], x_t, \n",
    "                               current_feed, x_f)\n",
    "current_swu = current_swu.to_frame().reset_index()\n",
    "current_swu = current_swu.rename(columns={0:'SWU', 'index':'Time'})\n",
    "current_swu = tm.add_year(current_swu)\n",
    "tm.plot_metric(current_swu, ['Year', 'SWU'], ['Year', 'SWU Capacity Needed', 'Scenario', 'Current US'])"
   ]
  },
  {
   "cell_type": "code",
   "execution_count": null,
   "metadata": {},
   "outputs": [],
   "source": [
    "#tails and feed numbers are for both types of fuel and storage of feed at facility\n",
    "leu_tails = tm.calculate_tails(mmr_commodities['enr_u'], x_p, x_t, x_f)\n",
    "leu_feed = tm.calculate_feed(mmr_commodities['enr_u'], leu_tails)\n",
    "haleu_tails = tm.calculate_tails(mmr_commodities['haleu'], 0.13, x_t, x_f)\n",
    "haleu_feed = tm.calculate_feed(mmr_commodities['haleu'], haleu_tails)\n",
    "\n",
    "mmr_leu_swu = tm.calculate_SWU(mmr_commodities['enr_u'], x_p, \n",
    "                               leu_tails, x_t, \n",
    "                               leu_feed, x_f)\n",
    "mmr_leu_swu = mmr_leu_swu.to_frame().reset_index()\n",
    "mmr_leu_swu = mmr_leu_swu.rename(columns={'enr_u':'SWU', 'index':'Time'})\n",
    "mmr_leu_swu = tm.add_year(mmr_leu_swu)\n",
    "\n",
    "mmr_haleu_swu = tm.calculate_SWU(mmr_commodities['haleu'], 0.13, \n",
    "                               haleu_tails, x_t, \n",
    "                               haleu_feed, x_f)\n",
    "mmr_haleu_swu = mmr_haleu_swu.to_frame().reset_index()\n",
    "mmr_haleu_swu = mmr_haleu_swu.rename(columns={'haleu':'SWU', 'index':'Time'})\n",
    "mmr_haleu_swu = tm.add_year(mmr_haleu_swu)\n",
    "\n",
    "\n",
    "plt.figure()\n",
    "plt.plot(mmr_leu_swu['Year'], mmr_leu_swu['SWU'], label='LEU')\n",
    "plt.plot(mmr_haleu_swu['Year'], mmr_haleu_swu['SWU'], label='HALEU')\n",
    "plt.xlabel('Year')\n",
    "plt.ylabel('SWU')\n",
    "plt.title('SWU Requirements for each fuel type in MMR Transition')\n",
    "plt.legend()\n",
    "plt.savefig('figures/swu_mmr.png')"
   ]
  },
  {
   "cell_type": "code",
   "execution_count": null,
   "metadata": {},
   "outputs": [],
   "source": [
    "#tails and feed numbers are for both types of fuel and storage of feed at facility\n",
    "leu_tails = tm.calculate_tails(xe_commodities['enr_u'], x_p, x_t, x_f)\n",
    "leu_feed = tm.calculate_feed(xe_commodities['enr_u'], leu_tails)\n",
    "haleu_tails = tm.calculate_tails(xe_commodities['haleu'], 0.155, x_t, x_f)\n",
    "haleu_feed = tm.calculate_feed(xe_commodities['haleu'], haleu_tails)\n",
    "\n",
    "xe_leu_swu = tm.calculate_SWU(xe_commodities['enr_u'], x_p, \n",
    "                               leu_tails, x_t, \n",
    "                               leu_feed, x_f)\n",
    "xe_leu_swu = xe_leu_swu.to_frame().reset_index()\n",
    "xe_leu_swu = xe_leu_swu.rename(columns={'enr_u':'SWU', 'index':'Time'})\n",
    "xe_leu_swu = tm.add_year(xe_leu_swu)\n",
    "\n",
    "xe_haleu_swu = tm.calculate_SWU(xe_commodities['haleu'], 0.155, \n",
    "                               haleu_tails, x_t, \n",
    "                               haleu_feed, x_f)\n",
    "xe_haleu_swu = xe_haleu_swu.to_frame().reset_index()\n",
    "xe_haleu_swu = xe_haleu_swu.rename(columns={'haleu':'SWU', 'index':'Time'})\n",
    "xe_haleu_swu = tm.add_year(xe_haleu_swu)\n",
    "\n",
    "\n",
    "plt.figure()\n",
    "plt.plot(xe_leu_swu['Year'], xe_leu_swu['SWU'], label='LEU')\n",
    "plt.plot(xe_haleu_swu['Year'], xe_haleu_swu['SWU'], label='HALEU')\n",
    "plt.xlabel('Year')\n",
    "plt.ylabel('SWU')\n",
    "plt.title('SWU Requirements for each fuel type for Xe-100 Transition')\n",
    "plt.legend()\n",
    "plt.savefig('figures/swu_xe.png')"
   ]
  },
  {
   "cell_type": "code",
   "execution_count": null,
   "metadata": {},
   "outputs": [],
   "source": []
  }
 ],
 "metadata": {
  "kernelspec": {
   "display_name": "Python 3",
   "language": "python",
   "name": "python3"
  },
  "language_info": {
   "codemirror_mode": {
    "name": "ipython",
    "version": 3
   },
   "file_extension": ".py",
   "mimetype": "text/x-python",
   "name": "python",
   "nbconvert_exporter": "python",
   "pygments_lexer": "ipython3",
   "version": "3.6.11"
  }
 },
 "nbformat": 4,
 "nbformat_minor": 4
}
