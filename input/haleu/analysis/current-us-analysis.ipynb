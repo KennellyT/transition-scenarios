{
 "cells": [
  {
   "cell_type": "markdown",
   "metadata": {},
   "source": [
    "### Analysis about the current US fuel cycle\n",
    "Includes each of the current reactors and their decommissioning, based on license expirations. This notebook looks specifically at the amount of fuel and enriched U that is required by the current fuel cycle."
   ]
  },
  {
   "cell_type": "code",
   "execution_count": 1,
   "metadata": {},
   "outputs": [
    {
     "name": "stdout",
     "output_type": "stream",
     "text": [
      "              :                                                               \n",
      "          .CL:CC CC             _Q     _Q  _Q_Q    _Q    _Q              _Q   \n",
      "        CC;CCCCCCCC:C;         /_\\)   /_\\)/_/\\\\)  /_\\)  /_\\)            /_\\)  \n",
      "        CCCCCCCCCCCCCl       __O|/O___O|/O_OO|/O__O|/O__O|/O____________O|/O__\n",
      "     CCCCCCf     iCCCLCC     /////////////////////////////////////////////////\n",
      "     iCCCt  ;;;;;.  CCCC                                                      \n",
      "    CCCC  ;;;;;;;;;. CClL.                          c                         \n",
      "   CCCC ,;;       ;;: CCCC  ;                   : CCCCi                       \n",
      "    CCC ;;         ;;  CC   ;;:                CCC`   `C;                     \n",
      "  lCCC ;;              CCCC  ;;;:             :CC .;;. C;   ;    :   ;  :;;   \n",
      "  CCCC ;.              CCCC    ;;;,           CC ;    ; Ci  ;    :   ;  :  ;  \n",
      "   iCC :;               CC       ;;;,        ;C ;       CC  ;    :   ; .      \n",
      "  CCCi ;;               CCC        ;;;.      .C ;       tf  ;    :   ;  ;.    \n",
      "  CCC  ;;               CCC          ;;;;;;; fC :       lC  ;    :   ;    ;:  \n",
      "   iCf ;;               CC         :;;:      tC ;       CC  ;    :   ;     ;  \n",
      "  fCCC :;              LCCf      ;;;:         LC :.  ,: C   ;    ;   ; ;   ;  \n",
      "  CCCC  ;;             CCCC    ;;;:           CCi `;;` CC.  ;;;; :;.;.  ; ,;  \n",
      "    CCl ;;             CC    ;;;;              CCC    CCL                     \n",
      "   tCCC  ;;        ;; CCCL  ;;;                  tCCCCC.                      \n",
      "    CCCC  ;;     :;; CCCCf  ;                     ,L                          \n",
      "     lCCC   ;;;;;;  CCCL                                                      \n",
      "     CCCCCC  :;;  fCCCCC                                                      \n",
      "      . CCCC     CCCC .                                                       \n",
      "       .CCCCCCCCCCCCCi                                                        \n",
      "          iCCCCCLCf                                                           \n",
      "           .  C. ,                                                            \n",
      "              :                                                               \n",
      "Experimental Warning: MatlBuyPolicy is experimental and its API may be subject to change\n",
      "Experimental Warning: MatlSellPolicy is experimental and its API may be subject to change\n",
      "Experimental Warning: The Storage Facility is experimental.\n",
      "Experimental Warning: MatlBuyPolicy is experimental and its API may be subject to change\n",
      "Experimental Warning: MatlSellPolicy is experimental and its API may be subject to change\n",
      "Experimental Warning: The Storage Facility is experimental.\n",
      "<grammar xmlns=\"http://relaxng.org/ns/structure/1.0\"\n",
      "datatypeLibrary=\"http://www.w3.org/2001/XMLSchema-datatypes\">\n",
      "<start>\n",
      "\n",
      "<element name=\"simulation\">\n",
      "  <optional><element name=\"schematype\"><text/></element></optional>\n",
      "<interleave>\n",
      "\n",
      "  <optional><element name=\"ui\"><text/></element></optional>\n",
      "  \n",
      "  <element name =\"control\">\n",
      "    <interleave>\n",
      "      <optional>\n",
      "        <element name=\"simhandle\"> <data type=\"string\"/> </element>\n",
      "      </optional>\n",
      "      <element name=\"duration\"> <data type=\"nonNegativeInteger\"/> </element>\n",
      "      <element name=\"startmonth\"> <data type=\"nonNegativeInteger\"/> </element>\n",
      "      <element name=\"startyear\"> <data type=\"nonNegativeInteger\"/> </element>\n",
      "      <optional>\n",
      "        <element name=\"decay\"> <text/> </element>\n",
      "      </optional>\n",
      "      <optional> \n",
      "        <element name=\"dt\"><data type=\"nonNegativeInteger\"/></element> \n",
      "      </optional>\n",
      "      <optional>\n",
      "        <element name=\"explicit_inventory\"> <data type=\"boolean\"/> </element>\n",
      "      </optional>\n",
      "      <optional>\n",
      "        <element name=\"explicit_inventory_compact\"> <data type=\"boolean\"/> </element>\n",
      "      </optional>\n",
      "      <optional>\n",
      "          <element name=\"tolerance_generic\"><data type=\"double\"/></element>\n",
      "      </optional>\n",
      "      <optional>\n",
      "          <element name=\"tolerance_resource\"><data type=\"double\"/></element>\n",
      "      </optional>\n",
      "      <optional>\n",
      "        <element name=\"solver\"> \n",
      "          <interleave>\n",
      "            <optional><element name=\"config\">\n",
      "            <choice>\n",
      "              <element name=\"greedy\">\n",
      "                <interleave>\n",
      "                  <optional>\n",
      "                    <element name=\"preconditioner\"> <text/> </element>\n",
      "                  </optional>\n",
      "                </interleave>\n",
      "              </element>\n",
      "              <element name=\"coin-or\">\n",
      "                <interleave>\n",
      "                  <optional>\n",
      "                    <element name=\"timeout\">  <data type=\"positiveInteger\"/>  </element>\n",
      "                  </optional>\n",
      "                  <optional><element name=\"verbose\"><data type=\"boolean\"/></element></optional>\n",
      "                  <optional><element name=\"mps\"><data type=\"boolean\"/></element></optional>\n",
      "                </interleave>\n",
      "              </element>\n",
      "            </choice>\n",
      "            </element></optional>\n",
      "            <optional>\n",
      "              <element name=\"allow_exclusive_orders\">\n",
      "                <data type=\"boolean\" />\n",
      "              </element>\n",
      "            </optional>\n",
      "            <optional><!--deprecated. @TODO remove in release 1.5 -->\n",
      "              <element name=\"exclusive_orders_only\">\n",
      "                <data type=\"boolean\" />\n",
      "              </element>\n",
      "            </optional>\n",
      "          </interleave>\n",
      "        </element>\n",
      "      </optional>\n",
      "    </interleave>\n",
      "  </element>\n",
      "\n",
      "  <zeroOrMore>\n",
      "    <element name=\"commodity\">\n",
      "      <interleave>\n",
      "        <element name=\"name\"> <text/> </element>\n",
      "        <element name=\"solution_priority\"> <data type=\"double\"/> </element>\n",
      "      </interleave>\n",
      "    </element>\n",
      "  </zeroOrMore>\n",
      "    \n",
      "  <element name=\"archetypes\"> \n",
      "    <oneOrMore>\n",
      "      <element name=\"spec\">\n",
      "        <interleave>\n",
      "          <optional><element name=\"path\"><text/></element></optional>\n",
      "          <optional><element name=\"lib\"><text/></element></optional>\n",
      "          <element name=\"name\"><text/></element>\n",
      "          <optional><element name=\"alias\"><text/></element></optional>\n",
      "        </interleave>\n",
      "      </element>\n",
      "    </oneOrMore>\n",
      "  </element>\n",
      "\n",
      "  <oneOrMore>\n",
      "    <element name=\"facility\">\n",
      "      <interleave>\n",
      "        <element name=\"name\"> <text/> </element>\n",
      "        <optional>\n",
      "          <element name=\"lifetime\"> <data type=\"nonNegativeInteger\"/> </element>\n",
      "        </optional>\n",
      "\n",
      "        <element name=\"config\">\n",
      "          <choice>\n",
      "          <element name=\"Enrichment\">\n",
      "<interleave>\n",
      "    <element name=\"feed_commod\">\n",
      "        <data type=\"string\"/>\n",
      "    </element>\n",
      "    <element name=\"feed_recipe\">\n",
      "        <data type=\"string\"/>\n",
      "    </element>\n",
      "    <element name=\"product_commod\">\n",
      "        <data type=\"string\"/>\n",
      "    </element>\n",
      "    <element name=\"tails_commod\">\n",
      "        <data type=\"string\"/>\n",
      "    </element>\n",
      "    <optional>\n",
      "        <element name=\"tails_assay\">\n",
      "            <data type=\"double\"/>\n",
      "        </element>\n",
      "    </optional>\n",
      "    <optional>\n",
      "        <element name=\"initial_feed\">\n",
      "            <data type=\"double\"/>\n",
      "        </element>\n",
      "    </optional>\n",
      "    <optional>\n",
      "        <element name=\"max_feed_inventory\">\n",
      "            <data type=\"double\"/>\n",
      "        </element>\n",
      "    </optional>\n",
      "    <optional>\n",
      "        <element name=\"max_enrich\">\n",
      "            <data type=\"double\">\n",
      "                <param name=\"minInclusive\">0</param>\n",
      "                <param name=\"maxInclusive\">1</param>\n",
      "            </data>\n",
      "        </element>\n",
      "    </optional>\n",
      "    <optional>\n",
      "        <element name=\"order_prefs\">\n",
      "            <data type=\"boolean\"/>\n",
      "        </element>\n",
      "    </optional>\n",
      "    <optional>\n",
      "        <element name=\"swu_capacity\">\n",
      "            <data type=\"double\"/>\n",
      "        </element>\n",
      "    </optional>\n",
      "    <optional>\n",
      "        <element name=\"latitude\">\n",
      "            <data type=\"double\"/>\n",
      "        </element>\n",
      "    </optional>\n",
      "    <optional>\n",
      "        <element name=\"longitude\">\n",
      "            <data type=\"double\"/>\n",
      "        </element>\n",
      "    </optional>\n",
      "</interleave>\n",
      "\n",
      "</element>\n",
      "<element name=\"Reactor\">\n",
      "<interleave>\n",
      "    <element name=\"fuel_incommods\">\n",
      "        <oneOrMore>\n",
      "            <element name=\"val\">\n",
      "                <data type=\"string\"/>\n",
      "            </element>\n",
      "        </oneOrMore>\n",
      "    </element>\n",
      "    <element name=\"fuel_inrecipes\">\n",
      "        <oneOrMore>\n",
      "            <element name=\"val\">\n",
      "                <data type=\"string\"/>\n",
      "            </element>\n",
      "        </oneOrMore>\n",
      "    </element>\n",
      "    <optional>\n",
      "        <element name=\"fuel_prefs\">\n",
      "            <oneOrMore>\n",
      "                <element name=\"val\">\n",
      "                    <data type=\"double\"/>\n",
      "                </element>\n",
      "            </oneOrMore>\n",
      "        </element>\n",
      "    </optional>\n",
      "    <element name=\"fuel_outcommods\">\n",
      "        <oneOrMore>\n",
      "            <element name=\"val\">\n",
      "                <data type=\"string\"/>\n",
      "            </element>\n",
      "        </oneOrMore>\n",
      "    </element>\n",
      "    <element name=\"fuel_outrecipes\">\n",
      "        <oneOrMore>\n",
      "            <element name=\"val\">\n",
      "                <data type=\"string\"/>\n",
      "            </element>\n",
      "        </oneOrMore>\n",
      "    </element>\n",
      "    <optional>\n",
      "        <element name=\"recipe_change_times\">\n",
      "            <oneOrMore>\n",
      "                <element name=\"val\">\n",
      "                    <data type=\"int\"/>\n",
      "                </element>\n",
      "            </oneOrMore>\n",
      "        </element>\n",
      "    </optional>\n",
      "    <optional>\n",
      "        <element name=\"recipe_change_commods\">\n",
      "            <oneOrMore>\n",
      "                <element name=\"val\">\n",
      "                    <data type=\"string\"/>\n",
      "                </element>\n",
      "            </oneOrMore>\n",
      "        </element>\n",
      "    </optional>\n",
      "    <optional>\n",
      "        <element name=\"recipe_change_in\">\n",
      "            <oneOrMore>\n",
      "                <element name=\"val\">\n",
      "                    <data type=\"string\"/>\n",
      "                </element>\n",
      "            </oneOrMore>\n",
      "        </element>\n",
      "    </optional>\n",
      "    <optional>\n",
      "        <element name=\"recipe_change_out\">\n",
      "            <oneOrMore>\n",
      "                <element name=\"val\">\n",
      "                    <data type=\"string\"/>\n",
      "                </element>\n",
      "            </oneOrMore>\n",
      "        </element>\n",
      "    </optional>\n",
      "    <element name=\"assem_size\">\n",
      "        <data type=\"double\"/>\n",
      "    </element>\n",
      "    <element name=\"n_assem_batch\">\n",
      "        <data type=\"int\"/>\n",
      "    </element>\n",
      "    <optional>\n",
      "        <element name=\"n_assem_core\">\n",
      "            <data type=\"int\"/>\n",
      "        </element>\n",
      "    </optional>\n",
      "    <optional>\n",
      "        <element name=\"n_assem_fresh\">\n",
      "            <data type=\"int\"/>\n",
      "        </element>\n",
      "    </optional>\n",
      "    <optional>\n",
      "        <element name=\"n_assem_spent\">\n",
      "            <data type=\"int\"/>\n",
      "        </element>\n",
      "    </optional>\n",
      "    <optional>\n",
      "        <element name=\"cycle_time\">\n",
      "            <data type=\"int\"/>\n",
      "        </element>\n",
      "    </optional>\n",
      "    <optional>\n",
      "        <element name=\"refuel_time\">\n",
      "            <data type=\"int\"/>\n",
      "        </element>\n",
      "    </optional>\n",
      "    <optional>\n",
      "        <element name=\"cycle_step\">\n",
      "            <data type=\"int\"/>\n",
      "        </element>\n",
      "    </optional>\n",
      "    <optional>\n",
      "        <element name=\"power_cap\">\n",
      "            <data type=\"double\"/>\n",
      "        </element>\n",
      "    </optional>\n",
      "    <optional>\n",
      "        <element name=\"power_name\">\n",
      "            <data type=\"string\"/>\n",
      "        </element>\n",
      "    </optional>\n",
      "    <optional>\n",
      "        <element name=\"side_products\">\n",
      "            <oneOrMore>\n",
      "                <element name=\"val\">\n",
      "                    <data type=\"string\"/>\n",
      "                </element>\n",
      "            </oneOrMore>\n",
      "        </element>\n",
      "    </optional>\n",
      "    <optional>\n",
      "        <element name=\"side_product_quantity\">\n",
      "            <oneOrMore>\n",
      "                <element name=\"val\">\n",
      "                    <data type=\"double\"/>\n",
      "                </element>\n",
      "            </oneOrMore>\n",
      "        </element>\n",
      "    </optional>\n",
      "    <optional>\n",
      "        <element name=\"decom_transmute_all\">\n",
      "            <data type=\"boolean\"/>\n",
      "        </element>\n",
      "    </optional>\n",
      "    <optional>\n",
      "        <element name=\"pref_change_times\">\n",
      "            <oneOrMore>\n",
      "                <element name=\"val\">\n",
      "                    <data type=\"int\"/>\n",
      "                </element>\n",
      "            </oneOrMore>\n",
      "        </element>\n",
      "    </optional>\n",
      "    <optional>\n",
      "        <element name=\"pref_change_commods\">\n",
      "            <oneOrMore>\n",
      "                <element name=\"val\">\n",
      "                    <data type=\"string\"/>\n",
      "                </element>\n",
      "            </oneOrMore>\n",
      "        </element>\n",
      "    </optional>\n",
      "    <optional>\n",
      "        <element name=\"pref_change_values\">\n",
      "            <oneOrMore>\n",
      "                <element name=\"val\">\n",
      "                    <data type=\"double\"/>\n",
      "                </element>\n",
      "            </oneOrMore>\n",
      "        </element>\n",
      "    </optional>\n",
      "    <optional>\n",
      "        <element name=\"latitude\">\n",
      "            <data type=\"double\"/>\n",
      "        </element>\n",
      "    </optional>\n",
      "    <optional>\n",
      "        <element name=\"longitude\">\n",
      "            <data type=\"double\"/>\n",
      "        </element>\n",
      "    </optional>\n",
      "</interleave>\n",
      "\n",
      "</element>\n",
      "<element name=\"Sink\">\n",
      "<interleave>\n",
      "    <element name=\"in_commods\">\n",
      "        <oneOrMore>\n",
      "            <element name=\"val\">\n",
      "                <data type=\"string\"/>\n",
      "            </element>\n",
      "        </oneOrMore>\n",
      "    </element>\n",
      "    <optional>\n",
      "        <element name=\"in_commod_prefs\">\n",
      "            <oneOrMore>\n",
      "                <element name=\"val\">\n",
      "                    <data type=\"double\"/>\n",
      "                </element>\n",
      "            </oneOrMore>\n",
      "        </element>\n",
      "    </optional>\n",
      "    <optional>\n",
      "        <element name=\"recipe_name\">\n",
      "            <data type=\"string\"/>\n",
      "        </element>\n",
      "    </optional>\n",
      "    <optional>\n",
      "        <element name=\"max_inv_size\">\n",
      "            <data type=\"double\"/>\n",
      "        </element>\n",
      "    </optional>\n",
      "    <optional>\n",
      "        <element name=\"capacity\">\n",
      "            <data type=\"double\"/>\n",
      "        </element>\n",
      "    </optional>\n",
      "    <optional>\n",
      "        <element name=\"latitude\">\n",
      "            <data type=\"double\"/>\n",
      "        </element>\n",
      "    </optional>\n",
      "    <optional>\n",
      "        <element name=\"longitude\">\n",
      "            <data type=\"double\"/>\n",
      "        </element>\n",
      "    </optional>\n",
      "</interleave>\n",
      "\n",
      "</element>\n",
      "<element name=\"Source\">\n",
      "<interleave>\n",
      "    <element name=\"outcommod\">\n",
      "        <data type=\"string\"/>\n",
      "    </element>\n",
      "    <optional>\n",
      "        <element name=\"outrecipe\">\n",
      "            <data type=\"string\"/>\n",
      "        </element>\n",
      "    </optional>\n",
      "    <optional>\n",
      "        <element name=\"inventory_size\">\n",
      "            <data type=\"double\"/>\n",
      "        </element>\n",
      "    </optional>\n",
      "    <optional>\n",
      "        <element name=\"throughput\">\n",
      "            <data type=\"double\"/>\n",
      "        </element>\n",
      "    </optional>\n",
      "    <optional>\n",
      "        <element name=\"latitude\">\n",
      "            <data type=\"double\"/>\n",
      "        </element>\n",
      "    </optional>\n",
      "    <optional>\n",
      "        <element name=\"longitude\">\n",
      "            <data type=\"double\"/>\n",
      "        </element>\n",
      "    </optional>\n",
      "</interleave>\n",
      "\n",
      "</element>\n",
      "<element name=\"Storage\">\n",
      "<interleave>\n",
      "    <element name=\"in_commods\">\n",
      "        <oneOrMore>\n",
      "            <element name=\"val\">\n",
      "                <data type=\"string\"/>\n",
      "            </element>\n",
      "        </oneOrMore>\n",
      "    </element>\n",
      "    <optional>\n",
      "        <element name=\"in_commod_prefs\">\n",
      "            <oneOrMore>\n",
      "                <element name=\"val\">\n",
      "                    <data type=\"double\"/>\n",
      "                </element>\n",
      "            </oneOrMore>\n",
      "        </element>\n",
      "    </optional>\n",
      "    <element name=\"out_commods\">\n",
      "        <oneOrMore>\n",
      "            <element name=\"val\">\n",
      "                <data type=\"string\"/>\n",
      "            </element>\n",
      "        </oneOrMore>\n",
      "    </element>\n",
      "    <optional>\n",
      "        <element name=\"in_recipe\">\n",
      "            <data type=\"string\"/>\n",
      "        </element>\n",
      "    </optional>\n",
      "    <optional>\n",
      "        <element name=\"residence_time\">\n",
      "            <data type=\"int\"/>\n",
      "        </element>\n",
      "    </optional>\n",
      "    <optional>\n",
      "        <element name=\"throughput\">\n",
      "            <data type=\"double\"/>\n",
      "        </element>\n",
      "    </optional>\n",
      "    <optional>\n",
      "        <element name=\"max_inv_size\">\n",
      "            <data type=\"double\"/>\n",
      "        </element>\n",
      "    </optional>\n",
      "    <optional>\n",
      "        <element name=\"discrete_handling\">\n",
      "            <data type=\"boolean\"/>\n",
      "        </element>\n",
      "    </optional>\n",
      "    <optional>\n",
      "        <element name=\"latitude\">\n",
      "            <data type=\"double\"/>\n",
      "        </element>\n",
      "    </optional>\n",
      "    <optional>\n",
      "        <element name=\"longitude\">\n",
      "            <data type=\"double\"/>\n",
      "        </element>\n",
      "    </optional>\n",
      "</interleave>\n",
      "\n",
      "</element>\n",
      "\n",
      "          </choice>\n",
      "        </element>\n",
      "      </interleave>\n",
      "    </element>\n",
      "  </oneOrMore>\n",
      "\n",
      "  <oneOrMore>\n",
      "    <element name=\"region\"> <interleave>\n",
      "      <element name=\"name\"> <text/> </element>\n",
      "      <optional>\n",
      "        <element name=\"lifetime\"> <data type=\"nonNegativeInteger\"/> </element>\n",
      "      </optional>\n",
      "\n",
      "      <element name=\"config\">\n",
      "        <choice>\n",
      "        <element name=\"NullRegion\">\n",
      "<text/>\n",
      "\n",
      "</element>\n",
      "\n",
      "        </choice>\n",
      "      </element>\n",
      "\n",
      "      <oneOrMore>\n",
      "        <element name=\"institution\"> <interleave>\n",
      "          <element name=\"name\"> <text/> </element>\n",
      "          <optional>\n",
      "            <element name=\"lifetime\"> <data type=\"nonNegativeInteger\"/> </element>\n",
      "          </optional>\n",
      "\n",
      "          <optional>\n",
      "            <element name=\"initialfacilitylist\">\n",
      "              <oneOrMore>\n",
      "                <element name=\"entry\">\n",
      "                  <interleave>\n",
      "                    <element name=\"prototype\"> <text/> </element>\n",
      "                    <element name=\"number\"> <data type=\"nonNegativeInteger\"/> </element>\n",
      "                  </interleave>\n",
      "                </element>\n",
      "              </oneOrMore>\n",
      "            </element>\n",
      "          </optional>\n",
      "\n",
      "          <element name=\"config\">\n",
      "            <choice>\n",
      "            <element name=\"DeployInst\">\n",
      "<interleave>\n",
      "    <element name=\"prototypes\">\n",
      "        <oneOrMore>\n",
      "            <element name=\"val\">\n",
      "                <data type=\"string\"/>\n",
      "            </element>\n",
      "        </oneOrMore>\n",
      "    </element>\n",
      "    <element name=\"build_times\">\n",
      "        <oneOrMore>\n",
      "            <element name=\"val\">\n",
      "                <data type=\"int\"/>\n",
      "            </element>\n",
      "        </oneOrMore>\n",
      "    </element>\n",
      "    <element name=\"n_build\">\n",
      "        <oneOrMore>\n",
      "            <element name=\"val\">\n",
      "                <data type=\"int\"/>\n",
      "            </element>\n",
      "        </oneOrMore>\n",
      "    </element>\n",
      "    <optional>\n",
      "        <element name=\"lifetimes\">\n",
      "            <oneOrMore>\n",
      "                <element name=\"val\">\n",
      "                    <data type=\"int\"/>\n",
      "                </element>\n",
      "            </oneOrMore>\n",
      "        </element>\n",
      "    </optional>\n",
      "    <optional>\n",
      "        <element name=\"latitude\">\n",
      "            <data type=\"double\"/>\n",
      "        </element>\n",
      "    </optional>\n",
      "    <optional>\n",
      "        <element name=\"longitude\">\n",
      "            <data type=\"double\"/>\n",
      "        </element>\n",
      "    </optional>\n",
      "</interleave>\n",
      "\n",
      "</element>\n",
      "<element name=\"ManagerInst\">\n",
      "<interleave>\n",
      "    <element name=\"prototypes\">\n",
      "        <oneOrMore>\n",
      "            <element name=\"val\">\n",
      "                <data type=\"string\"/>\n",
      "            </element>\n",
      "        </oneOrMore>\n",
      "    </element>\n",
      "    <optional>\n",
      "        <element name=\"latitude\">\n",
      "            <data type=\"double\"/>\n",
      "        </element>\n",
      "    </optional>\n",
      "    <optional>\n",
      "        <element name=\"longitude\">\n",
      "            <data type=\"double\"/>\n",
      "        </element>\n",
      "    </optional>\n",
      "</interleave>\n",
      "\n",
      "</element>\n",
      "\n",
      "            </choice>\n",
      "          </element>\n",
      "        </interleave> </element>\n",
      "      </oneOrMore>\n",
      "\n",
      "    </interleave> </element>\n",
      "  </oneOrMore>\n",
      "\n",
      "  <zeroOrMore>\n",
      "    <element name=\"recipe\">\n",
      "      <interleave>\n",
      "        <element name=\"name\"><text/></element>\n",
      "        <element name=\"basis\"><text/></element>\n",
      "        <oneOrMore>\n",
      "          <element name=\"nuclide\">\n",
      "            <interleave>\n",
      "              <element name=\"id\"><data type=\"string\"/></element>\n",
      "              <element name=\"comp\"><data type=\"double\"/></element>\n",
      "            </interleave>\n",
      "          </element>\n",
      "        </oneOrMore>\n",
      "      </interleave>\n",
      "    </element>\n",
      "  </zeroOrMore>\n",
      "\n",
      "</interleave> </element>\n",
      "\n",
      "</start>\n",
      "\n",
      "</grammar>\n",
      "\n"
     ]
    },
    {
     "name": "stdout",
     "output_type": "stream",
     "text": [
      "Experimental Warning: MatlBuyPolicy is experimental and its API may be subject to change\n",
      "Experimental Warning: MatlSellPolicy is experimental and its API may be subject to change\n",
      "Experimental Warning: The Storage Facility is experimental.\n",
      "Experimental Warning: MatlBuyPolicy is experimental and its API may be subject to change\n",
      "Experimental Warning: MatlSellPolicy is experimental and its API may be subject to change\n",
      "Experimental Warning: The Storage Facility is experimental.\n",
      "Experimental Warning: MatlBuyPolicy is experimental and its API may be subject to change\n",
      "Experimental Warning: MatlSellPolicy is experimental and its API may be subject to change\n",
      "Experimental Warning: The Storage Facility is experimental.\n",
      "Experimental Warning: MatlBuyPolicy is experimental and its API may be subject to change\n",
      "Experimental Warning: MatlSellPolicy is experimental and its API may be subject to change\n",
      "Experimental Warning: The Storage Facility is experimental.\n",
      "Experimental Warning: MatlBuyPolicy is experimental and its API may be subject to change\n",
      "Experimental Warning: MatlSellPolicy is experimental and its API may be subject to change\n",
      "Experimental Warning: The Storage Facility is experimental.\n",
      "Experimental Warning: MatlBuyPolicy is experimental and its API may be subject to change\n",
      "Experimental Warning: MatlSellPolicy is experimental and its API may be subject to change\n",
      "Experimental Warning: The Storage Facility is experimental.\n",
      "Experimental Warning: MatlBuyPolicy is experimental and its API may be subject to change\n",
      "Experimental Warning: MatlSellPolicy is experimental and its API may be subject to change\n",
      "Experimental Warning: The Storage Facility is experimental.\n",
      "Experimental Warning: MatlBuyPolicy is experimental and its API may be subject to change\n",
      "Experimental Warning: MatlSellPolicy is experimental and its API may be subject to change\n",
      "Experimental Warning: The Storage Facility is experimental.\n",
      "Experimental Warning: MatlBuyPolicy is experimental and its API may be subject to change\n",
      "Experimental Warning: MatlSellPolicy is experimental and its API may be subject to change\n",
      "Experimental Warning: The Storage Facility is experimental.\n",
      "Experimental Warning: MatlBuyPolicy is experimental and its API may be subject to change\n",
      "Experimental Warning: MatlSellPolicy is experimental and its API may be subject to change\n",
      "Experimental Warning: The Storage Facility is experimental.\n",
      "Experimental Warning: MatlBuyPolicy is experimental and its API may be subject to change\n",
      "Experimental Warning: MatlSellPolicy is experimental and its API may be subject to change\n",
      "Experimental Warning: The Storage Facility is experimental.\n",
      "Experimental Warning: MatlBuyPolicy is experimental and its API may be subject to change\n",
      "Experimental Warning: MatlSellPolicy is experimental and its API may be subject to change\n",
      "Experimental Warning: The Storage Facility is experimental.\n",
      "Further Experimental Warnings will be suppressed.\n",
      "\n",
      "Status: Cyclus run successful!\n",
      "Output location: ../outputs/united_states_2020.sqlite\n",
      "Simulation ID: fe98bae5-2162-4a0a-9334-8da89caed5a5\n"
     ]
    }
   ],
   "source": [
    "! rm ../outputs/united_states_2020.sqlite\n",
    "! cyclus -i ../inputs/united_states_2020.xml -o ../outputs/united_states_2020.sqlite"
   ]
  },
  {
   "cell_type": "code",
   "execution_count": 15,
   "metadata": {},
   "outputs": [],
   "source": [
    "import numpy as np\n",
    "import pandas as pd\n",
    "import math\n",
    "import matplotlib.pyplot as plt\n",
    "from functools import reduce"
   ]
  },
  {
   "cell_type": "code",
   "execution_count": 14,
   "metadata": {},
   "outputs": [],
   "source": [
    "import cymetric as cym\n",
    "from cymetric import timeseries\n",
    "from cymetric import filters\n",
    "from cymetric import tools\n",
    "\n",
    "import transition_metrics as tm"
   ]
  },
  {
   "cell_type": "code",
   "execution_count": 17,
   "metadata": {},
   "outputs": [],
   "source": [
    "current_outfile = '../outputs/united_states_2020.sqlite'\n",
    "mmr_outfile = '../outputs/united_states_mmr.sqlite'\n",
    "xe100_outfile = '../outputs/united_states_xe100.sqlite'"
   ]
  },
  {
   "cell_type": "code",
   "execution_count": 22,
   "metadata": {},
   "outputs": [],
   "source": [
    "current_nonlwr = ['Sink_HLW', 'Sink_LLW', 'Mine', 'Mill',\n",
    "                 'Enrichment', 'FuelFab', 'DryStorage',\n",
    "                 'WetStorage', 'FuelCycle', 'UNITED_STATES_OF_AMERICA']"
   ]
  },
  {
   "cell_type": "markdown",
   "metadata": {},
   "source": [
    "## Reactors Built and Decommissioned\n",
    "\n",
    "This section plots the number of each reactor type in the simulation as a function of time"
   ]
  },
  {
   "cell_type": "code",
   "execution_count": 23,
   "metadata": {},
   "outputs": [
    {
     "name": "stderr",
     "output_type": "stream",
     "text": [
      "/home/amandabachmann/transition-scenarios/input/haleu/analysis/transition_metrics.py:98: SettingWithCopyWarning: \n",
      "A value is trying to be set on a copy of a slice from a DataFrame\n",
      "\n",
      "See the caveats in the documentation: https://pandas.pydata.org/pandas-docs/stable/user_guide/indexing.html#returning-a-view-versus-a-copy\n",
      "  df['Year'][index] = np.round(df['Time'][index] / 12 + 1965, 2)\n"
     ]
    }
   ],
   "source": [
    "current_reactors = tm.rx_commission_decommission(current_outfile, current_nonlwr)\n",
    "current_reactors = tm.add_year(current_reactors)"
   ]
  },
  {
   "cell_type": "code",
   "execution_count": 25,
   "metadata": {
    "scrolled": false
   },
   "outputs": [
    {
     "data": {
      "image/png": "[encoded data removed]",
      "text/plain": [
       "<Figure size 1440x720 with 1 Axes>"
      ]
     },
     "metadata": {
      "needs_background": "light"
     },
     "output_type": "display_data"
    }
   ],
   "source": [
    "tm.plot_metric(current_reactors, ['Year','lwr_total'], ['Year','Number of Reactors','Prototype', 'LWR'])\n",
    "#plt.savefig('figures/rx_deployment_2020.png')"
   ]
  },
  {
   "cell_type": "markdown",
   "metadata": {},
   "source": [
    "# Calculating annual throughputs"
   ]
  },
  {
   "cell_type": "markdown",
   "metadata": {},
   "source": [
    "## Calculating annual enriched U supplied by enrichment facility (product)"
   ]
  },
  {
   "cell_type": "code",
   "execution_count": 265,
   "metadata": {},
   "outputs": [
    {
     "name": "stderr",
     "output_type": "stream",
     "text": [
      "/home/amandabachmann/anaconda3/envs/cyclus-env/lib/python3.6/site-packages/ipykernel_launcher.py:87: SettingWithCopyWarning: \n",
      "A value is trying to be set on a copy of a slice from a DataFrame\n",
      "\n",
      "See the caveats in the documentation: https://pandas.pydata.org/pandas-docs/stable/user_guide/indexing.html#returning-a-view-versus-a-copy\n"
     ]
    }
   ],
   "source": [
    "enriched_u = tm.calculate_throughput('../outputs/united_states_2020.sqlite', 'enr_u')"
   ]
  },
  {
   "cell_type": "code",
   "execution_count": 267,
   "metadata": {
    "scrolled": false
   },
   "outputs": [
    {
     "data": {
      "image/png": "[encoded data removed]",
      "text/plain": [
       "<Figure size 1440x720 with 1 Axes>"
      ]
     },
     "metadata": {
      "needs_background": "light"
     },
     "output_type": "display_data"
    }
   ],
   "source": [
    "tm.plot_metric(enriched_u, ['Year', 'enr_u'], ['Year', 'Mass (kg)','Commodity', '4.5% U-235'])"
   ]
  },
  {
   "cell_type": "markdown",
   "metadata": {},
   "source": [
    "## Calculating annual feed material"
   ]
  },
  {
   "cell_type": "code",
   "execution_count": 268,
   "metadata": {},
   "outputs": [
    {
     "name": "stderr",
     "output_type": "stream",
     "text": [
      "/home/amandabachmann/anaconda3/envs/cyclus-env/lib/python3.6/site-packages/ipykernel_launcher.py:87: SettingWithCopyWarning: \n",
      "A value is trying to be set on a copy of a slice from a DataFrame\n",
      "\n",
      "See the caveats in the documentation: https://pandas.pydata.org/pandas-docs/stable/user_guide/indexing.html#returning-a-view-versus-a-copy\n"
     ]
    }
   ],
   "source": [
    "uf6 = tm.calculate_throughput('../outputs/united_states_2020.sqlite', 'uf6')"
   ]
  },
  {
   "cell_type": "code",
   "execution_count": 269,
   "metadata": {},
   "outputs": [
    {
     "data": {
      "image/png": "[encoded data removed]",
      "text/plain": [
       "<Figure size 1440x720 with 1 Axes>"
      ]
     },
     "metadata": {
      "needs_background": "light"
     },
     "output_type": "display_data"
    }
   ],
   "source": [
    "tm.plot_metric(uf6, ['Year', 'uf6'], ['Year', 'Mass (kg)','Commodity', 'natural UF6'])"
   ]
  },
  {
   "cell_type": "markdown",
   "metadata": {},
   "source": [
    "## Calculating annual tails production"
   ]
  },
  {
   "cell_type": "code",
   "execution_count": 270,
   "metadata": {},
   "outputs": [
    {
     "name": "stderr",
     "output_type": "stream",
     "text": [
      "/home/amandabachmann/anaconda3/envs/cyclus-env/lib/python3.6/site-packages/ipykernel_launcher.py:87: SettingWithCopyWarning: \n",
      "A value is trying to be set on a copy of a slice from a DataFrame\n",
      "\n",
      "See the caveats in the documentation: https://pandas.pydata.org/pandas-docs/stable/user_guide/indexing.html#returning-a-view-versus-a-copy\n"
     ]
    }
   ],
   "source": [
    "tails = tm.calculate_throughput('../outputs/united_states_2020.sqlite', 'tails')"
   ]
  },
  {
   "cell_type": "code",
   "execution_count": 271,
   "metadata": {},
   "outputs": [
    {
     "data": {
      "image/png": "[encoded data removed]",
      "text/plain": [
       "<Figure size 1440x720 with 1 Axes>"
      ]
     },
     "metadata": {
      "needs_background": "light"
     },
     "output_type": "display_data"
    }
   ],
   "source": [
    "tm.plot_metric(tails, ['Year', 'tails'], ['Year', 'Mass (kg)','Commodity', 'Tails'])"
   ]
  },
  {
   "cell_type": "code",
   "execution_count": 303,
   "metadata": {},
   "outputs": [
    {
     "data": {
      "image/png": "[encoded data removed]",
      "text/plain": [
       "<Figure size 1440x720 with 1 Axes>"
      ]
     },
     "metadata": {
      "needs_background": "light"
     },
     "output_type": "display_data"
    }
   ],
   "source": [
    "current_us_commodities = tm.merge_databases([enriched_u, uf6, tails])\n",
    "tm.plot_metric(current_us_commodities, ['Year', 'enr_u', 'uf6', 'tails'], \n",
    "            ['Year', 'Mass (kg)', 'Commodity', r'4.5% $^{235}$U', r'UF$_6$','tails'])"
   ]
  },
  {
   "cell_type": "markdown",
   "metadata": {},
   "source": [
    "## Determining feed, tails, and product assay"
   ]
  },
  {
   "cell_type": "code",
   "execution_count": 133,
   "metadata": {},
   "outputs": [],
   "source": [
    "#Defining assays\n",
    "x_p = 0.045\n",
    "x_f = 0.00711\n",
    "x_t = 0.002"
   ]
  },
  {
   "cell_type": "markdown",
   "metadata": {},
   "source": [
    "## SWU Calculation\n",
    "SWU = (P*V(x_p) + T*V(x_t) - F*V(x_f))*t\n",
    "\n",
    "V(x_i) = (2*x_i-1)*ln(x_i/(1-x_i))"
   ]
  },
  {
   "cell_type": "code",
   "execution_count": 210,
   "metadata": {},
   "outputs": [
    {
     "data": {
      "text/plain": [
       "4870.271760515327"
      ]
     },
     "execution_count": 210,
     "metadata": {},
     "output_type": "execute_result"
    }
   ],
   "source": [
    "tm.calculate_SWU(100, x_p, 742.94, x_t, 842.94, x_f)"
   ]
  },
  {
   "cell_type": "code",
   "execution_count": 236,
   "metadata": {},
   "outputs": [
    {
     "name": "stderr",
     "output_type": "stream",
     "text": [
      "/home/amandabachmann/anaconda3/envs/cyclus-env/lib/python3.6/site-packages/ipykernel_launcher.py:87: SettingWithCopyWarning: \n",
      "A value is trying to be set on a copy of a slice from a DataFrame\n",
      "\n",
      "See the caveats in the documentation: https://pandas.pydata.org/pandas-docs/stable/user_guide/indexing.html#returning-a-view-versus-a-copy\n"
     ]
    },
    {
     "data": {
      "image/png": "[encoded data removed]",
      "text/plain": [
       "<Figure size 1440x720 with 1 Axes>"
      ]
     },
     "metadata": {
      "needs_background": "light"
     },
     "output_type": "display_data"
    }
   ],
   "source": [
    "SWU = tm.calculate_SWU(enriched_u['enr_u'], x_p, tails['tails'], x_t, uf6['uf6'], x_f)\n",
    "Annual_SWU = SWU.to_frame().reset_index()\n",
    "Annual_SWU = tm.add_year(Annual_SWU)\n",
    "#Annual_SWU.columns\n",
    "Annual_SWU = Annual_SWU.rename(columns={0:'SWU'})\n",
    "tm.plot_metric(Annual_SWU, ['Year', 'SWU'], ['Year', 'SWU Capacity Needed', 'Scenario', 'Current US'])"
   ]
  },
  {
   "cell_type": "markdown",
   "metadata": {},
   "source": [
    "## Calculate eletricity output"
   ]
  },
  {
   "cell_type": "code",
   "execution_count": 29,
   "metadata": {
    "scrolled": false
   },
   "outputs": [
    {
     "data": {
      "image/png": "[encoded data removed]",
      "text/plain": [
       "<Figure size 1440x720 with 1 Axes>"
      ]
     },
     "metadata": {
      "needs_background": "light"
     },
     "output_type": "display_data"
    }
   ],
   "source": [
    "tm.plot_metric(energy_output, ['Year', 'Energy (GW)'])"
   ]
  },
  {
   "cell_type": "code",
   "execution_count": 30,
   "metadata": {},
   "outputs": [
    {
     "data": {
      "text/plain": [
       "96535.58333333334"
      ]
     },
     "execution_count": 30,
     "metadata": {},
     "output_type": "execute_result"
    }
   ],
   "source": [
    "max(energy_output['Energy (GW)'])"
   ]
  },
  {
   "cell_type": "code",
   "execution_count": null,
   "metadata": {},
   "outputs": [],
   "source": []
  }
 ],
 "metadata": {
  "kernelspec": {
   "display_name": "Python 3",
   "language": "python",
   "name": "python3"
  },
  "language_info": {
   "codemirror_mode": {
    "name": "ipython",
    "version": 3
   },
   "file_extension": ".py",
   "mimetype": "text/x-python",
   "name": "python",
   "nbconvert_exporter": "python",
   "pygments_lexer": "ipython3",
   "version": "3.6.11"
  }
 },
 "nbformat": 4,
 "nbformat_minor": 4
}
