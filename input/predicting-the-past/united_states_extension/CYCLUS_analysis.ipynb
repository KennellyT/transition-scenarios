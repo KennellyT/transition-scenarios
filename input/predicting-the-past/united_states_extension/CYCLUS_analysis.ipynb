{
 "cells": [
  {
   "cell_type": "markdown",
   "metadata": {},
   "source": [
    "# Predicting the Past, United States Extension -- CYCLUS Analysis"
   ]
  },
  {
   "cell_type": "markdown",
   "metadata": {},
   "source": [
    "## Introduction\n",
    "This is an extension of Predicting the Past, United States.\n",
    "The extension includes comparisons between Cyclus output and CURIE data at year 2020 for: \n",
    " - Total spent fuel mass \n",
    " - Mass of major isotopes in spent fuel \n",
    "\n",
    "In this notebook, the preliminary analysis of _CYCLUS_ data is done. \n",
    "\n",
    "The subsequent sections that set up Cyclus input files from `vision_recipes.xls` recipes and `reactors_pris_2016.csv` deployment data are taken from the Predicting the Past, United States ipynb. "
   ]
  },
  {
   "cell_type": "markdown",
   "metadata": {},
   "source": [
    "**Import necessary libraries**"
   ]
  },
  {
   "cell_type": "code",
   "execution_count": 3,
   "metadata": {},
   "outputs": [],
   "source": [
    "import csv\n",
    "import collections\n",
    "import dateutil.parser as date\n",
    "import jinja2\n",
    "import matplotlib.pyplot as plt\n",
    "import numpy as np\n",
    "import os\n",
    "import pathlib\n",
    "import sys\n",
    "import sqlite3 as lite\n",
    "from matplotlib import cm\n",
    "from pyne import nucname as nn\n",
    "from IPython.display import Image\n",
    "\n",
    "sys.path.append('../../../scripts/')\n",
    "import analysis as an\n",
    "\n",
    "region = 'united_states'"
   ]
  },
  {
   "cell_type": "markdown",
   "metadata": {},
   "source": [
    "**Read fuel recipe data** "
   ]
  },
  {
   "cell_type": "code",
   "execution_count": 3,
   "metadata": {},
   "outputs": [],
   "source": [
    "def import_csv(in_csv, delimit):\n",
    "    \"\"\" Imports contents of a csv text file to a list of\n",
    "    lists.\n",
    "\n",
    "    Parameters\n",
    "    ---------\n",
    "    in_csv: str\n",
    "        path and name of input csv file\n",
    "    delimit: str\n",
    "        delimiter of the csv file\n",
    "\n",
    "    Returns\n",
    "    -------\n",
    "    data_list: list\n",
    "        list of lists containing the csv data\n",
    "    \"\"\"\n",
    "    with open(in_csv, encoding='utf-8') as source:\n",
    "        sourcereader = csv.reader(source, delimiter=delimit)\n",
    "        data_list = []\n",
    "        for row in sourcereader:\n",
    "            data_list.append(row)\n",
    "    return data_list\n",
    "\n",
    "\n",
    "recipes = import_csv('../../../database/vision_recipes/uox.csv', ',')"
   ]
  },
  {
   "cell_type": "markdown",
   "metadata": {},
   "source": [
    "** Load template for CYCLUS file **"
   ]
  },
  {
   "cell_type": "code",
   "execution_count": 4,
   "metadata": {},
   "outputs": [],
   "source": [
    "def load_template(in_template):\n",
    "    \"\"\" Returns a jinja2 template from file.\n",
    "\n",
    "    Parameters\n",
    "    ---------\n",
    "    in_template: str\n",
    "        path and name of jinja2 template\n",
    "\n",
    "    Returns\n",
    "    -------\n",
    "    output_template: jinja template object\n",
    "    \"\"\"\n",
    "    with open(in_template, 'r') as default:\n",
    "        output_template = jinja2.Template(default.read())\n",
    "    return output_template\n",
    "\n",
    "\n",
    "recipe_template = load_template('../templates/recipes_template.xml')"
   ]
  },
  {
   "cell_type": "markdown",
   "metadata": {},
   "source": [
    "** Select appropriate recipe for a given burnup **"
   ]
  },
  {
   "cell_type": "code",
   "execution_count": 5,
   "metadata": {},
   "outputs": [],
   "source": [
    "def get_composition_fresh(in_list, burnup):\n",
    "    \"\"\" Returns a dictionary of isotope and composition (in mass fraction)\n",
    "    using vision_recipes for fresh UOX fuel.\n",
    "\n",
    "    Parameters\n",
    "    ---------\n",
    "    in_list: list\n",
    "        list containing vision_recipes\n",
    "    burnup: int\n",
    "        burnup\n",
    "\n",
    "    Returns\n",
    "    -------\n",
    "    data_dict: dict\n",
    "        dictionary with key=[isotope],\n",
    "        and value=[composition]\n",
    "    \"\"\"\n",
    "    data_dict = {}\n",
    "    for i in range(len(in_list)):\n",
    "        if i > 1:\n",
    "            if burnup == 33:\n",
    "                data_dict.update({nn.id(in_list[i][0]):\n",
    "                                  float(in_list[i][1])})\n",
    "            elif burnup == 51:\n",
    "                data_dict.update({nn.id(in_list[i][0]):\n",
    "                                  float(in_list[i][3])})\n",
    "            else:\n",
    "                data_dict.update({nn.id(in_list[i][0]):\n",
    "                                  float(in_list[i][5])})\n",
    "    return data_dict\n",
    "\n",
    "\n",
    "def get_composition_spent(in_list, burnup):\n",
    "    \"\"\" Returns a dictionary of isotope and composition (in mass fraction)\n",
    "    using vision_recipes for spent nuclear fuel\n",
    "\n",
    "    Parameters\n",
    "    ---------\n",
    "    in_list: list\n",
    "        list containing vision_recipes data\n",
    "    burnup: int\n",
    "        burnup\n",
    "\n",
    "    Returns\n",
    "    -------\n",
    "    data_dict: dict\n",
    "        dictionary with key=[isotope],\n",
    "        and value=[composition]\n",
    "    \"\"\"\n",
    "    data_dict = {}\n",
    "    for i in range(len(in_list)):\n",
    "        if i > 1:\n",
    "            if burnup == 33:\n",
    "                data_dict.update({nn.id(in_list[i][0]):\n",
    "                                  float(in_list[i][2])})\n",
    "            elif burnup == 51:\n",
    "                data_dict.update({nn.id(in_list[i][0]):\n",
    "                                  float(in_list[i][4])})\n",
    "            else:\n",
    "                data_dict.update({nn.id(in_list[i][0]):\n",
    "                                  float(in_list[i][6])})\n",
    "    return data_dict\n",
    "\n",
    "fresh = get_composition_fresh(recipes, 51)\n",
    "spent = get_composition_spent(recipes, 51)"
   ]
  },
  {
   "cell_type": "markdown",
   "metadata": {},
   "source": [
    "** Render recipe template with recipe data **"
   ]
  },
  {
   "cell_type": "code",
   "execution_count": 6,
   "metadata": {},
   "outputs": [],
   "source": [
    "def write_recipes(fresh_dict, spent_dict, in_template, burnup, region):\n",
    "    \"\"\" Renders jinja template using fresh and spent fuel composition.\n",
    "\n",
    "    Parameters\n",
    "    ---------\n",
    "    fresh_dict: dict\n",
    "        dictionary with key=[isotope], and\n",
    "        value=[composition] for fresh UOX\n",
    "    spent_dict: dict\n",
    "        dictionary with key=[isotope], and\n",
    "        value=[composition] for spent fuel\n",
    "    in_template: jinja template object\n",
    "        jinja template object to be rendered\n",
    "    burnup: int\n",
    "        amount of burnup\n",
    "\n",
    "    Returns\n",
    "    -------\n",
    "    null\n",
    "        generates recipe files for cyclus.\n",
    "    \"\"\"\n",
    "    out_path = 'cyclus/input/' + region + '/recipes/'\n",
    "    pathlib.Path(out_path).mkdir(parents=True, exist_ok=True)\n",
    "    rendered = in_template.render(fresh=fresh_dict,\n",
    "                                  spent=spent_dict)\n",
    "    with open(out_path + '/uox_' + str(burnup) + '.xml', 'w') as output:\n",
    "        output.write(rendered)\n",
    "\n",
    "\n",
    "write_recipes(fresh, spent, recipe_template, 33, region)\n",
    "write_recipes(fresh, spent, recipe_template, 51, region)\n",
    "write_recipes(fresh, spent, recipe_template, 100, region)"
   ]
  },
  {
   "cell_type": "markdown",
   "metadata": {},
   "source": [
    "** Obtain deployment data **"
   ]
  },
  {
   "cell_type": "code",
   "execution_count": 7,
   "metadata": {},
   "outputs": [],
   "source": [
    "pris = import_csv('../../../database/reactors_pris_2016.csv', ',')"
   ]
  },
  {
   "cell_type": "markdown",
   "metadata": {},
   "source": [
    "** Select reactors in the specified region **"
   ]
  },
  {
   "cell_type": "code",
   "execution_count": 8,
   "metadata": {},
   "outputs": [],
   "source": [
    "def select_region(in_list, region):\n",
    "    \"\"\" Returns a list of reactors that will be deployed for\n",
    "    CYCLUS by checking the capacity and commercial date\n",
    "\n",
    "    Parameters\n",
    "    ----------\n",
    "    in_list: list\n",
    "            imported csv file in list format\n",
    "    region: str\n",
    "            name of the region\n",
    "\n",
    "    Returns\n",
    "    -------\n",
    "    reactor_list: list\n",
    "            list of reactors from PRIS\n",
    "    \"\"\"\n",
    "    ASIA = {'IRAN', 'JAPAN', 'KAZAKHSTAN',\n",
    "            'BANGLADESH', 'CHINA', 'INDIA',\n",
    "            'UNITED ARAB EMIRATES', 'VIETNAM',\n",
    "            'PAKISTAN', 'PHILIPPINES', 'SOUTH KOREA'\n",
    "            }\n",
    "    UNITED_STATES = {'UNITED STATES'}\n",
    "    SOUTH_AMERICA = {'ARGENTINA', 'BRAZIL'}\n",
    "    NORTH_AMERICA = {'CANADA', 'MEXICO', 'UNITED STATES'}\n",
    "    EUROPE = {'UKRAINE', 'UNITED KINGDOM',\n",
    "              'POLAND', 'ROMANIA', 'RUSSIA',\n",
    "              'BELARUS', 'BELGIUM', 'BULGARIA',\n",
    "              'GERMANY', 'ITALY', 'NETHERLANDS',\n",
    "              'SWEDEN', 'SWITZERLAND', 'TURKEY',\n",
    "              'SLOVENIA', 'SOVIET UNION', 'SPAIN',\n",
    "              'CZECHOSLOVAKIA', 'FINLAND', 'FRANCE'\n",
    "              }\n",
    "    AFRICA = {'EGYPT', 'MOROCCO', 'SOUTH AFRICA', 'TUNISIA'}\n",
    "    ALL = (SOUTH_AMERICA | NORTH_AMERICA |\n",
    "           EUROPE | ASIA | AFRICA | UNITED_STATES)\n",
    "    regions = {'ASIA': ASIA,\n",
    "               'AFRICA': AFRICA,\n",
    "               'EUROPE': EUROPE,\n",
    "               'SOUTH_AMERICA': SOUTH_AMERICA,\n",
    "               'NORTH_AMERICA': NORTH_AMERICA,\n",
    "               'UNITED_STATES': UNITED_STATES,\n",
    "               'ALL': ALL}\n",
    "    if region.upper() not in regions.keys():\n",
    "        raise ValueError(region + 'is not a valid region')\n",
    "    reactor_list = []\n",
    "    for row in in_list:\n",
    "        country = row[0]\n",
    "        if country.upper() in regions[region.upper()]:\n",
    "            capacity = row[3]\n",
    "            start_date = row[10]\n",
    "            if confirm_deployment(start_date, capacity):\n",
    "                reactor_list.append(row)\n",
    "    return reactor_list\n",
    "\n",
    "\n",
    "def confirm_deployment(date_str, capacity):\n",
    "    \"\"\" Confirms if reactor is to be deployed for CYCLUS by\n",
    "    checking if the capacity > 400 and if the commercial date\n",
    "    is a proper date format.\n",
    "\n",
    "    Parameters\n",
    "    ----------\n",
    "    date_str: str\n",
    "            the commercial date string from PRIS data file\n",
    "    capacity: str\n",
    "            capacity in MWe from RPIS data file\n",
    "\n",
    "    Returns\n",
    "    -------\n",
    "    is_deployed: bool\n",
    "            determines whether the reactor will be deployed\n",
    "            in CYCLUS\n",
    "    \"\"\"\n",
    "    is_deployed = False\n",
    "    if len(date_str) > 4 and float(capacity) > 400:\n",
    "        try:\n",
    "            date.parse(date_str)\n",
    "            is_deployed = True\n",
    "        except:\n",
    "            pass\n",
    "    return is_deployed\n",
    "\n",
    "\n",
    "reactor_list = select_region(pris, 'UNITED_STATES')"
   ]
  },
  {
   "cell_type": "markdown",
   "metadata": {},
   "source": [
    "** Select and render useful reactor information **"
   ]
  },
  {
   "cell_type": "code",
   "execution_count": 9,
   "metadata": {},
   "outputs": [],
   "source": [
    "def write_reactors(in_list, out_path, reactor_template):\n",
    "    \"\"\" Renders CYCAMORE::reactor specifications using jinja2.\n",
    "\n",
    "    Parameters\n",
    "    ----------\n",
    "    in_list: list\n",
    "        list containing PRIS data\n",
    "    out_path: str\n",
    "        output path for reactor files\n",
    "    reactor_template: str\n",
    "        path to reactor template\n",
    "\n",
    "    Returns\n",
    "    -------\n",
    "    null\n",
    "        writes xml files with CYCAMORE::reactor config\n",
    "    \"\"\"\n",
    "    if out_path[-1] != '/':\n",
    "        out_path += '/'\n",
    "    pathlib.Path(out_path).mkdir(parents=True, exist_ok=True)\n",
    "    reactor_template = load_template(reactor_template)\n",
    "    for row in in_list:\n",
    "        capacity = float(row[3])\n",
    "        if capacity >= 400:\n",
    "            name = row[1].replace(' ', '_')\n",
    "            assem_per_batch = 0\n",
    "            assem_no = 0\n",
    "            assem_size = 0\n",
    "            reactor_type = row[2]\n",
    "            latitude = row[13] if row[13] != '' else 0\n",
    "            longitude = row[14] if row[14] != '' else 0\n",
    "            if reactor_type in ['BWR', 'ESBWR']:\n",
    "                assem_no = 732\n",
    "                assem_per_batch = int(assem_no / 3)\n",
    "                assem_size = 138000 / assem_no\n",
    "            elif reactor_type in ['GCR', 'HWGCR']:  # Need batch number\n",
    "                assem_no = 324\n",
    "                assem_per_batch = int(assem_no / 3)\n",
    "                assem_size = 114000 / assem_no\n",
    "            elif reactor_type == 'HTGR':  # Need batch number\n",
    "                assem_no = 3944\n",
    "                assem_per_batch = int(assem_no / 3)\n",
    "                assem_size = 39000 / assem_no\n",
    "            elif reactor_type == 'PHWR':\n",
    "                assem_no = 390\n",
    "                assem_per_batch = int(assem_no / 45)\n",
    "                assem_size = 80000 / assem_no\n",
    "            elif reactor_type == 'VVER':  # Need batch number\n",
    "                assem_no = 312\n",
    "                assem_per_batch = int(assem_no / 3)\n",
    "                assem_size = 41500 / assem_no\n",
    "            elif reactor_type == 'VVER-1200':  # Need batch number\n",
    "                assem_no = 163\n",
    "                assem_per_batch = int(assem_no / 3)\n",
    "                assem_size = 80000 / assem_no\n",
    "            else:\n",
    "                assem_no = 241\n",
    "                assem_per_batch = int(assem_no / 3)\n",
    "                assem_size = 103000 / assem_no\n",
    "            config = reactor_template.render(name=name,\n",
    "                                             lifetime=get_lifetime(row),\n",
    "                                             assem_size=assem_size,\n",
    "                                             n_assem_core=assem_no,\n",
    "                                             n_assem_batch=assem_per_batch,\n",
    "                                             power_cap=row[3],\n",
    "                                             lon=longitude,\n",
    "                                             lat=latitude)\n",
    "            with open(out_path + name.replace(' ', '_') + '.xml',\n",
    "                      'w') as output:\n",
    "                output.write(config)\n",
    "\n",
    "\n",
    "def get_lifetime(in_row):\n",
    "    \"\"\" Calculates the lifetime of a reactor using first\n",
    "    commercial date and shutdown date. Defaults to 720 months\n",
    "    if shutdown date is not available.\n",
    "\n",
    "    Parameters\n",
    "    ----------\n",
    "    in_row: list\n",
    "        single row from PRIS data that contains reactor\n",
    "        information\n",
    "\n",
    "    Returns\n",
    "    -------\n",
    "    lifetime: int\n",
    "        lifetime of reactor\n",
    "    \"\"\"\n",
    "    comm_date = in_row[10]\n",
    "    shutdown_date = in_row[11]\n",
    "    if not shutdown_date.strip():\n",
    "        return 720\n",
    "    else:\n",
    "        n_days_month = 365.0 / 12\n",
    "        delta = (date.parse(shutdown_date) - date.parse(comm_date)).days\n",
    "        return int(delta / n_days_month)\n",
    "\n",
    "\n",
    "out_path = 'cyclus/input/' + region + '/reactors'\n",
    "reactor_template = '../templates/reactors_template.xml'\n",
    "write_reactors(reactor_list, out_path, reactor_template)"
   ]
  },
  {
   "cell_type": "markdown",
   "metadata": {},
   "source": [
    "** Deployment of Reactors **"
   ]
  },
  {
   "cell_type": "code",
   "execution_count": 10,
   "metadata": {},
   "outputs": [
    {
     "name": "stdout",
     "output_type": "stream",
     "text": [
      "cyclus/input/united_states/reactors\n",
      "HADDAM_NECK :  ('United States', 37)\n"
     ]
    }
   ],
   "source": [
    "def deploy_reactors(in_csv, region, start_year, deployinst_template,\n",
    "                    inclusions_template, reactors_path, deployment_path):\n",
    "    \"\"\" Generates xml files that specify the reactors that will be included\n",
    "    in a CYCLUS simulation.\n",
    "\n",
    "    Parameters\n",
    "    ---------\n",
    "    in_csv: str\n",
    "        path to pris reactor database\n",
    "    region: str\n",
    "        region name\n",
    "    start_year: int\n",
    "        starting year of simulation\n",
    "    deployinst_template: str\n",
    "        path to deployinst template\n",
    "    inclusions_template: str\n",
    "        path to inclusions template\n",
    "    reactors_path: str\n",
    "        path containing reactor files\n",
    "    deployment_path: str\n",
    "        output path for deployinst xml\n",
    "\n",
    "    Returns\n",
    "    -------\n",
    "    buildtime_dict: dict\n",
    "        dictionary with key=[name of reactor], and\n",
    "        value=[set of country and buildtime]\n",
    "    \"\"\"\n",
    "    lists = []\n",
    "    if reactors_path[-1] != '/':\n",
    "        reactors_path += '/'\n",
    "    for files in os.listdir(reactors_path):\n",
    "        lists.append(reactors_path + files)\n",
    "    in_data = import_csv(in_csv, ',')\n",
    "    reactor_list = select_region(in_data, region)\n",
    "    buildtime = get_buildtime(reactor_list, start_year, lists)\n",
    "    write_deployment(buildtime, deployment_path, deployinst_template,\n",
    "                     inclusions_template)\n",
    "    return buildtime\n",
    "\n",
    "\n",
    "def get_buildtime(in_list, start_year, path_list):\n",
    "    \"\"\" Calculates the buildtime required for reactor\n",
    "    deployment in months.\n",
    "\n",
    "    Parameters\n",
    "    ----------\n",
    "    in_list: list\n",
    "        list of reactors\n",
    "    start_year: int\n",
    "        starting year of simulation\n",
    "    path_list: list\n",
    "        list of paths to reactor files\n",
    "\n",
    "    Returns\n",
    "    -------\n",
    "    buildtime_dict: dict\n",
    "        dictionary with key=[name of reactor], and\n",
    "        value=[set of country and buildtime]\n",
    "    \"\"\"\n",
    "    buildtime_dict = {}\n",
    "    for row in in_list:\n",
    "        comm_date = date.parse(row[10])\n",
    "        start_date = [comm_date.year, comm_date.month, comm_date.day]\n",
    "        delta = ((start_date[0] - int(start_year)) * 12 +\n",
    "                 (start_date[1]) +\n",
    "                 round(start_date[2] / (365.0 / 12)))\n",
    "        for index, reactor in enumerate(path_list):\n",
    "            name = row[1].replace(' ', '_')\n",
    "            country = row[0]\n",
    "            file_name = (reactor.replace(\n",
    "                os.path.dirname(path_list[index]), '')).replace('/', '')\n",
    "            if (name + '.xml' == file_name):\n",
    "                buildtime_dict.update({name: (country, delta)})\n",
    "    return buildtime_dict\n",
    "\n",
    "\n",
    "def write_deployment(in_dict, out_path, deployinst_template,\n",
    "                     inclusions_template):\n",
    "    \"\"\" Renders jinja template using dictionary of reactor name and buildtime.\n",
    "    Outputs an xml file that uses xinclude to include the reactor xml files\n",
    "    located in cyclus_input/reactors.\n",
    "\n",
    "    Parameters\n",
    "    ---------\n",
    "    in_dict: dictionary\n",
    "        dictionary with key=[reactor name], and value=[buildtime]\n",
    "    out_path: str\n",
    "        output path for files\n",
    "    deployinst_template: str\n",
    "        path to deployinst template\n",
    "    inclusions_template: str\n",
    "        path to inclusions template\n",
    "\n",
    "    Returns\n",
    "    -------\n",
    "    null\n",
    "        generates input files that have deployment and xml inclusions\n",
    "    \"\"\"\n",
    "    if out_path[-1] != '/':\n",
    "        out_path += '/'\n",
    "    pathlib.Path(out_path).mkdir(parents=True, exist_ok=True)\n",
    "    deployinst_template = load_template(deployinst_template)\n",
    "    inclusions_template = load_template(inclusions_template)\n",
    "    country_list = {value[0] for value in in_dict.values()}\n",
    "    for nation in country_list:\n",
    "        temp_dict = {}\n",
    "        for reactor in in_dict.keys():\n",
    "            if in_dict[reactor][0].upper() == nation.upper():\n",
    "                temp_dict.update({reactor: in_dict[reactor][1]})\n",
    "        pathlib.Path(out_path + nation.replace(' ', '_') +\n",
    "                     '/').mkdir(parents=True, exist_ok=True)\n",
    "        deployinst = deployinst_template.render(reactors=temp_dict)\n",
    "        with open(out_path + nation.replace(' ', '_') +\n",
    "                  '/deployinst.xml', 'w') as output1:\n",
    "            output1.write(deployinst)\n",
    "    inclusions = inclusions_template.render(reactors=in_dict)\n",
    "    with open(out_path + 'inclusions.xml', 'w') as output2:\n",
    "        output2.write(inclusions)\n",
    "\n",
    "\n",
    "pris_file = '../../../database/reactors_pris_2016.csv'\n",
    "deployinst_tmpl = '../templates/' + region + '/deployinst_template.xml'\n",
    "inclusions_tmpl = '../templates/inclusions_template.xml'\n",
    "reactor_path = 'cyclus/input/' + region + '/reactors'\n",
    "dployment_path = 'cyclus/input/' + region + '/buildtimes'\n",
    "\n",
    "buildtime = deploy_reactors(pris_file, region, 1965, deployinst_tmpl,\n",
    "                            inclusions_tmpl, reactor_path, dployment_path)\n",
    "print(reactor_path)\n",
    "for k in list(buildtime.keys())[:1]:\n",
    "    print(k, ': ', buildtime[k])"
   ]
  },
  {
   "cell_type": "markdown",
   "metadata": {},
   "source": [
    "** Render Final Cyclus input file **"
   ]
  },
  {
   "cell_type": "code",
   "execution_count": 11,
   "metadata": {},
   "outputs": [],
   "source": [
    "def render_cyclus(cyclus_template, region, in_dict, out_path):\n",
    "    \"\"\" Renders final CYCLUS input file with xml base, and institutions\n",
    "    for each country\n",
    "\n",
    "    Parameters\n",
    "    ----------\n",
    "    cyclus_template: str\n",
    "        path to CYCLUS input file template\n",
    "    region: str\n",
    "        region chosen for CYCLUS simulation\n",
    "    in_dict: dictionary\n",
    "        in_dict should be buildtime_dict from get_buildtime function\n",
    "    out_path: str\n",
    "        output path for CYCLUS input file\n",
    "    output_name:\n",
    "\n",
    "    Returns\n",
    "    -------\n",
    "    null\n",
    "        writes CYCLUS input file in out_path\n",
    "    \"\"\"\n",
    "    if out_path[-1] != '/':\n",
    "        out_path += '/'\n",
    "    cyclus_template = load_template(cyclus_template)\n",
    "    country_list = {value[0].replace(' ', '_') for value in in_dict.values()}\n",
    "    rendered = cyclus_template.render(countries=country_list,\n",
    "                                      base_dir=os.path.abspath(out_path) + '/')\n",
    "    with open(out_path + region + '.xml', 'w') as output:\n",
    "        output.write(rendered)\n",
    "\n",
    "\n",
    "cyclus_tmpl = ('../templates/' + region + '/' + region + '_template.xml')\n",
    "render_cyclus(cyclus_tmpl, region, buildtime, 'cyclus/input/')"
   ]
  },
  {
   "cell_type": "markdown",
   "metadata": {},
   "source": [
    "** Run Cyclus Simulation **"
   ]
  },
  {
   "cell_type": "code",
   "execution_count": 16,
   "metadata": {},
   "outputs": [
    {
     "name": "stdout",
     "output_type": "stream",
     "text": [
      "rm: cannot remove 'cyclus/united_states.sqlite': No such file or directory\n",
      "              :                                                               \n",
      "          .CL:CC CC             _Q     _Q  _Q_Q    _Q    _Q              _Q   \n",
      "        CC;CCCCCCCC:C;         /_\\)   /_\\)/_/\\\\)  /_\\)  /_\\)            /_\\)  \n",
      "        CCCCCCCCCCCCCl       __O|/O___O|/O_OO|/O__O|/O__O|/O____________O|/O__\n",
      "     CCCCCCf     iCCCLCC     /////////////////////////////////////////////////\n",
      "     iCCCt  ;;;;;.  CCCC                                                      \n",
      "    CCCC  ;;;;;;;;;. CClL.                          c                         \n",
      "   CCCC ,;;       ;;: CCCC  ;                   : CCCCi                       \n",
      "    CCC ;;         ;;  CC   ;;:                CCC`   `C;                     \n",
      "  lCCC ;;              CCCC  ;;;:             :CC .;;. C;   ;    :   ;  :;;   \n",
      "  CCCC ;.              CCCC    ;;;,           CC ;    ; Ci  ;    :   ;  :  ;  \n",
      "   iCC :;               CC       ;;;,        ;C ;       CC  ;    :   ; .      \n",
      "  CCCi ;;               CCC        ;;;.      .C ;       tf  ;    :   ;  ;.    \n",
      "  CCC  ;;               CCC          ;;;;;;; fC :       lC  ;    :   ;    ;:  \n",
      "   iCf ;;               CC         :;;:      tC ;       CC  ;    :   ;     ;  \n",
      "  fCCC :;              LCCf      ;;;:         LC :.  ,: C   ;    ;   ; ;   ;  \n",
      "  CCCC  ;;             CCCC    ;;;:           CCi `;;` CC.  ;;;; :;.;.  ; ,;  \n",
      "    CCl ;;             CC    ;;;;              CCC    CCL                     \n",
      "   tCCC  ;;        ;; CCCL  ;;;                  tCCCCC.                      \n",
      "    CCCC  ;;     :;; CCCCf  ;                     ,L                          \n",
      "     lCCC   ;;;;;;  CCCL                                                      \n",
      "     CCCCCC  :;;  fCCCCC                                                      \n",
      "      . CCCC     CCCC .                                                       \n",
      "       .CCCCCCCCCCCCCi                                                        \n",
      "          iCCCCCLCf                                                           \n",
      "           .  C. ,                                                            \n",
      "              :                                                               \n",
      "\n",
      "Status: Cyclus run successful!\n",
      "Output location: ./cyclus/united_states.sqlite\n",
      "Simulation ID: 47ca904f-5553-4827-bb2b-3821235d5abb\n"
     ]
    }
   ],
   "source": [
    "!rm cyclus/united_states.sqlite\n",
    "!cyclus -i ./cyclus/input/united_states.xml -o ./cyclus/united_states.sqlite --warn-limit 0"
   ]
  },
  {
   "cell_type": "markdown",
   "metadata": {},
   "source": [
    "# Analysis & Results"
   ]
  },
  {
   "cell_type": "markdown",
   "metadata": {},
   "source": [
    "** Connect to SQLite file **"
   ]
  },
  {
   "cell_type": "code",
   "execution_count": 4,
   "metadata": {},
   "outputs": [],
   "source": [
    "def get_cursor(file_name):\n",
    "    \"\"\" Connects and returns a cursor to an sqlite output file\n",
    "\n",
    "    Parameters\n",
    "    ----------\n",
    "    file_name: str\n",
    "        name of the sqlite file\n",
    "\n",
    "    Returns\n",
    "    -------\n",
    "    sqlite cursor\n",
    "    \"\"\"\n",
    "    con = lite.connect(file_name)\n",
    "    con.row_factory = lite.Row\n",
    "    return con.cursor()\n",
    "\n",
    "\n",
    "cursor = get_cursor('cyclus/united_states.sqlite')"
   ]
  },
  {
   "cell_type": "markdown",
   "metadata": {},
   "source": [
    "** Get simulation start time, duration and timestep **"
   ]
  },
  {
   "cell_type": "code",
   "execution_count": 5,
   "metadata": {},
   "outputs": [
    {
     "name": "stdout",
     "output_type": "stream",
     "text": [
      "Year:  1965 \n",
      "Month:  1 \n",
      "Duration:  1020 \n",
      "Timestep:  [  0.00000000e+00   1.00000000e+00   2.00000000e+00 ...,   1.01700000e+03\n",
      "   1.01800000e+03   1.01900000e+03]\n"
     ]
    }
   ],
   "source": [
    "def get_timesteps(cur):\n",
    "    \"\"\" Returns simulation start year, month, duration and\n",
    "    timesteps (in numpy linspace).\n",
    "\n",
    "    Parameters\n",
    "    ----------\n",
    "    cur: sqlite cursor\n",
    "        sqlite cursor\n",
    "\n",
    "    Returns\n",
    "    -------\n",
    "    init_year: int\n",
    "        start year of simulation\n",
    "    init_month: int\n",
    "        start month of simulation\n",
    "    duration: int\n",
    "        duration of simulation\n",
    "    timestep: list\n",
    "        linspace up to duration\n",
    "    \"\"\"\n",
    "    info = cur.execute('SELECT initialyear, initialmonth, '\n",
    "                       'duration FROM info').fetchone()\n",
    "    init_year = info['initialyear']\n",
    "    init_month = info['initialmonth']\n",
    "    duration = info['duration']\n",
    "    timestep = np.linspace(0, duration - 1, num=duration)\n",
    "\n",
    "    return init_year, init_month, duration, timestep\n",
    "\n",
    "ini_yr, ini_month, dur, timestep = get_timesteps(cursor)\n",
    "print('Year: ', ini_yr, '\\nMonth: ', ini_month, '\\nDuration: ',\n",
    "      dur, '\\nTimestep: ', timestep)"
   ]
  },
  {
   "cell_type": "markdown",
   "metadata": {},
   "source": [
    "** Spent Fuel Output by Reactors over Time **"
   ]
  },
  {
   "cell_type": "code",
   "execution_count": 53,
   "metadata": {},
   "outputs": [
    {
     "name": "stderr",
     "output_type": "stream",
     "text": [
      "/Users/gwenchee/anaconda3/lib/python3.6/site-packages/matplotlib/__init__.py:1717: MatplotlibDeprecationWarning: The *left* kwarg to `bar` is deprecated use *x* instead. Support for *left* will be removed in Matplotlib 3.0\n",
      "  return func(ax, *args, **kwargs)\n"
     ]
    },
    {
     "data": {
      "image/png": "[encoded data removed]",
      "text/plain": [
       "<IPython.core.display.Image object>"
      ]
     },
     "execution_count": 53,
     "metadata": {},
     "output_type": "execute_result"
    }
   ],
   "source": [
    "def spent_fuel_produced(cur): \n",
    "    \"\"\" Find timeseries of mass of spent fuel output by reactors \n",
    "    \n",
    "    Parameters \n",
    "    ----------\n",
    "    cur: sqlite cursor \n",
    "    \n",
    "    Returns \n",
    "    -------\n",
    "    timeseries list of spent fuel output by reactors\n",
    "    \"\"\"\n",
    "\n",
    "    init_yr, init_month, duration, timestep = get_timesteps(cursor)\n",
    "    spent_fuel = cur.execute('SELECT time, sum(quantity) FROM transactions '\n",
    "                             'INNER JOIN resources '\n",
    "                             'ON transactions.resourceid = resources.resourceid '\n",
    "                             'WHERE Commodity = \"spent_uox\" '\n",
    "                             'GROUP BY time ').fetchall()\n",
    "    return an.get_timeseries_cum(spent_fuel,duration,True)\n",
    "\n",
    "\n",
    "img_out = 'figures/'\n",
    "pathlib.Path(img_out).mkdir(parents=True, exist_ok=True)\n",
    "name = 'Spent_Fuel_output_over_Time'\n",
    "output_reactor = {'Spent_Fuel_Output': spent_fuel_produced(cursor)}\n",
    "an.stacked_bar_chart(output_reactor, timestep,\n",
    "                     'Time [Yr]', 'Spent Fuel Output by Reactors [MTHM]',\n",
    "                     name, img_out + name, ini_yr)\n",
    "    \n",
    "Image(filename=img_out + name + '.png')"
   ]
  },
  {
   "cell_type": "markdown",
   "metadata": {},
   "source": [
    "** Spent Fuel Output by Reactors over 1968 to 2013** "
   ]
  },
  {
   "cell_type": "code",
   "execution_count": 76,
   "metadata": {
    "scrolled": true
   },
   "outputs": [
    {
     "name": "stderr",
     "output_type": "stream",
     "text": [
      "/Users/gwenchee/anaconda3/lib/python3.6/site-packages/matplotlib/__init__.py:1717: MatplotlibDeprecationWarning: The *left* kwarg to `bar` is deprecated use *x* instead. Support for *left* will be removed in Matplotlib 3.0\n",
      "  return func(ax, *args, **kwargs)\n"
     ]
    },
    {
     "data": {
      "image/png": "[encoded data removed]",
      "text/plain": [
       "<IPython.core.display.Image object>"
      ]
     },
     "execution_count": 76,
     "metadata": {},
     "output_type": "execute_result"
    }
   ],
   "source": [
    "start_year = 1965\n",
    "end_year = 2014\n",
    "start_index = (start_year - 1965) * 12\n",
    "end_index = (end_year - 1965) * 12\n",
    "dura = end_year - start_year\n",
    "init_yr, init_month, duration, timestep = an.get_timesteps(cursor)\n",
    "\n",
    "def spent_fuel_produced(cur): \n",
    "    \"\"\" Find timeseries of mass of spent fuel output by reactors \n",
    "    \n",
    "    Parameters \n",
    "    ----------\n",
    "    cur: sqlite cursor \n",
    "    \n",
    "    Returns \n",
    "    -------\n",
    "    timeseries list of spent fuel output by reactors\n",
    "    \"\"\"\n",
    "\n",
    "    init_yr, init_month, duration, timestep = get_timesteps(cursor)\n",
    "    spent_fuel = cur.execute('SELECT time, sum(quantity) FROM transactions '\n",
    "                             'INNER JOIN resources '\n",
    "                             'ON transactions.resourceid = resources.resourceid '\n",
    "                             'WHERE Commodity = \"spent_uox\" '\n",
    "                             'GROUP BY time ').fetchall()\n",
    "    return an.get_timeseries_cum(spent_fuel,duration,True)\n",
    "\n",
    "timestep_range = timestep[start_index: end_index]\n",
    "full_range = spent_fuel_produced(cursor)\n",
    "generated_range = full_range[start_index: end_index]\n",
    "\n",
    "img_out = 'figures/'\n",
    "pathlib.Path(img_out).mkdir(parents=True, exist_ok=True)\n",
    "name = 'Spent_Fuel_output_over_Time(1968-2013)'\n",
    "output_reactor = {'Spent_Fuel_Output': generated_range}\n",
    "an.stacked_bar_chart(output_reactor, timestep_range,\n",
    "                     'Time [Yr]', 'Spent Fuel Output by Reactors [MTHM]',\n",
    "                     name, img_out + name, init_yr)\n",
    "    \n",
    "    \n",
    "Image(filename=img_out + name + '.png')"
   ]
  },
  {
   "cell_type": "code",
   "execution_count": null,
   "metadata": {},
   "outputs": [],
   "source": []
  },
  {
   "cell_type": "markdown",
   "metadata": {},
   "source": [
    "** Isotopic Cumulative Mass Breakdown for Spent Fuel Output over time** "
   ]
  },
  {
   "cell_type": "code",
   "execution_count": 23,
   "metadata": {},
   "outputs": [
    {
     "name": "stderr",
     "output_type": "stream",
     "text": [
      "/Users/gwenchee/anaconda3/lib/python3.6/site-packages/matplotlib/__init__.py:1717: MatplotlibDeprecationWarning: The *left* kwarg to `bar` is deprecated use *x* instead. Support for *left* will be removed in Matplotlib 3.0\n",
      "  return func(ax, *args, **kwargs)\n"
     ]
    },
    {
     "data": {
      "image/png": "[encoded data removed]",
      "text/plain": [
       "<IPython.core.display.Image object>"
      ]
     },
     "execution_count": 23,
     "metadata": {},
     "output_type": "execute_result"
    }
   ],
   "source": [
    "def isotope_list(cur):\n",
    "    \"\"\" Find list of isotopes present in spent fuel output by reactor \n",
    "    \n",
    "    Parameters \n",
    "    ----------\n",
    "    cur: sqlite cursor \n",
    "    \n",
    "    Returns \n",
    "    -------\n",
    "    list of isotopes in spent fuel output by reactors\n",
    "    \"\"\"    \n",
    "    \n",
    "    init_yr, init_month, duration, timestep = get_timesteps(cursor)\n",
    "    isotopes = cur.execute('SELECT time, sum(quantity)*massfrac FROM transactions '\n",
    "                           'INNER JOIN resources '\n",
    "                           'ON transactions.resourceid = resources.resourceid '\n",
    "                           'LEFT OUTER JOIN compositions '\n",
    "                           'ON resources.qualid = compositions.qualid '\n",
    "                           'WHERE Commodity = \"spent_uox\" AND nucid = 922380000 '\n",
    "                           ' GROUP BY time ').fetchall()\n",
    "    return an.get_timeseries_cum(isotopes,duration,True)\n",
    "\n",
    "img_out = 'figures/'\n",
    "pathlib.Path(img_out).mkdir(parents=True, exist_ok=True)\n",
    "name = '922380000_cum_Spent_Fuel_output_over_Time'\n",
    "isotope_output_reactor = {'Isotopes_Spent_Fuel_Output': isotope_list(cursor)}\n",
    "an.stacked_bar_chart(isotope_output_reactor, timestep,\n",
    "                     'Time [Yr]', 'Isotope (922380000) Cumulative Spent Fuel Output by Reactors [MTHM]',\n",
    "                     name, img_out + name, ini_yr)\n",
    "    \n",
    "Image(filename=img_out + name + '.png')"
   ]
  },
  {
   "cell_type": "markdown",
   "metadata": {},
   "source": [
    "** Isotopic Cumulative Mass Breakdown for Spent Fuel Output from 1968 - 2013 ** "
   ]
  },
  {
   "cell_type": "code",
   "execution_count": 82,
   "metadata": {},
   "outputs": [
    {
     "name": "stderr",
     "output_type": "stream",
     "text": [
      "/Users/gwenchee/anaconda3/lib/python3.6/site-packages/matplotlib/__init__.py:1717: MatplotlibDeprecationWarning: The *left* kwarg to `bar` is deprecated use *x* instead. Support for *left* will be removed in Matplotlib 3.0\n",
      "  return func(ax, *args, **kwargs)\n"
     ]
    },
    {
     "data": {
      "image/png": "[encoded data removed]",
      "text/plain": [
       "<IPython.core.display.Image object>"
      ]
     },
     "execution_count": 82,
     "metadata": {},
     "output_type": "execute_result"
    }
   ],
   "source": [
    "start_year = 1968\n",
    "end_year = 2014\n",
    "start_index = (start_year - 1965) * 12\n",
    "end_index = (end_year - 1965) * 12\n",
    "dura = end_year - start_year\n",
    "init_yr, init_month, duration, timestep = an.get_timesteps(cursor)\n",
    "\n",
    "def isotope_list(cur):\n",
    "    \"\"\" Find list of isotopes present in spent fuel output by reactor \n",
    "    \n",
    "    Parameters \n",
    "    ----------\n",
    "    cur: sqlite cursor \n",
    "    \n",
    "    Returns \n",
    "    -------\n",
    "    list of isotopes in spent fuel output by reactors\n",
    "    \"\"\"   \n",
    "    \n",
    "    init_yr, init_month, duration, timestep = an.get_timesteps(cursor)\n",
    "    isotopes = cur.execute('SELECT time, sum(quantity)*massfrac FROM transactions '\n",
    "                           'INNER JOIN resources '\n",
    "                           'ON transactions.resourceid = resources.resourceid '\n",
    "                           'LEFT OUTER JOIN compositions '\n",
    "                           'ON resources.qualid = compositions.qualid '\n",
    "                           'WHERE Commodity = \"spent_uox\" AND nucid = 922380000 '\n",
    "                           ' GROUP BY time ').fetchall()\n",
    "    return an.get_timeseries_cum(isotopes,duration,True)\n",
    "\n",
    "timestep_range = timestep[start_index: end_index]\n",
    "full_range = isotope_list(cursor)\n",
    "generated_range = full_range[start_index: end_index]\n",
    "\n",
    "img_out = 'figures/'\n",
    "pathlib.Path(img_out).mkdir(parents=True, exist_ok=True)\n",
    "name = '922380000_cum_Spent_Fuel_output_over_Time(1968~2013)'\n",
    "isotope_output_reactor = {'Isotopes_Spent_Fuel_Output': generated_range}\n",
    "an.stacked_bar_chart(isotope_output_reactor, timestep_range,\n",
    "                     'Time [Yr]', 'Isotope (922380000) Cumulative Spent Fuel Output by Reactors [MTHM]',\n",
    "                     name, img_out + name, 1965)\n",
    "    \n",
    "Image(filename=img_out + name + '.png')"
   ]
  },
  {
   "cell_type": "markdown",
   "metadata": {},
   "source": [
    "** Isotopic Non-Cumulative Mass Breakdown for Spent Fuel Output over time** "
   ]
  },
  {
   "cell_type": "code",
   "execution_count": 33,
   "metadata": {},
   "outputs": [
    {
     "name": "stderr",
     "output_type": "stream",
     "text": [
      "/Users/gwenchee/anaconda3/lib/python3.6/site-packages/matplotlib/__init__.py:1717: MatplotlibDeprecationWarning: The *left* kwarg to `bar` is deprecated use *x* instead. Support for *left* will be removed in Matplotlib 3.0\n",
      "  return func(ax, *args, **kwargs)\n"
     ]
    },
    {
     "data": {
      "image/png": "[encoded data removed]",
      "text/plain": [
       "<IPython.core.display.Image object>"
      ]
     },
     "execution_count": 33,
     "metadata": {},
     "output_type": "execute_result"
    }
   ],
   "source": [
    "def isotope_list(cur):\n",
    "    \"\"\" Find list of isotopes present in spent fuel output by reactor \n",
    "    \n",
    "    Parameters \n",
    "    ----------\n",
    "    cur: sqlite cursor \n",
    "    \n",
    "    Returns \n",
    "    -------\n",
    "    list of isotopes in spent fuel output by reactors\n",
    "    \"\"\"    \n",
    "    \n",
    "    init_yr, init_month, duration, timestep = get_timesteps(cursor)\n",
    "    isotopes = cur.execute('SELECT time, sum(quantity)*massfrac FROM transactions '\n",
    "                           'INNER JOIN resources '\n",
    "                           'ON transactions.resourceid = resources.resourceid '\n",
    "                           'LEFT OUTER JOIN compositions '\n",
    "                           'ON resources.qualid = compositions.qualid '\n",
    "                           'WHERE Commodity = \"spent_uox\" AND nucid = 922380000'\n",
    "                           ' GROUP BY time ').fetchall()\n",
    "    return an.get_timeseries(isotopes,duration,True)\n",
    "\n",
    "img_out = 'figures/'\n",
    "pathlib.Path(img_out).mkdir(parents=True, exist_ok=True)\n",
    "name = '922380000_noncum_Spent_Fuel_output_over_Time'\n",
    "isotope_output_reactor = {'Isotopes_Spent_Fuel_Output': isotope_list(cursor)}\n",
    "an.stacked_bar_chart(isotope_output_reactor, timestep,\n",
    "                     'Time [Yr]', 'Isotope (922380000) Non-Cumulative Spent Fuel Output by Reactors [MTHM]',\n",
    "                     name, img_out + name, ini_yr)\n",
    "    \n",
    "Image(filename=img_out + name + '.png')"
   ]
  },
  {
   "cell_type": "markdown",
   "metadata": {},
   "source": [
    "Isotopic non-cumulative Mass Breakdown for Spent Fuel Output from 1971 - 2013"
   ]
  },
  {
   "cell_type": "code",
   "execution_count": 36,
   "metadata": {},
   "outputs": [
    {
     "name": "stderr",
     "output_type": "stream",
     "text": [
      "/Users/gwenchee/anaconda3/lib/python3.6/site-packages/matplotlib/__init__.py:1717: MatplotlibDeprecationWarning: The *left* kwarg to `bar` is deprecated use *x* instead. Support for *left* will be removed in Matplotlib 3.0\n",
      "  return func(ax, *args, **kwargs)\n"
     ]
    },
    {
     "data": {
      "image/png": "[encoded data removed]",
      "text/plain": [
       "<IPython.core.display.Image object>"
      ]
     },
     "execution_count": 36,
     "metadata": {},
     "output_type": "execute_result"
    }
   ],
   "source": [
    "start_year = 1968\n",
    "end_year = 2014\n",
    "start_index = (start_year - 1965) * 12\n",
    "end_index = (end_year - 1965) * 12\n",
    "dura = end_year - start_year\n",
    "init_yr, init_month, duration, timestep = an.get_timesteps(cursor)\n",
    "\n",
    "def isotope_list(cur):\n",
    "    \"\"\" Find list of isotopes present in spent fuel output by reactor \n",
    "    \n",
    "    Parameters \n",
    "    ----------\n",
    "    cur: sqlite cursor \n",
    "    \n",
    "    Returns \n",
    "    -------\n",
    "    list of isotopes in spent fuel output by reactors\n",
    "    \"\"\"   \n",
    "    \n",
    "    init_yr, init_month, duration, timestep = an.get_timesteps(cursor)\n",
    "    isotopes = cur.execute('SELECT time, sum(quantity)*massfrac FROM transactions '\n",
    "                           'INNER JOIN resources '\n",
    "                           'ON transactions.resourceid = resources.resourceid '\n",
    "                           'LEFT OUTER JOIN compositions '\n",
    "                           'ON resources.qualid = compositions.qualid '\n",
    "                           'WHERE Commodity = \"spent_uox\" AND nucid = 922380000 '\n",
    "                           ' GROUP BY time ').fetchall()\n",
    "    return an.get_timeseries(isotopes,duration,True)\n",
    "\n",
    "timestep_range = timestep[start_index: end_index]\n",
    "full_range = isotope_list(cursor)\n",
    "generated_range = full_range[start_index: end_index]\n",
    "\n",
    "img_out = 'figures/'\n",
    "pathlib.Path(img_out).mkdir(parents=True, exist_ok=True)\n",
    "name = '922380000_non_cum_Spent_Fuel_output_over_Time(1968~2013)'\n",
    "isotope_output_reactor = {'Isotopes_Spent_Fuel_Output': generated_range}\n",
    "an.stacked_bar_chart(isotope_output_reactor, timestep_range,\n",
    "                     'Time [Yr]', 'Isotope (922380000) Non-Cumulative Spent Fuel Output by Reactors [MTHM]',\n",
    "                     name, img_out + name, 1965)\n",
    "    \n",
    "Image(filename=img_out + name + '.png')"
   ]
  }
 ],
 "metadata": {
  "kernelspec": {
   "display_name": "Python 3",
   "language": "python",
   "name": "python3"
  },
  "language_info": {
   "codemirror_mode": {
    "name": "ipython",
    "version": 3
   },
   "file_extension": ".py",
   "mimetype": "text/x-python",
   "name": "python",
   "nbconvert_exporter": "python",
   "pygments_lexer": "ipython3",
   "version": "3.6.4"
  }
 },
 "nbformat": 4,
 "nbformat_minor": 2
}
