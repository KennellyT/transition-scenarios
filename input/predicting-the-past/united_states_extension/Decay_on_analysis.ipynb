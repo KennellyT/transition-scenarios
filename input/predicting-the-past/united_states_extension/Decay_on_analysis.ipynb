{
 "cells": [
  {
   "cell_type": "code",
   "execution_count": 1,
   "metadata": {},
   "outputs": [],
   "source": [
    "import numpy as np\n",
    "import pandas as pd\n",
    "import matplotlib.pyplot as plt\n",
    "import matplotlib.dates as mdates\n",
    "\n",
    "import csv\n",
    "import collections\n",
    "import dateutil.parser as date\n",
    "import matplotlib.pyplot as plt\n",
    "import numpy as np\n",
    "import os\n",
    "import pathlib\n",
    "import sys\n",
    "import sqlite3 as lite\n",
    "from matplotlib import cm\n",
    "from pyne import nucname as nn\n",
    "from IPython.display import Image, HTML, display\n",
    "import seaborn as sns \n",
    "\n",
    "sys.path.append('../../../scripts/')\n",
    "import analysis as an"
   ]
  },
  {
   "cell_type": "code",
   "execution_count": 18,
   "metadata": {},
   "outputs": [],
   "source": [
    "# Before this step, must download the output sqlite files from the fuel-cycles box. \n",
    "# fuel-cycle/cyclus_output/predicting_the_past_validation \n",
    "# and put into a directory named cyclus \n",
    "\n",
    "def get_cursor(file_name):\n",
    "    \"\"\" Connects and returns a cursor to an sqlite output file\n",
    "\n",
    "    Parameters\n",
    "    ----------\n",
    "    file_name: str\n",
    "        name of the sqlite file\n",
    "\n",
    "    Returns\n",
    "    -------\n",
    "    sqlite cursor\n",
    "    \"\"\"\n",
    "    con = lite.connect(file_name)\n",
    "    con.row_factory = lite.Row\n",
    "    return con.cursor()\n",
    "\n",
    "\n",
    "cursor = get_cursor('cyclus/united_states_decayon.sqlite')"
   ]
  },
  {
   "cell_type": "code",
   "execution_count": 19,
   "metadata": {},
   "outputs": [],
   "source": [
    "def get_timesteps(cur):\n",
    "    \"\"\" Returns simulation start year, month, duration and\n",
    "    timesteps (in numpy linspace).\n",
    "\n",
    "    Parameters\n",
    "    ----------\n",
    "    cur: sqlite cursor\n",
    "        sqlite cursor\n",
    "\n",
    "    Returns\n",
    "    -------\n",
    "    init_year: int\n",
    "        start year of simulation\n",
    "    init_month: int\n",
    "        start month of simulation\n",
    "    duration: int\n",
    "        duration of simulation\n",
    "    timestep: list\n",
    "        linspace up to duration\n",
    "    \"\"\"\n",
    "    info = cur.execute('SELECT initialyear, initialmonth, '\n",
    "                       'duration FROM info').fetchone()\n",
    "    init_year = info['initialyear']\n",
    "    init_month = info['initialmonth']\n",
    "    duration = info['duration']\n",
    "    timestep = np.linspace(0, duration - 1, num=duration)\n",
    "\n",
    "    return init_year, init_month, duration, timestep"
   ]
  },
  {
   "cell_type": "code",
   "execution_count": 24,
   "metadata": {},
   "outputs": [],
   "source": [
    "def spent_fuel_produced(cur): \n",
    "    \"\"\" Find timeseries of mass of spent fuel output by reactors \n",
    "    \n",
    "    Parameters \n",
    "    ----------\n",
    "    cur: sqlite cursor \n",
    "    \n",
    "    Returns \n",
    "    -------\n",
    "    timeseries list of spent fuel output by reactors\n",
    "    \"\"\"\n",
    "\n",
    "    init_yr, init_month, duration, timestep = get_timesteps(cursor)\n",
    "    spent_fuel = cur.execute('SELECT time, sum(quantity) FROM transactions '\n",
    "                             'INNER JOIN resources '\n",
    "                             'ON transactions.resourceid = resources.resourceid '\n",
    "                             'WHERE Commodity = \"cool_spent_uox3\" '\n",
    "                             'GROUP BY time ').fetchall()\n",
    "    spent_fuel_list = an.get_timeseries(spent_fuel,duration,True)\n",
    "    spent_fuel_total = np.sum(spent_fuel_list)\n",
    "    return spent_fuel_total \n",
    "\n",
    "total_spentfuel = spent_fuel_produced(cursor)"
   ]
  },
  {
   "cell_type": "code",
   "execution_count": 25,
   "metadata": {},
   "outputs": [
    {
     "data": {
      "text/plain": [
       "7679.995986667509"
      ]
     },
     "execution_count": 25,
     "metadata": {},
     "output_type": "execute_result"
    }
   ],
   "source": [
    "total_spentfuel"
   ]
  },
  {
   "cell_type": "code",
   "execution_count": 43,
   "metadata": {},
   "outputs": [],
   "source": [
    "def isotope_total(cur):\n",
    "    \"\"\" Find list of isotopes present in spent fuel output by reactor \n",
    "    \n",
    "    Parameters \n",
    "    ----------\n",
    "    cur: sqlite cursor \n",
    "    \n",
    "    Returns \n",
    "    -------\n",
    "    list of isotopes in spent fuel output by reactors\n",
    "    \"\"\"    \n",
    "    \n",
    "    init_yr, init_month, duration, timestep = get_timesteps(cursor)\n",
    "    isotopes = cur.execute('SELECT time, sum(quantity)*massfrac FROM transactions '\n",
    "                           'INNER JOIN resources '\n",
    "                           'ON transactions.resourceid = resources.resourceid '\n",
    "                           'LEFT OUTER JOIN compositions '\n",
    "                           'ON resources.qualid = compositions.qualid '\n",
    "                           'WHERE Commodity = \"cool_spent_uox9\" AND nucid = 942390000 '\n",
    "                           ' GROUP BY time ').fetchall()\n",
    "    isotope_list = an.get_timeseries(isotopes,duration,True)\n",
    "    isotope_total = np.sum(isotope_list)\n",
    "    return isotope_total\n",
    "\n",
    "#total_U238 = isotope_total(cursor) # in MTHM \n",
    "total_Pu239_9 = isotope_total(cursor)"
   ]
  },
  {
   "cell_type": "code",
   "execution_count": 50,
   "metadata": {},
   "outputs": [],
   "source": [
    "Pu239_array = [total_Pu239, total_Pu239_2, total_Pu239_3, total_Pu239_4, total_Pu239_5, total_Pu239_6, total_Pu239_7, total_Pu239_8, total_Pu239_9]\n",
    "Pu239_array_cum = np.cumsum(Pu239_array)"
   ]
  },
  {
   "cell_type": "code",
   "execution_count": 51,
   "metadata": {},
   "outputs": [
    {
     "data": {
      "text/plain": [
       "array([  9.35330724,  47.85605458,  97.07469715, 162.16246537,\n",
       "       207.01699025, 253.3411486 , 299.50518161, 343.75024945,\n",
       "       381.35100507])"
      ]
     },
     "execution_count": 51,
     "metadata": {},
     "output_type": "execute_result"
    }
   ],
   "source": [
    "Pu239_array_cum"
   ]
  },
  {
   "cell_type": "code",
   "execution_count": null,
   "metadata": {},
   "outputs": [],
   "source": []
  }
 ],
 "metadata": {
  "kernelspec": {
   "display_name": "Python 3",
   "language": "python",
   "name": "python3"
  },
  "language_info": {
   "codemirror_mode": {
    "name": "ipython",
    "version": 3
   },
   "file_extension": ".py",
   "mimetype": "text/x-python",
   "name": "python",
   "nbconvert_exporter": "python",
   "pygments_lexer": "ipython3",
   "version": "3.6.5"
  }
 },
 "nbformat": 4,
 "nbformat_minor": 2
}
