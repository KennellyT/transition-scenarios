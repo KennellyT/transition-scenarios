{
 "cells": [
  {
   "cell_type": "markdown",
   "metadata": {},
   "source": [
    "# Predicting the past, United States"
   ]
  },
  {
   "cell_type": "markdown",
   "metadata": {},
   "source": [
    "## Introduction\n",
    "\n",
    "In the United States, 112 commercial nuclear reactors have operated since 1967. Published data of these reactors is used in _CYCLUS_, an agent-based simulation software, in order to compare simulation results with real world metrics and produce  baseline comparison models for future simulations. Information regarding reactors are obtained from Power Reactor Information System's (PRIS) reactor database. [reactors_pris_2016.csv](import_data/reactors_pris_2016.csv)"
   ]
  },
  {
   "cell_type": "markdown",
   "metadata": {},
   "source": [
    "## Obtaining Recipes for Simulation\n",
    "\n",
    "First, an input file for _CYCLUS_ specifying the recipes for fresh and spent nuclear fuel (SNF) is produced. The recipes for fresh and SNF are obtained from [vision_recipes.xls](import_data/vision_recipies/vision_recipies.xls) spreadsheet file, which contains isotopes and compositions for fresh and SNF for uranium oxide (UOX) and mixed oxide (MOX) fuel at different burn ups.\n",
    "\n",
    "Importing raw composition data from `vision_recipes.xls` is performed with a python script and is demonstrated below. Due to limited information about the reactors, all reactors are assumed to operate at a burn up of 51 GWd/MTHM.\n",
    "\n",
    "### Demonstration\n",
    "__Import necessary libraries__"
   ]
  },
  {
   "cell_type": "code",
   "execution_count": 1,
   "metadata": {
    "ExecuteTime": {
     "end_time": "2018-04-23T22:25:51.964844Z",
     "start_time": "2018-04-23T22:25:51.601097Z"
    }
   },
   "outputs": [],
   "source": [
    "import csv\n",
    "import collections\n",
    "import dateutil.parser as date\n",
    "import jinja2\n",
    "import matplotlib.pyplot as plt\n",
    "import numpy as np\n",
    "import os\n",
    "import pathlib\n",
    "import sys\n",
    "import sqlite3 as lite\n",
    "from matplotlib import cm\n",
    "from pyne import nucname as nn\n",
    "from IPython.display import Image\n",
    "\n",
    "sys.path.append('../../scripts/')\n",
    "import import_data as idata\n",
    "import analysis as an\n",
    "\n",
    "region = 'united_states'"
   ]
  },
  {
   "cell_type": "markdown",
   "metadata": {},
   "source": [
    "__Read fuel recipe data__\n",
    "\n",
    "`vision_recipes.xls` is stored to a list object by looping over each row in the spreadsheet file."
   ]
  },
  {
   "cell_type": "code",
   "execution_count": 2,
   "metadata": {
    "ExecuteTime": {
     "end_time": "2018-04-23T22:25:51.971242Z",
     "start_time": "2018-04-23T22:25:51.966398Z"
    },
    "scrolled": true
   },
   "outputs": [
    {
     "name": "stdout",
     "output_type": "stream",
     "text": [
      "['He4', '0', '2.09687731425456E-07', '0', '9.47457840128509E-07', '0', '2.0692755421168E-06', '0']\n",
      "['Ra226', '0', '1.18893043712383E-14', '0', '9.78856442957042E-14', '0', '0', '0']\n",
      "['Ra228', '0', '6.05164592554536E-21', '0', '2.75087759176098E-20', '0', '6.0138599011451E-20', '0']\n",
      "['Pb206', '0', '7.66855132237399E-20', '0', '5.57475193532078E-18', '0', '1.40345550165974E-17', '0']\n",
      ".\n",
      ".\n",
      ".\n"
     ]
    }
   ],
   "source": [
    "def import_csv(in_csv, delimit):\n",
    "    \"\"\" Imports contents of a csv text file to a list of\n",
    "    lists.\n",
    "\n",
    "    Parameters\n",
    "    ---------\n",
    "    in_csv: str\n",
    "        path and name of input csv file\n",
    "    delimit: str\n",
    "        delimiter of the csv file\n",
    "\n",
    "    Returns\n",
    "    -------\n",
    "    data_list: list\n",
    "        list of lists containing the csv data\n",
    "    \"\"\"\n",
    "    with open(in_csv, encoding='utf-8') as source:\n",
    "        sourcereader = csv.reader(source, delimiter=delimit)\n",
    "        data_list = []\n",
    "        for row in sourcereader:\n",
    "            data_list.append(row)\n",
    "    return data_list\n",
    "\n",
    "\n",
    "recipes = import_csv('../../database/vision_recipes/uox.csv', ',')\n",
    "print(*recipes[2:6], '.', '.', '.', sep='\\n')"
   ]
  },
  {
   "cell_type": "markdown",
   "metadata": {},
   "source": [
    "__Load template for _CYCLUS_ input file__\n",
    "\n",
    "A jinja template file, used to produce parts of the final _CYCLUS_ simulation input file, is loaded to memory."
   ]
  },
  {
   "cell_type": "code",
   "execution_count": 3,
   "metadata": {
    "ExecuteTime": {
     "end_time": "2018-04-23T22:25:52.135662Z",
     "start_time": "2018-04-23T22:25:51.973665Z"
    }
   },
   "outputs": [],
   "source": [
    "def load_template(in_template):\n",
    "    \"\"\" Returns a jinja2 template from file.\n",
    "\n",
    "    Parameters\n",
    "    ---------\n",
    "    in_template: str\n",
    "        path and name of jinja2 template\n",
    "\n",
    "    Returns\n",
    "    -------\n",
    "    output_template: jinja template object\n",
    "    \"\"\"\n",
    "    with open(in_template, 'r') as default:\n",
    "        output_template = jinja2.Template(default.read())\n",
    "    return output_template\n",
    "\n",
    "\n",
    "recipe_template = load_template('templates/recipes_template.xml')"
   ]
  },
  {
   "cell_type": "markdown",
   "metadata": {},
   "source": [
    "__Select appropriate recipe for a given burnup__\n",
    "\n",
    "The appropriate composition for fresh and spent nuclear fuel is selected by specifying burnup. The composition data is then stored into a dictionary object with {isotope: mass fraction composition} as {key : value} pair."
   ]
  },
  {
   "cell_type": "code",
   "execution_count": 4,
   "metadata": {
    "ExecuteTime": {
     "end_time": "2018-04-23T22:25:52.225216Z",
     "start_time": "2018-04-23T22:25:52.140530Z"
    }
   },
   "outputs": [
    {
     "name": "stdout",
     "output_type": "stream",
     "text": [
      "Spent Fuel Composition:\n",
      "ISOTOPE:   Massfrac\n",
      "20040000 :  9.47457840128509e-07\n",
      "882260000 :  9.78856442957042e-14\n",
      "882280000 :  2.75087759176098e-20\n",
      ".\n",
      ".\n",
      ".\n"
     ]
    }
   ],
   "source": [
    "def get_composition_fresh(in_list, burnup):\n",
    "    \"\"\" Returns a dictionary of isotope and composition (in mass fraction)\n",
    "    using vision_recipes for fresh UOX fuel.\n",
    "\n",
    "    Parameters\n",
    "    ---------\n",
    "    in_list: list\n",
    "        list containing vision_recipes\n",
    "    burnup: int\n",
    "        burnup\n",
    "\n",
    "    Returns\n",
    "    -------\n",
    "    data_dict: dict\n",
    "        dictionary with key=[isotope],\n",
    "        and value=[composition]\n",
    "    \"\"\"\n",
    "    data_dict = {}\n",
    "    for i in range(len(in_list)):\n",
    "        if i > 1:\n",
    "            if burnup == 33:\n",
    "                data_dict.update({nn.id(in_list[i][0]):\n",
    "                                  float(in_list[i][1])})\n",
    "            elif burnup == 51:\n",
    "                data_dict.update({nn.id(in_list[i][0]):\n",
    "                                  float(in_list[i][3])})\n",
    "            else:\n",
    "                data_dict.update({nn.id(in_list[i][0]):\n",
    "                                  float(in_list[i][5])})\n",
    "    return data_dict\n",
    "\n",
    "\n",
    "def get_composition_spent(in_list, burnup):\n",
    "    \"\"\" Returns a dictionary of isotope and composition (in mass fraction)\n",
    "    using vision_recipes for spent nuclear fuel\n",
    "\n",
    "    Parameters\n",
    "    ---------\n",
    "    in_list: list\n",
    "        list containing vision_recipes data\n",
    "    burnup: int\n",
    "        burnup\n",
    "\n",
    "    Returns\n",
    "    -------\n",
    "    data_dict: dict\n",
    "        dictionary with key=[isotope],\n",
    "        and value=[composition]\n",
    "    \"\"\"\n",
    "    data_dict = {}\n",
    "    for i in range(len(in_list)):\n",
    "        if i > 1:\n",
    "            if burnup == 33:\n",
    "                data_dict.update({nn.id(in_list[i][0]):\n",
    "                                  float(in_list[i][2])})\n",
    "            elif burnup == 51:\n",
    "                data_dict.update({nn.id(in_list[i][0]):\n",
    "                                  float(in_list[i][4])})\n",
    "            else:\n",
    "                data_dict.update({nn.id(in_list[i][0]):\n",
    "                                  float(in_list[i][6])})\n",
    "    return data_dict\n",
    "\n",
    "\n",
    "fresh = get_composition_fresh(recipes, 51)\n",
    "spent = get_composition_spent(recipes, 51)\n",
    "print('Spent Fuel Composition:')\n",
    "print('ISOTOPE:   Massfrac')\n",
    "for k in list(spent.keys())[:3]:\n",
    "    print(k, ': ', spent[k])\n",
    "print('.', '.', '.', sep='\\n')"
   ]
  },
  {
   "cell_type": "markdown",
   "metadata": {},
   "source": [
    "__Render recipe template with recipe data__\n",
    "\n",
    "`jinja2` library is used to render recipe data to the previously loaded `recipe_template`. `pyne` library is used to convert the isotope names to _CYCLUS_ readable format. The rendered information is then saved to an xml file for use with _CYCLUS_."
   ]
  },
  {
   "cell_type": "code",
   "execution_count": 5,
   "metadata": {
    "ExecuteTime": {
     "end_time": "2018-04-23T22:25:52.373109Z",
     "start_time": "2018-04-23T22:25:52.228112Z"
    }
   },
   "outputs": [],
   "source": [
    "def write_recipes(fresh_dict, spent_dict, in_template, burnup, region):\n",
    "    \"\"\" Renders jinja template using fresh and spent fuel composition.\n",
    "\n",
    "    Parameters\n",
    "    ---------\n",
    "    fresh_dict: dict\n",
    "        dictionary with key=[isotope], and\n",
    "        value=[composition] for fresh UOX\n",
    "    spent_dict: dict\n",
    "        dictionary with key=[isotope], and\n",
    "        value=[composition] for spent fuel\n",
    "    in_template: jinja template object\n",
    "        jinja template object to be rendered\n",
    "    burnup: int\n",
    "        amount of burnup\n",
    "\n",
    "    Returns\n",
    "    -------\n",
    "    null\n",
    "        generates recipe files for cyclus.\n",
    "    \"\"\"\n",
    "    out_path = 'cyclus/input/' + region + '/recipes/'\n",
    "    pathlib.Path(out_path).mkdir(parents=True, exist_ok=True)\n",
    "    rendered = in_template.render(fresh=fresh_dict,\n",
    "                                  spent=spent_dict)\n",
    "    with open(out_path + '/uox_' + str(burnup) + '.xml', 'w') as output:\n",
    "        output.write(rendered)\n",
    "\n",
    "\n",
    "write_recipes(fresh, spent, recipe_template, 33, region)\n",
    "write_recipes(fresh, spent, recipe_template, 51, region)\n",
    "write_recipes(fresh, spent, recipe_template, 100, region)"
   ]
  },
  {
   "cell_type": "markdown",
   "metadata": {},
   "source": [
    "[uox_51.xml](cyclus/input/united_states/recipes/uox_51.xml) is a sample rendered result that contains fresh and spent nuclear fuel compositions. \n",
    "\n",
    "__recipe template__\n",
    "\n",
    "`jinja2` library is used to produce various parts of the final  _CYCLUS_ input file using templates. The library replaces simulation-specific information, such as the recipe for SNF, from the specified template file. This allows end-users to produce _CYCLUS_ simulation inputs that vary depending on the data with which they have been rendered. An example is shown below.\n",
    "\n",
    "Recipe template file:\n",
    "\n",
    "```\n",
    "    <recipes>\n",
    "      <recipe>\n",
    "        <name>fresh_uox</name>\n",
    "        <basis>atom</basis>\n",
    "        <nuclide>\n",
    "          <id>922350000</id>\n",
    "          <comp>4.5</comp>\n",
    "        </nuclide>\n",
    "        <nuclide>\n",
    "          <id>922380000</id>\n",
    "          <comp>95.5</comp>\n",
    "        </nuclide>\n",
    "      </recipe>\n",
    "      <recipe>\n",
    "        <name>spent_uox</name>\n",
    "        <basis>atom</basis>\n",
    "        {% for key, value in vision.items() -%}\n",
    "        <nuclide>  <id>{{ key }}</id>  <comp>{{ value }}</comp>  </nuclide>\n",
    "        {% endfor -%}\n",
    "      </recipe>\n",
    "    </recipes>\n",
    "```\n",
    "\n",
    "The template shown above is a recipe template. `jinja2` recognizes variables within the brackets (`{{ }}`) and replaces the variables with appropriate values. The library also recognizes loops to produce multiple lines of text from a list of data. For instance, `jinja2` used the for-loop in the following lines\n",
    "```\n",
    "    {% for key, value in vision.items() -%}`\n",
    "    <nuclide>  <id>{{ key }}</id>  <comp>{{ value }}</comp>  </nuclide>\n",
    "    {% endfor -%}\n",
    "```\n",
    "and iterated over the composition dictionary to render the isotope and its composition.\n",
    "\n",
    "[uox_51.xml](cyclus/input/US/recipes/uox_51.xml) is the rendered result. \n",
    "\n",
    "## Obtaining Deployment Data\n",
    "\n",
    "Reactors specified in [reactors_pris_2016.csv](import_data/reactors_pris_2016.csv), need to be properly imported. The reactors should be deployed at the correct timesteps for an accurate simulation. The spreadsheet file contains reactor information including the name, deployment date, net capacity, and deployment nation. Obtaining reactor information for _CYCLUS_ is performed using a set of python functions. The same generic steps were repeated for this demonstration: importing data stored in a delimited text file, and rendering the imported data to a _CYCLUS_ template file using `jinja2`.\n",
    "\n",
    "### Demonstration\n",
    "__Read fleetcomp reactor data__"
   ]
  },
  {
   "cell_type": "code",
   "execution_count": 6,
   "metadata": {
    "ExecuteTime": {
     "end_time": "2018-04-23T22:25:52.589879Z",
     "start_time": "2018-04-23T22:25:52.376876Z"
    }
   },
   "outputs": [
    {
     "name": "stdout",
     "output_type": "stream",
     "text": [
      "['Argentina', 'ATUCHA-1', 'PHWR', '335', 'Operational', 'NASA', '6/1/1968', '1968.0', '1/13/1974', '3/19/1974', '6/24/1974', '', '83.1', '-33.96333333', '-59.18638889']\n",
      "['Argentina', 'EMBALSE', 'PHWR', '600', 'Operational', 'NASA', '4/1/1974', '1974.0', '3/13/1983', '4/25/1983', '1/20/1984', '', '69.6', '-32.232', '-64.443']\n",
      "['Argentina', 'ATUCHA-2', 'PHWR', '692', 'Operational', 'NASA', '7/14/1981', '1981.0', '6/3/2014', '6/27/2014', '', '', '0.0', '-33.96333333', '-59.18638889']\n",
      "['Argentina', 'CAREM25', 'PWR', '25', 'Under Construction', 'CNEA', '2/8/2014', '2014.0', '', '', '', '', '', '', '']\n",
      "['Bangladesh', 'Rooppur Nuclear Power Plant (Unit-I)', 'VVER', '1000-1250', 'Planned', '', '2016', '', '', '', '2021', '', '', '', '']\n",
      ".\n",
      ".\n",
      ".\n"
     ]
    }
   ],
   "source": [
    "pris = import_csv('../../database/reactors_pris_2016.csv', ',')\n",
    "\n",
    "print(*pris[1:6], sep='\\n')\n",
    "print('.', '.', '.', sep='\\n')"
   ]
  },
  {
   "cell_type": "markdown",
   "metadata": {},
   "source": [
    "__Select reactors in the specified region__\n",
    "\n",
    "PRIS reactor spreadsheet file contains information about nuclear reactors from various nations. In order to obtain commercial reactors deployed in the United States, a separate function was written that searches for reactors from the US."
   ]
  },
  {
   "cell_type": "code",
   "execution_count": 7,
   "metadata": {
    "ExecuteTime": {
     "end_time": "2018-04-23T22:25:52.724197Z",
     "start_time": "2018-04-23T22:25:52.594859Z"
    }
   },
   "outputs": [
    {
     "name": "stdout",
     "output_type": "stream",
     "text": [
      "['United States', 'HADDAM NECK', 'PWR', '560', 'Permanent Shutdown', 'CYAPC', '5/1/1964', '1964.0', '7/24/1967', '8/7/1967', '1/1/1968', '12/5/1996', '', '41.4819', '-72.4992']\n",
      "['United States', 'SAN ONOFRE-1', 'PWR', '436', 'Permanent Shutdown', 'SCE', '5/1/1964', '1964.0', '6/14/1967', '7/16/1967', '1/1/1968', '11/30/1992', '', '33.3689', '-117.555']\n",
      "['United States', 'OYSTER CREEK', 'BWR', '619', 'Operational', 'EXELON', '12/15/1964', '1964.0', '5/3/1969', '9/23/1969', '12/1/1969', '', '95.0', '39.8147', '-74.205']\n",
      "['United States', 'NINE MILE POINT-1', 'BWR', '621', 'Operational', 'EXELON', '4/12/1965', '1965.0', '9/5/1969', '11/9/1969', '12/1/1969', '', '90.6', '43.5208', '-76.4069']\n",
      ".\n",
      ".\n",
      ".\n"
     ]
    }
   ],
   "source": [
    "def select_region(in_list, region):\n",
    "    \"\"\" Returns a list of reactors that will be deployed for\n",
    "    CYCLUS by checking the capacity and commercial date\n",
    "\n",
    "    Parameters\n",
    "    ----------\n",
    "    in_list: list\n",
    "            imported csv file in list format\n",
    "    region: str\n",
    "            name of the region\n",
    "\n",
    "    Returns\n",
    "    -------\n",
    "    reactor_list: list\n",
    "            list of reactors from PRIS\n",
    "    \"\"\"\n",
    "    ASIA = {'IRAN', 'JAPAN', 'KAZAKHSTAN',\n",
    "            'BANGLADESH', 'CHINA', 'INDIA',\n",
    "            'UNITED ARAB EMIRATES', 'VIETNAM',\n",
    "            'PAKISTAN', 'PHILIPPINES', 'SOUTH KOREA'\n",
    "            }\n",
    "    UNITED_STATES = {'UNITED STATES'}\n",
    "    SOUTH_AMERICA = {'ARGENTINA', 'BRAZIL'}\n",
    "    NORTH_AMERICA = {'CANADA', 'MEXICO', 'UNITED STATES'}\n",
    "    EUROPE = {'UKRAINE', 'UNITED KINGDOM',\n",
    "              'POLAND', 'ROMANIA', 'RUSSIA',\n",
    "              'BELARUS', 'BELGIUM', 'BULGARIA',\n",
    "              'GERMANY', 'ITALY', 'NETHERLANDS',\n",
    "              'SWEDEN', 'SWITZERLAND', 'TURKEY',\n",
    "              'SLOVENIA', 'SOVIET UNION', 'SPAIN',\n",
    "              'CZECHOSLOVAKIA', 'FINLAND', 'FRANCE'\n",
    "              }\n",
    "    AFRICA = {'EGYPT', 'MOROCCO', 'SOUTH AFRICA', 'TUNISIA'}\n",
    "    ALL = (SOUTH_AMERICA | NORTH_AMERICA |\n",
    "           EUROPE | ASIA | AFRICA | UNITED_STATES)\n",
    "    regions = {'ASIA': ASIA,\n",
    "               'AFRICA': AFRICA,\n",
    "               'EUROPE': EUROPE,\n",
    "               'SOUTH_AMERICA': SOUTH_AMERICA,\n",
    "               'NORTH_AMERICA': NORTH_AMERICA,\n",
    "               'UNITED_STATES': UNITED_STATES,\n",
    "               'ALL': ALL}\n",
    "    if region.upper() not in regions.keys():\n",
    "        raise ValueError(region + 'is not a valid region')\n",
    "    reactor_list = []\n",
    "    for row in in_list:\n",
    "        country = row[0]\n",
    "        if country.upper() in regions[region.upper()]:\n",
    "            capacity = row[3]\n",
    "            start_date = row[10]\n",
    "            if confirm_deployment(start_date, capacity):\n",
    "                reactor_list.append(row)\n",
    "    return reactor_list\n",
    "\n",
    "\n",
    "def confirm_deployment(date_str, capacity):\n",
    "    \"\"\" Confirms if reactor is to be deployed for CYCLUS by\n",
    "    checking if the capacity > 400 and if the commercial date\n",
    "    is a proper date format.\n",
    "\n",
    "    Parameters\n",
    "    ----------\n",
    "    date_str: str\n",
    "            the commercial date string from PRIS data file\n",
    "    capacity: str\n",
    "            capacity in MWe from RPIS data file\n",
    "\n",
    "    Returns\n",
    "    -------\n",
    "    is_deployed: bool\n",
    "            determines whether the reactor will be deployed\n",
    "            in CYCLUS\n",
    "    \"\"\"\n",
    "    is_deployed = False\n",
    "    if len(date_str) > 4 and float(capacity) > 400:\n",
    "        try:\n",
    "            date.parse(date_str)\n",
    "            is_deployed = True\n",
    "        except:\n",
    "            pass\n",
    "    return is_deployed\n",
    "\n",
    "\n",
    "reactor_list = select_region(pris, region)\n",
    "print(*reactor_list[:4], '.', '.', '.', sep='\\n')"
   ]
  },
  {
   "cell_type": "markdown",
   "metadata": {},
   "source": [
    "__Select and render useful reactor information__\n",
    "\n",
    "In this step, the following information is obtained from the PRIS spreadsheet: reactor name, type, deployed nation, and capacity. Reactor specifications such as number of assemblies, assemblies per batch, mass of core, and mass of assembly were obtained from published sources [1], [2]. Then, `write_reactors` function is used to render these information. The function loops over each row and checks the type of reactor and its capacity. Reactors with capacity less than 400 MWe were assumed to be experimental reactors. Then, all the raw and derived variables necessary for simulation are rendered to individual reactor files."
   ]
  },
  {
   "cell_type": "code",
   "execution_count": 8,
   "metadata": {
    "ExecuteTime": {
     "end_time": "2018-04-23T22:25:52.891778Z",
     "start_time": "2018-04-23T22:25:52.728880Z"
    }
   },
   "outputs": [],
   "source": [
    "def write_reactors(in_list, out_path, reactor_template):\n",
    "    \"\"\" Renders CYCAMORE::reactor specifications using jinja2.\n",
    "\n",
    "    Parameters\n",
    "    ----------\n",
    "    in_list: list\n",
    "        list containing PRIS data\n",
    "    out_path: str\n",
    "        output path for reactor files\n",
    "    reactor_template: str\n",
    "        path to reactor template\n",
    "\n",
    "    Returns\n",
    "    -------\n",
    "    null\n",
    "        writes xml files with CYCAMORE::reactor config\n",
    "    \"\"\"\n",
    "    if out_path[-1] != '/':\n",
    "        out_path += '/'\n",
    "    pathlib.Path(out_path).mkdir(parents=True, exist_ok=True)\n",
    "    reactor_template = load_template(reactor_template)\n",
    "    for row in in_list:\n",
    "        capacity = float(row[3])\n",
    "        if capacity >= 400:\n",
    "            name = row[1].replace(' ', '_')\n",
    "            assem_per_batch = 0\n",
    "            assem_no = 0\n",
    "            assem_size = 0\n",
    "            reactor_type = row[2]\n",
    "            latitude = row[13] if row[13] != '' else 0\n",
    "            longitude = row[14] if row[14] != '' else 0\n",
    "            if reactor_type in ['BWR', 'ESBWR']:\n",
    "                assem_no = 732\n",
    "                assem_per_batch = int(assem_no / 3)\n",
    "                assem_size = 138000 / assem_no\n",
    "            elif reactor_type in ['GCR', 'HWGCR']:  # Need batch number\n",
    "                assem_no = 324\n",
    "                assem_per_batch = int(assem_no / 3)\n",
    "                assem_size = 114000 / assem_no\n",
    "            elif reactor_type == 'HTGR':  # Need batch number\n",
    "                assem_no = 3944\n",
    "                assem_per_batch = int(assem_no / 3)\n",
    "                assem_size = 39000 / assem_no\n",
    "            elif reactor_type == 'PHWR':\n",
    "                assem_no = 390\n",
    "                assem_per_batch = int(assem_no / 45)\n",
    "                assem_size = 80000 / assem_no\n",
    "            elif reactor_type == 'VVER':  # Need batch number\n",
    "                assem_no = 312\n",
    "                assem_per_batch = int(assem_no / 3)\n",
    "                assem_size = 41500 / assem_no\n",
    "            elif reactor_type == 'VVER-1200':  # Need batch number\n",
    "                assem_no = 163\n",
    "                assem_per_batch = int(assem_no / 3)\n",
    "                assem_size = 80000 / assem_no\n",
    "            else:\n",
    "                assem_no = 241\n",
    "                assem_per_batch = int(assem_no / 3)\n",
    "                assem_size = 103000 / assem_no\n",
    "            config = reactor_template.render(name=name,\n",
    "                                             lifetime=get_lifetime(row),\n",
    "                                             assem_size=assem_size,\n",
    "                                             n_assem_core=assem_no,\n",
    "                                             n_assem_batch=assem_per_batch,\n",
    "                                             power_cap=row[3],\n",
    "                                             lon=longitude,\n",
    "                                             lat=latitude)\n",
    "            with open(out_path + name.replace(' ', '_') + '.xml',\n",
    "                      'w') as output:\n",
    "                output.write(config)\n",
    "\n",
    "\n",
    "def get_lifetime(in_row):\n",
    "    \"\"\" Calculates the lifetime of a reactor using first\n",
    "    commercial date and shutdown date. Defaults to 720 months\n",
    "    if shutdown date is not available.\n",
    "\n",
    "    Parameters\n",
    "    ----------\n",
    "    in_row: list\n",
    "        single row from PRIS data that contains reactor\n",
    "        information\n",
    "\n",
    "    Returns\n",
    "    -------\n",
    "    lifetime: int\n",
    "        lifetime of reactor\n",
    "    \"\"\"\n",
    "    comm_date = in_row[10]\n",
    "    shutdown_date = in_row[11]\n",
    "    if not shutdown_date.strip():\n",
    "        return 720\n",
    "    else:\n",
    "        n_days_month = 365.0 / 12\n",
    "        delta = (date.parse(shutdown_date) - date.parse(comm_date)).days\n",
    "        return int(delta / n_days_month)\n",
    "\n",
    "\n",
    "out_path = 'cyclus/input/' + region + '/reactors'\n",
    "reactor_template = 'templates/reactors_template.xml'\n",
    "write_reactors(reactor_list, out_path, reactor_template)"
   ]
  },
  {
   "cell_type": "markdown",
   "metadata": {},
   "source": [
    "[reactors](cyclus/input/united_states/reactors) folder contains individual reactor specifications.\n",
    "\n",
    "## Writing Deployment\n",
    "\n",
    "In order to ensure proper deployment of all reactors during simulation, a function was written to calculate then save deployment information. `build_time`, the number of timesteps taken to deploy the reactors, is calculated using the difference between simulation start date and the reactor first grid date in _CYCLUS_ timesteps (months).\n",
    "\n",
    "### Demonstration \n",
    "__Read PRIS reactor data__\n",
    "\n",
    "`deploy_reactors` function is used for this application. The function imports the PRIS reactor file, produces the folder structure necessary for file output, and calls `get_buildtime` function and `write_deployment` function. `get_buildtime` function parses the deployment dates stored in the PRIS reactor file, and calculates the difference between simulation start date and reactor deployment date in months. Then, the resulting build_time is stored in a dictionary object with the reactor name as key, and the deployed country and deployment month as value. Finally, `write_deployment` function uses the dictionary obtained from `get_buildtime` function to produce deployment specifications."
   ]
  },
  {
   "cell_type": "code",
   "execution_count": 9,
   "metadata": {
    "ExecuteTime": {
     "end_time": "2018-04-23T22:25:53.160689Z",
     "start_time": "2018-04-23T22:25:52.894286Z"
    }
   },
   "outputs": [
    {
     "name": "stdout",
     "output_type": "stream",
     "text": [
      "cyclus/input/united_states/reactors\n",
      "HADDAM_NECK :  ('United States', 37)\n",
      "SAN_ONOFRE-1 :  ('United States', 37)\n",
      "OYSTER_CREEK :  ('United States', 60)\n",
      "NINE_MILE_POINT-1 :  ('United States', 60)\n",
      ".\n",
      ".\n",
      ".\n"
     ]
    }
   ],
   "source": [
    "def deploy_reactors(in_csv, region, start_year, deployinst_template,\n",
    "                    inclusions_template, reactors_path, deployment_path):\n",
    "    \"\"\" Generates xml files that specify the reactors that will be included\n",
    "    in a CYCLUS simulation.\n",
    "\n",
    "    Parameters\n",
    "    ---------\n",
    "    in_csv: str\n",
    "        path to pris reactor database\n",
    "    region: str\n",
    "        region name\n",
    "    start_year: int\n",
    "        starting year of simulation\n",
    "    deployinst_template: str\n",
    "        path to deployinst template\n",
    "    inclusions_template: str\n",
    "        path to inclusions template\n",
    "    reactors_path: str\n",
    "        path containing reactor files\n",
    "    deployment_path: str\n",
    "        output path for deployinst xml\n",
    "\n",
    "    Returns\n",
    "    -------\n",
    "    buildtime_dict: dict\n",
    "        dictionary with key=[name of reactor], and\n",
    "        value=[set of country and buildtime]\n",
    "    \"\"\"\n",
    "    lists = []\n",
    "    if reactors_path[-1] != '/':\n",
    "        reactors_path += '/'\n",
    "    for files in os.listdir(reactors_path):\n",
    "        lists.append(reactors_path + files)\n",
    "    in_data = import_csv(in_csv, ',')\n",
    "    reactor_list = select_region(in_data, region)\n",
    "    buildtime = get_buildtime(reactor_list, start_year, lists)\n",
    "    write_deployment(buildtime, deployment_path, deployinst_template,\n",
    "                     inclusions_template)\n",
    "    return buildtime\n",
    "\n",
    "\n",
    "def get_buildtime(in_list, start_year, path_list):\n",
    "    \"\"\" Calculates the buildtime required for reactor\n",
    "    deployment in months.\n",
    "\n",
    "    Parameters\n",
    "    ----------\n",
    "    in_list: list\n",
    "        list of reactors\n",
    "    start_year: int\n",
    "        starting year of simulation\n",
    "    path_list: list\n",
    "        list of paths to reactor files\n",
    "\n",
    "    Returns\n",
    "    -------\n",
    "    buildtime_dict: dict\n",
    "        dictionary with key=[name of reactor], and\n",
    "        value=[set of country and buildtime]\n",
    "    \"\"\"\n",
    "    buildtime_dict = {}\n",
    "    for row in in_list:\n",
    "        comm_date = date.parse(row[10])\n",
    "        start_date = [comm_date.year, comm_date.month, comm_date.day]\n",
    "        delta = ((start_date[0] - int(start_year)) * 12 +\n",
    "                 (start_date[1]) +\n",
    "                 round(start_date[2] / (365.0 / 12)))\n",
    "        for index, reactor in enumerate(path_list):\n",
    "            name = row[1].replace(' ', '_')\n",
    "            country = row[0]\n",
    "            file_name = (reactor.replace(\n",
    "                os.path.dirname(path_list[index]), '')).replace('/', '')\n",
    "            if (name + '.xml' == file_name):\n",
    "                buildtime_dict.update({name: (country, delta)})\n",
    "    return buildtime_dict\n",
    "\n",
    "\n",
    "def write_deployment(in_dict, out_path, deployinst_template,\n",
    "                     inclusions_template):\n",
    "    \"\"\" Renders jinja template using dictionary of reactor name and buildtime.\n",
    "    Outputs an xml file that uses xinclude to include the reactor xml files\n",
    "    located in cyclus_input/reactors.\n",
    "\n",
    "    Parameters\n",
    "    ---------\n",
    "    in_dict: dictionary\n",
    "        dictionary with key=[reactor name], and value=[buildtime]\n",
    "    out_path: str\n",
    "        output path for files\n",
    "    deployinst_template: str\n",
    "        path to deployinst template\n",
    "    inclusions_template: str\n",
    "        path to inclusions template\n",
    "\n",
    "    Returns\n",
    "    -------\n",
    "    null\n",
    "        generates input files that have deployment and xml inclusions\n",
    "    \"\"\"\n",
    "    if out_path[-1] != '/':\n",
    "        out_path += '/'\n",
    "    pathlib.Path(out_path).mkdir(parents=True, exist_ok=True)\n",
    "    deployinst_template = load_template(deployinst_template)\n",
    "    inclusions_template = load_template(inclusions_template)\n",
    "    country_list = {value[0] for value in in_dict.values()}\n",
    "    for nation in country_list:\n",
    "        temp_dict = {}\n",
    "        for reactor in in_dict.keys():\n",
    "            if in_dict[reactor][0].upper() == nation.upper():\n",
    "                temp_dict.update({reactor: in_dict[reactor][1]})\n",
    "        pathlib.Path(out_path + nation.replace(' ', '_') +\n",
    "                     '/').mkdir(parents=True, exist_ok=True)\n",
    "        deployinst = deployinst_template.render(reactors=temp_dict)\n",
    "        with open(out_path + nation.replace(' ', '_') +\n",
    "                  '/deployinst.xml', 'w') as output1:\n",
    "            output1.write(deployinst)\n",
    "    inclusions = inclusions_template.render(reactors=in_dict)\n",
    "    with open(out_path + 'inclusions.xml', 'w') as output2:\n",
    "        output2.write(inclusions)\n",
    "\n",
    "\n",
    "pris_file = '../../database/reactors_pris_2016.csv'\n",
    "deployinst_tmpl = 'templates/' + region + '/deployinst_template.xml'\n",
    "inclusions_tmpl = 'templates/inclusions_template.xml'\n",
    "reactor_path = 'cyclus/input/' + region + '/reactors'\n",
    "dployment_path = 'cyclus/input/' + region + '/buildtimes'\n",
    "print(reactor_path)\n",
    "buildtime = deploy_reactors(pris_file, region, 1965, deployinst_tmpl,\n",
    "                            inclusions_tmpl, reactor_path, dployment_path)\n",
    "\n",
    "for k in list(buildtime.keys())[:4]:\n",
    "    print(k, ': ', buildtime[k])\n",
    "print('.', '.', '.', sep='\\n')"
   ]
  },
  {
   "cell_type": "markdown",
   "metadata": {},
   "source": [
    "[deployinst folder](cyclus/input/united_states/buildtimes/) and [inclusions.xml](cyclus/input/united_states/buildtimes/inclusions.xml) show the rendered result. \n",
    "\n",
    "`deployinst.xml` contains configurations for _CYCAMORE::DeployInst_ archetype for the agents in the deploy institution and `inclusions.xml` contains xml inclusions so that the final _CYCLUS_ input file references the individual reactor files produced during __Obtaining Deployment Data__ step.\n",
    "\n",
    "## XML inclusion and  Setting XML base for final input file\n",
    "\n",
    "For this investigation, `XInclude` was used to produce modular _CYCLUS_ input files. Rather than a single lengthy input file, the use of xml inclusion allows the creation of _CYCLUS_ input files that contain certain sections such as deployment information, reactor specifications, or even entire regions. This introduces modularity to _CYCLUS_ input files and simulations. To use `XInclude` to reference other files within the input file, an xml base needs to be specified. \n",
    "\n",
    "__XInclude basics__\n",
    "\n",
    "In order to use `XInclude` simply add the `XInclude` namespace to the root element of the xml file that needs to reference another xml file.\n",
    "\n",
    "> xmlns:xi=\"http://www.w3.org/2001/XInclude\"\n",
    "\n",
    "Then, reference the xml file that needs to be added to the base xml file using an `href` tag under the `XInclude` namespace.\n",
    "\n",
    "> `<xi:include href=\"link_to_xml_file_to_be_added.xml\" />`\n",
    "\n",
    "\n",
    "__Example__\n",
    "\n",
    "Below is an example of xml inclusion from the final _CYCLUS_ [input file](cyclus/input/united_states.xml) (click to open the full file).\n",
    "\n",
    "```\n",
    "<simulation xml:base=\"/home/gyutae/cyclus/predicting-the-past/cyclus/input/\"\n",
    "  xmlns:xi=\"http://www.w3.org/2001/XInclude\">\n",
    "  <control>\n",
    "    <duration>1020</duration>\n",
    "    <startmonth>1</startmonth>\n",
    "    <startyear>1965</startyear>\n",
    "  </control>\n",
    "  <archetypes>\n",
    "    <spec><lib>cycamore</lib> <name>Enrichment</name> </spec>\n",
    "    <spec><lib>cycamore</lib> <name>Reactor</name>    </spec>\n",
    "    <spec><lib>cycamore</lib> <name>Sink</name>       </spec>\n",
    "    <spec><lib>cycamore</lib> <name>Source</name>     </spec>\n",
    "    <spec><lib>cycamore</lib> <name>Storage</name>    </spec>\n",
    "    <spec><lib>cycamore</lib> <name>DeployInst</name> </spec>\n",
    "    <spec><lib>cycamore</lib> <name>ManagerInst</name></spec>\n",
    "    <spec><lib>agents</lib>   <name>NullRegion</name> </spec>\n",
    "  </archetypes>\n",
    "  <xi:include href=\"UNITED_STATES/buildtimes/inclusions.xml#xpointer(/inclusions/child::*)\"/>\n",
    ".\n",
    ".\n",
    ".\n",
    "```\n",
    "As shown above, `XInclude` namespace was added to the root element: `simulation`. The xml file to be added was declared under the namespace using `xi:include` with the relative link `UNITED_STATES/buildtimes/inclusions.xml#xpointer(/inclusions/child::*)`.\n",
    "\n",
    "__Rationale for setting xml base__\n",
    "\n",
    "One issue that arises with the use of relative path to reference an external document, is that the xml parser (including the one used in _CYCLUS_) does not know where to find the referenced documents. Thus, parsing the final input file from different paths yielded different results and often lead to _unable-to-find-external-entity_ errors. Setting an xml base allows the parser to correctly find the referenced files.\n",
    "\n",
    "__Rendering final input file__\n",
    "\n",
    "Setting an xml base is done by finding the absolute path of the _CYCLUS_ input file, and using `jinja2` to render the absolute path."
   ]
  },
  {
   "cell_type": "code",
   "execution_count": 10,
   "metadata": {
    "ExecuteTime": {
     "end_time": "2018-04-23T22:25:53.235135Z",
     "start_time": "2018-04-23T22:25:53.163167Z"
    }
   },
   "outputs": [],
   "source": [
    "def render_cyclus(cyclus_template, region, in_dict, out_path):\n",
    "    \"\"\" Renders final CYCLUS input file with xml base, and institutions\n",
    "    for each country\n",
    "\n",
    "    Parameters\n",
    "    ----------\n",
    "    cyclus_template: str\n",
    "        path to CYCLUS input file template\n",
    "    region: str\n",
    "        region chosen for CYCLUS simulation\n",
    "    in_dict: dictionary\n",
    "        in_dict should be buildtime_dict from get_buildtime function\n",
    "    out_path: str\n",
    "        output path for CYCLUS input file\n",
    "    output_name:\n",
    "\n",
    "    Returns\n",
    "    -------\n",
    "    null\n",
    "        writes CYCLUS input file in out_path\n",
    "    \"\"\"\n",
    "    if out_path[-1] != '/':\n",
    "        out_path += '/'\n",
    "    cyclus_template = load_template(cyclus_template)\n",
    "    country_list = {value[0].replace(' ', '_') for value in in_dict.values()}\n",
    "    rendered = cyclus_template.render(countries=country_list,\n",
    "                                      base_dir=os.path.abspath(out_path) + '/')\n",
    "    with open(out_path + region + '.xml', 'w') as output:\n",
    "        output.write(rendered)\n",
    "\n",
    "\n",
    "cyclus_tmpl = ('templates/' + region + '/' + region + '_template.xml')\n",
    "render_cyclus(cyclus_tmpl, region, buildtime, 'cyclus/input/')"
   ]
  },
  {
   "cell_type": "markdown",
   "metadata": {},
   "source": [
    "[united_states.xml](cyclus/input/united_states.xml) shows the final _CYCLUS_ input file with all the xml inclusions and xml base.\n",
    "\n",
    "__Running _CYCLUS_ Simulation__\n",
    "\n",
    "Using the final input file above, a _CYCLUS_ simulation is run using the following command on bash. The output of the simulation is uploaded to the ARFC Box for use if _CYCLUS_ is not installed in the device. In such case, skip to _Analysis and Results_ section."
   ]
  },
  {
   "cell_type": "code",
   "execution_count": 11,
   "metadata": {
    "ExecuteTime": {
     "end_time": "2018-04-23T22:47:10.227931Z",
     "start_time": "2018-04-23T22:25:53.239783Z"
    }
   },
   "outputs": [
    {
     "name": "stdout",
     "output_type": "stream",
     "text": [
      "              :                                                               \n",
      "          .CL:CC CC             _Q     _Q  _Q_Q    _Q    _Q              _Q   \n",
      "        CC;CCCCCCCC:C;         /_\\)   /_\\)/_/\\\\)  /_\\)  /_\\)            /_\\)  \n",
      "        CCCCCCCCCCCCCl       __O|/O___O|/O_OO|/O__O|/O__O|/O____________O|/O__\n",
      "     CCCCCCf     iCCCLCC     /////////////////////////////////////////////////\n",
      "     iCCCt  ;;;;;.  CCCC                                                      \n",
      "    CCCC  ;;;;;;;;;. CClL.                          c                         \n",
      "   CCCC ,;;       ;;: CCCC  ;                   : CCCCi                       \n",
      "    CCC ;;         ;;  CC   ;;:                CCC`   `C;                     \n",
      "  lCCC ;;              CCCC  ;;;:             :CC .;;. C;   ;    :   ;  :;;   \n",
      "  CCCC ;.              CCCC    ;;;,           CC ;    ; Ci  ;    :   ;  :  ;  \n",
      "   iCC :;               CC       ;;;,        ;C ;       CC  ;    :   ; .      \n",
      "  CCCi ;;               CCC        ;;;.      .C ;       tf  ;    :   ;  ;.    \n",
      "  CCC  ;;               CCC          ;;;;;;; fC :       lC  ;    :   ;    ;:  \n",
      "   iCf ;;               CC         :;;:      tC ;       CC  ;    :   ;     ;  \n",
      "  fCCC :;              LCCf      ;;;:         LC :.  ,: C   ;    ;   ; ;   ;  \n",
      "  CCCC  ;;             CCCC    ;;;:           CCi `;;` CC.  ;;;; :;.;.  ; ,;  \n",
      "    CCl ;;             CC    ;;;;              CCC    CCL                     \n",
      "   tCCC  ;;        ;; CCCL  ;;;                  tCCCCC.                      \n",
      "    CCCC  ;;     :;; CCCCf  ;                     ,L                          \n",
      "     lCCC   ;;;;;;  CCCL                                                      \n",
      "     CCCCCC  :;;  fCCCCC                                                      \n",
      "      . CCCC     CCCC .                                                       \n",
      "       .CCCCCCCCCCCCCi                                                        \n",
      "          iCCCCCLCf                                                           \n",
      "           .  C. ,                                                            \n",
      "              :                                                               \n",
      "\n",
      "Status: Cyclus run successful!\n",
      "Output location: ./cyclus/united_states.sqlite\n",
      "Simulation ID: 36f8f00c-22f6-4d2c-bdfb-6a68bc1c497c\n"
     ]
    }
   ],
   "source": [
    "!rm cyclus/united_states.sqlite\n",
    "!cyclus -i ./cyclus/input/united_states.xml -o ./cyclus/united_states.sqlite --warn-limit 0"
   ]
  },
  {
   "cell_type": "markdown",
   "metadata": {},
   "source": [
    "The first command removes the previous simulation output file. This is to prevent the final output file from having the results of any previous simulations. The simulation results are stored as an SQLite file [united_states.sqlite](cyclus/united_states.sqlite). A set of functions were written in python to obtain relevant data from the output file. With python, the results of the queries can be processed to perform meaningful analysis.\n",
    "\n",
    "## Analysis and Results\n",
    "\n",
    "The results for the analysis performed above are shown below. Unfortunately, the only data that was available for comparison at the time of writing was power generated over time published by the Nuclear Energy Institute (NEI) [4]. The NEI publication  contains power generated by US commercial nuclear power plants from 1971 to 2016. A similar plot is generated from the simulation results to compare the power generated and is shown in Figure 10. The plot of power generated from the data published by the NEI is shown in Figure 11.\n",
    "\n",
    "__Connect to SQLite file__\n",
    "\n",
    "To make sqlite queries in python, a cursor, which acts like a pointer to the sqlite file is required. The use of `row_factory` class under `sqlite3` library allows the sqlite table to be indexed by integer values and by case-insensitive row name. `row_factory` produces readable code, and allows easy debugging."
   ]
  },
  {
   "cell_type": "code",
   "execution_count": 12,
   "metadata": {
    "ExecuteTime": {
     "end_time": "2018-04-23T22:47:10.237672Z",
     "start_time": "2018-04-23T22:47:10.229925Z"
    }
   },
   "outputs": [],
   "source": [
    "def get_cursor(file_name):\n",
    "    \"\"\" Connects and returns a cursor to an sqlite output file\n",
    "\n",
    "    Parameters\n",
    "    ----------\n",
    "    file_name: str\n",
    "        name of the sqlite file\n",
    "\n",
    "    Returns\n",
    "    -------\n",
    "    sqlite cursor\n",
    "    \"\"\"\n",
    "    con = lite.connect(file_name)\n",
    "    con.row_factory = lite.Row\n",
    "    return con.cursor()\n",
    "\n",
    "\n",
    "cursor = get_cursor('cyclus/united_states.sqlite')"
   ]
  },
  {
   "cell_type": "markdown",
   "metadata": {},
   "source": [
    "__Get simulation start time, duration, and timestep__\n",
    "\n",
    "All analysis results are plotted for a visual representation. `get_timesteps` function is used to obtain simulation start time, and timestep, which are required for plotting."
   ]
  },
  {
   "cell_type": "code",
   "execution_count": 13,
   "metadata": {
    "ExecuteTime": {
     "end_time": "2018-04-23T22:47:10.412624Z",
     "start_time": "2018-04-23T22:47:10.239298Z"
    }
   },
   "outputs": [
    {
     "name": "stdout",
     "output_type": "stream",
     "text": [
      "Year:  1965 \n",
      "Month:  1 \n",
      "Duration:  1020 \n",
      "Timestep:  [0.000e+00 1.000e+00 2.000e+00 ... 1.017e+03 1.018e+03 1.019e+03]\n"
     ]
    }
   ],
   "source": [
    "def get_timesteps(cur):\n",
    "    \"\"\" Returns simulation start year, month, duration and\n",
    "    timesteps (in numpy linspace).\n",
    "\n",
    "    Parameters\n",
    "    ----------\n",
    "    cur: sqlite cursor\n",
    "        sqlite cursor\n",
    "\n",
    "    Returns\n",
    "    -------\n",
    "    init_year: int\n",
    "        start year of simulation\n",
    "    init_month: int\n",
    "        start month of simulation\n",
    "    duration: int\n",
    "        duration of simulation\n",
    "    timestep: list\n",
    "        linspace up to duration\n",
    "    \"\"\"\n",
    "    info = cur.execute('SELECT initialyear, initialmonth, '\n",
    "                       'duration FROM info').fetchone()\n",
    "    init_year = info['initialyear']\n",
    "    init_month = info['initialmonth']\n",
    "    duration = info['duration']\n",
    "    timestep = np.linspace(0, duration - 1, num=duration)\n",
    "\n",
    "    return init_year, init_month, duration, timestep\n",
    "\n",
    "\n",
    "ini_yr, ini_month, dur, timestep = get_timesteps(cursor)\n",
    "print('Year: ', ini_yr, '\\nMonth: ', ini_month, '\\nDuration: ',\n",
    "      dur, '\\nTimestep: ', timestep)"
   ]
  },
  {
   "cell_type": "markdown",
   "metadata": {},
   "source": [
    "__Nat_u consumption vs Time__\n",
    "\n",
    "`nat_u_timeseries` function returns a timeseries list of natural uranium sent to the enrichment facility. Unfortunately, this does not represent the amount of natural uranium used in real life as _CYCAMORE::enrichment_ facility does not enrich fuel on a need-basis. Due to current limits in the software, the enrichment facility enriches the same amount of natural uranium at each timestep. When _CYCAMORE::enrichment_ is updated to enrich fuel on a need-basis, this analysis would be more accurate. \n",
    "\n",
    "The `nat_u_timeseries` function makes an sqlite query on the `timeseriesenrichmentfeed` table from the simulation output file and passes the results to `get_timeseries_cum` function. The `get_timeseries_cum` function then calculates the chronological cumulative sum of the natural uranium transferred. The resulting timeseries list is used to plot the cumulative amount of natural uranium used in enrichment over time. "
   ]
  },
  {
   "cell_type": "code",
   "execution_count": 14,
   "metadata": {
    "ExecuteTime": {
     "end_time": "2018-04-23T22:47:11.921154Z",
     "start_time": "2018-04-23T22:47:10.414284Z"
    }
   },
   "outputs": [
    {
     "name": "stderr",
     "output_type": "stream",
     "text": [
      "/home/gyutae/anaconda3/lib/python3.6/site-packages/matplotlib/__init__.py:1855: MatplotlibDeprecationWarning: The *left* kwarg to `bar` is deprecated use *x* instead. Support for *left* will be removed in Matplotlib 3.0\n",
      "  return func(ax, *args, **kwargs)\n"
     ]
    },
    {
     "data": {
      "image/png": "[encoded data removed]",
      "text/plain": [
       "<IPython.core.display.Image object>"
      ]
     },
     "execution_count": 14,
     "metadata": {},
     "output_type": "execute_result"
    }
   ],
   "source": [
    "def nat_u_timeseries(cur):\n",
    "    \"\"\" Finds natural uranium supply from source\n",
    "        Since currently the source supplies all its capacity,\n",
    "        the timeseriesenrichmentfeed is used.\n",
    "\n",
    "    Parameters\n",
    "    ----------\n",
    "    cur: sqlite cursor\n",
    "        sqlite cursor\n",
    "\n",
    "    Returns\n",
    "    -------\n",
    "    get_timeseries: function\n",
    "        calls a function that returns timeseries list of natural U\n",
    "        demand from enrichment [MTHM]\n",
    "    \"\"\"\n",
    "    init_year, init_month, duration, timestep = get_timesteps(cur)\n",
    "\n",
    "    # Get Nat U feed to enrichment from timeseriesenrichmentfeed\n",
    "    feed = cur.execute('SELECT time, sum(value) '\n",
    "                       'FROM timeseriesenrichmentfeed '\n",
    "                       'GROUP BY time').fetchall()\n",
    "    return get_timeseries_cum(feed, duration, True)\n",
    "\n",
    "\n",
    "def get_timeseries_cum(in_list, duration, kg_to_tons):\n",
    "    \"\"\" returns a timeseries list from in_list data.\n",
    "\n",
    "    Parameters\n",
    "    ----------\n",
    "    in_list: list\n",
    "        list of data to be created into timeseries\n",
    "        list[0] = time\n",
    "        list[1] = value, quantity\n",
    "    multiplyby: int\n",
    "        integer to multiply the value in the list by for\n",
    "        unit conversion from kilograms\n",
    "    kg_to_tons: bool\n",
    "        if True, list returned has units of tons\n",
    "        if False, list returned as units of kilograms\n",
    "\n",
    "    Returns\n",
    "    -------\n",
    "    timeseries of commodities in kg or tons\n",
    "    \"\"\"\n",
    "    value = 0\n",
    "    value_timeseries = []\n",
    "    array = np.array(in_list)\n",
    "    if len(in_list) > 0:\n",
    "        for i in range(0, duration):\n",
    "            value += sum(array[array[:, 0] == i][:, 1])\n",
    "            if kg_to_tons:\n",
    "                value_timeseries.append(value * 0.001)\n",
    "            else:\n",
    "                value_timeseries.append(value)\n",
    "    return value_timeseries\n",
    "\n",
    "\n",
    "img_out = 'analysis/results/' + region + '/'\n",
    "pathlib.Path(img_out).mkdir(parents=True, exist_ok=True)\n",
    "name = 'Nat_u_consumed vs time'\n",
    "consumption = {'Nat_u_consumption': nat_u_timeseries(cursor)}\n",
    "an.stacked_bar_chart(consumption, timestep,\n",
    "                     'Time [Yr]', 'Nat_u_Consumed [MTHM]',\n",
    "                     name, img_out + name, ini_yr)\n",
    "\n",
    "Image(filename=img_out + name + '.png')"
   ]
  },
  {
   "cell_type": "markdown",
   "metadata": {},
   "source": [
    "As shown in the figure above, natural uranium consumed over the period of the simulation linearly increases. This demonstrates the constant rate of fuel processing performed by the enrichment facility regardless of the demand for fresh fuel. This will hopefully be improved in the future so that the enrichment facilities take the demand for fresh fuel into account.\n",
    "\n",
    "__Amount of fuel into reactors vs. time__\n",
    "\n",
    "A more accurate analysis for fuel consumption is the amount of fuel sent to reactors over time. While the enrichment facility constantly produces fresh fuel, the total amount of fuel sent to reactors changes based on the number and size of the reactors in operation at each timestep. This analysis is performed with `fuel_into_reactors` function. The function makes an sqlite query to the `resources`, `transactions`, and `agententry` table to obtain the amount of fuel sent to reactors throughout the simulation. The resulting data was sent to `get_timeseries_cum` function to obtain a timeseries list of different types of fuel sent to reactors throughout the simulation."
   ]
  },
  {
   "cell_type": "code",
   "execution_count": 15,
   "metadata": {
    "ExecuteTime": {
     "end_time": "2018-04-23T22:47:17.819282Z",
     "start_time": "2018-04-23T22:47:11.925656Z"
    }
   },
   "outputs": [
    {
     "name": "stderr",
     "output_type": "stream",
     "text": [
      "/home/gyutae/anaconda3/lib/python3.6/site-packages/matplotlib/__init__.py:1855: MatplotlibDeprecationWarning: The *left* kwarg to `bar` is deprecated use *x* instead. Support for *left* will be removed in Matplotlib 3.0\n",
      "  return func(ax, *args, **kwargs)\n"
     ]
    },
    {
     "data": {
      "image/png": "[encoded data removed]",
      "text/plain": [
       "<IPython.core.display.Image object>"
      ]
     },
     "execution_count": 15,
     "metadata": {},
     "output_type": "execute_result"
    }
   ],
   "source": [
    "def fuel_into_reactors(cur):\n",
    "    \"\"\" Finds timeseries of mass of fuel received by reactors\n",
    "\n",
    "    Parameters\n",
    "    ----------\n",
    "    cur: sqlite cursor\n",
    "        sqlite cursor\n",
    "\n",
    "    Returns\n",
    "    -------\n",
    "    timeseries list of fuel into reactors [tons]\n",
    "    \"\"\"\n",
    "    init_year, init_month, duration, timestep = get_timesteps(cur)\n",
    "    fuel = cur.execute('SELECT time, sum(quantity) FROM transactions '\n",
    "                       'INNER JOIN resources ON '\n",
    "                       'resources.resourceid = transactions.resourceid '\n",
    "                       'INNER JOIN agententry ON '\n",
    "                       'transactions.receiverid = agententry.agentid '\n",
    "                       'WHERE spec LIKE \"%Reactor%\" '\n",
    "                       'GROUP BY time').fetchall()\n",
    "\n",
    "    return get_timeseries_cum(fuel, duration, True)\n",
    "\n",
    "\n",
    "name = 'Fuel into Reactors over Time'\n",
    "to_reactor = {'Fuel_to_reactor': fuel_into_reactors(cursor)}\n",
    "an.stacked_bar_chart(to_reactor, timestep,\n",
    "                     'Time [Yr]', 'Fuel into Reactors [MTHM]',\n",
    "                     name, img_out + name, ini_yr)\n",
    "\n",
    "Image(filename=img_out + name + '.png')"
   ]
  },
  {
   "cell_type": "markdown",
   "metadata": {},
   "source": [
    "As shown in the figure above, the fuel into reactors over time is not linear and changes with fuel demand of the reactors. This figure reflectes the state of the reactors (whether they were operating or refueling), and the number of reactors operating within the simulation. From the plot, the number of reactors greatly increased around 1990s.\n",
    "\n",
    "__Fuel utilization vs. time__\n",
    "\n",
    "Fuel utilization factor is the ratio of fuel spent to the amount of natural uranium consumed. While, fuel utilization factor is a value of interest, it is inaccurate at the moment of this investigation because the enrichment facilities in _CYCLUS_ does not perform a demand-driven fuel enrichment. Since the amount of natural uranium consumed is not accurate, fuel utilization factor, a derived variable, is also inaccurate. However, the functions used to calculate the fuel utilization factor over time is displayed for future usage. This is performed with `u_util_calc` function, which runs `nat_u_timeseries` function and `fuel_into_reactors` function to obtain the timeseries lists of natural uranium consumed and the amount of fuel consumed. Then, and element-wise division of the two lists were performed to obtain the fuel utilization factor."
   ]
  },
  {
   "cell_type": "code",
   "execution_count": 16,
   "metadata": {
    "ExecuteTime": {
     "end_time": "2018-04-23T22:47:23.608252Z",
     "start_time": "2018-04-23T22:47:17.835361Z"
    }
   },
   "outputs": [
    {
     "name": "stdout",
     "output_type": "stream",
     "text": [
      "The Average Fuel Utilization Factor is: \n",
      "0.10050566010464737\n"
     ]
    },
    {
     "name": "stderr",
     "output_type": "stream",
     "text": [
      "/home/gyutae/anaconda3/lib/python3.6/site-packages/matplotlib/__init__.py:1855: MatplotlibDeprecationWarning: The *left* kwarg to `bar` is deprecated use *x* instead. Support for *left* will be removed in Matplotlib 3.0\n",
      "  return func(ax, *args, **kwargs)\n"
     ]
    },
    {
     "data": {
      "image/png": "[encoded data removed]",
      "text/plain": [
       "<IPython.core.display.Image object>"
      ]
     },
     "execution_count": 16,
     "metadata": {},
     "output_type": "execute_result"
    }
   ],
   "source": [
    "def u_util_calc(cur):\n",
    "    \"\"\" Returns fuel utilization factor of fuel cycle\n",
    "\n",
    "    Parameters\n",
    "    ----------\n",
    "    cur: sqlite cursor\n",
    "        sqlite cursor\n",
    "\n",
    "    Returns\n",
    "    -------\n",
    "    u_util_timeseries: numpy array\n",
    "        Timeseries of Uranium utilization factor\n",
    "    Prints simulation average Uranium Utilization\n",
    "    \"\"\"\n",
    "    # timeseries of natural uranium\n",
    "    u_supply_timeseries = np.array(nat_u_timeseries(cur))\n",
    "\n",
    "    # timeseries of fuel into reactors\n",
    "    fuel_timeseries = np.array(fuel_into_reactors(cur))\n",
    "\n",
    "    # timeseries of Uranium utilization\n",
    "    u_util_timeseries = np.nan_to_num(fuel_timeseries / u_supply_timeseries)\n",
    "    print('The Average Fuel Utilization Factor is: ')\n",
    "    print(sum(u_util_timeseries) / len(u_util_timeseries))\n",
    "\n",
    "    return u_util_timeseries\n",
    "\n",
    "\n",
    "name = 'Fuel utilization'\n",
    "fuel_util = {'Fuel Utilization Factor': u_util_calc(cursor)}\n",
    "an.stacked_bar_chart(fuel_util, timestep,\n",
    "                     'Time [Yr]', 'Fuel utiliization',\n",
    "                     name, img_out + name, ini_yr)\n",
    "\n",
    "Image(filename=img_out + name + '.png')"
   ]
  },
  {
   "cell_type": "markdown",
   "metadata": {},
   "source": [
    "__Capacity vs. time__\n",
    "\n",
    "Total capacity over time is obtained using `get_power_dict` function and `capacity_calc` function. The `get_power_dict` function performs four sqlite queries to obtain the following: simulation start date, timesteps, institutions declared in _CYCLUS_, and reactors entry and exit timesteps. The results are sent to `capacity_calc` function, which calculates the timeseries value of the total capacity of the reactors in each institution."
   ]
  },
  {
   "cell_type": "code",
   "execution_count": 17,
   "metadata": {
    "ExecuteTime": {
     "end_time": "2018-04-23T22:47:25.568911Z",
     "start_time": "2018-04-23T22:47:23.623667Z"
    }
   },
   "outputs": [
    {
     "name": "stdout",
     "output_type": "stream",
     "text": [
      "FuelCycle has no values\n"
     ]
    },
    {
     "name": "stderr",
     "output_type": "stream",
     "text": [
      "/home/gyutae/anaconda3/lib/python3.6/site-packages/matplotlib/__init__.py:1855: MatplotlibDeprecationWarning: The *left* kwarg to `bar` is deprecated use *x* instead. Support for *left* will be removed in Matplotlib 3.0\n",
      "  return func(ax, *args, **kwargs)\n"
     ]
    },
    {
     "data": {
      "image/png": "[encoded data removed]",
      "text/plain": [
       "<IPython.core.display.Image object>"
      ]
     },
     "execution_count": 17,
     "metadata": {},
     "output_type": "execute_result"
    }
   ],
   "source": [
    "def get_power_dict(cur):\n",
    "    \"\"\" Gets dictionary of power capacity by calling capacity_calc\n",
    "\n",
    "    Parameters\n",
    "    ----------\n",
    "    cur: sqlite cursor\n",
    "        sqlite cursor\n",
    "\n",
    "    Returns\n",
    "    ------\n",
    "    power_dict: dictionary\n",
    "        \"dictionary with key=government, and\n",
    "        value=timeseries list of installed capacity\"\n",
    "    \"\"\"\n",
    "    init_year, init_month, duration, timestep = get_timesteps(cur)\n",
    "    governments = get_inst(cur)\n",
    "\n",
    "    # get power cap values\n",
    "    entry = cur.execute('SELECT max(value), timeseriespower.agentid, '\n",
    "                        'parentid, entertime FROM agententry '\n",
    "                        'INNER JOIN timeseriespower '\n",
    "                        'ON agententry.agentid = timeseriespower.agentid '\n",
    "                        'GROUP BY timeseriespower.agentid').fetchall()\n",
    "\n",
    "    exit_step = cur.execute('SELECT max(value), timeseriespower.agentid, '\n",
    "                            'parentid, exittime FROM agentexit '\n",
    "                            'INNER JOIN timeseriespower '\n",
    "                            'ON agentexit.agentid = timeseriespower.agentid'\n",
    "                            ' INNER JOIN agententry '\n",
    "                            'ON agentexit.agentid = agententry.agentid '\n",
    "                            'GROUP BY timeseriespower.agentid').fetchall()\n",
    "\n",
    "    return capacity_calc(governments, timestep, entry, exit_step)\n",
    "\n",
    "\n",
    "def get_inst(cur):\n",
    "    \"\"\" Returns prototype and agentids of institutions\n",
    "\n",
    "    Parameters\n",
    "    ----------\n",
    "    cur: sqlite cursor\n",
    "        sqlite cursor\n",
    "\n",
    "    Returns\n",
    "    -------\n",
    "    sqlite query result (list of tuples)\n",
    "    \"\"\"\n",
    "    return cur.execute('SELECT prototype, agentid FROM agententry '\n",
    "                       'WHERE kind = \"Inst\"').fetchall()\n",
    "\n",
    "\n",
    "def capacity_calc(governments, timestep, entry, exit_step):\n",
    "    \"\"\"Adds and subtracts capacity over time for plotting\n",
    "\n",
    "    Parameters\n",
    "    ----------\n",
    "    governments: list\n",
    "        list of governments (countries)\n",
    "    timestep: np.linspace\n",
    "        list of timestep from 0 to simulation time\n",
    "    entry: list\n",
    "        power_cap, agentid, parentid, entertime\n",
    "        of all entered reactors\n",
    "    exit_step: list\n",
    "        power_cap, agentid, parenitd, exittime\n",
    "        of all decommissioned reactors\n",
    "\n",
    "    Returns\n",
    "    -------\n",
    "    power_dict: dictionary\n",
    "        \"dictionary with key=government, and\n",
    "        value=timeseries list capacity\"\n",
    "    \"\"\"\n",
    "    power_dict = collections.OrderedDict()\n",
    "    for gov in governments:\n",
    "        capacity = []\n",
    "        cap = 0\n",
    "        for t in timestep:\n",
    "            for enter in entry:\n",
    "                if (enter['entertime'] == t and\n",
    "                        enter['parentid'] == gov['agentid']):\n",
    "                    cap += enter['max(value)'] * 0.001\n",
    "            for dec in exit_step:\n",
    "                if (dec['exittime'] == t and\n",
    "                        dec['parentid'] == gov['agentid']):\n",
    "                    cap -= dec['max(value)'] * 0.001\n",
    "            capacity.append(cap)\n",
    "        power_dict[gov['prototype']] = np.asarray(capacity)\n",
    "\n",
    "    return power_dict\n",
    "\n",
    "\n",
    "name = 'Net Capacity vs Time'\n",
    "capacity_dict = get_power_dict(cursor)\n",
    "an.stacked_bar_chart(capacity_dict, timestep,\n",
    "                     'Years', 'Net_Capacity [GWe]',\n",
    "                     name, img_out + name, ini_yr)\n",
    "\n",
    "Image(filename=img_out + name + '.png')"
   ]
  },
  {
   "cell_type": "markdown",
   "metadata": {},
   "source": [
    "As shown in the figure above, the net capacity greatly increases between 1965 and 1990. The increase in capacity reflects the increase in the number of reactors in operation. Then, the capacity decreases gradually from around 1995. This trend is also shown in the figure of number of reactors over time below.\n",
    "\n",
    "__Number of reactors vs time__\n",
    "\n",
    "A very similar procedure is used to obtain the number of reactors over time. The same four queries made to calculate capacity over time are made to get the number of reactors over time. Then, the result of the queries is passed to `reactor_deployments` function, which calculates the number of reactors operating over time. "
   ]
  },
  {
   "cell_type": "code",
   "execution_count": 18,
   "metadata": {
    "ExecuteTime": {
     "end_time": "2018-04-23T22:47:27.432997Z",
     "start_time": "2018-04-23T22:47:25.574346Z"
    }
   },
   "outputs": [
    {
     "name": "stdout",
     "output_type": "stream",
     "text": [
      "FuelCycle has no values\n"
     ]
    },
    {
     "name": "stderr",
     "output_type": "stream",
     "text": [
      "/home/gyutae/anaconda3/lib/python3.6/site-packages/matplotlib/__init__.py:1855: MatplotlibDeprecationWarning: The *left* kwarg to `bar` is deprecated use *x* instead. Support for *left* will be removed in Matplotlib 3.0\n",
      "  return func(ax, *args, **kwargs)\n"
     ]
    },
    {
     "data": {
      "image/png": "[encoded data removed]",
      "text/plain": [
       "<IPython.core.display.Image object>"
      ]
     },
     "execution_count": 18,
     "metadata": {},
     "output_type": "execute_result"
    }
   ],
   "source": [
    "def get_deployment_dict(cur):\n",
    "    \"\"\" Gets dictionary of reactors deployed over time\n",
    "    by calling reactor_deployments\n",
    "\n",
    "    Parameters\n",
    "    ----------\n",
    "    cur: sqlite cursor\n",
    "        sqlite cursor\n",
    "\n",
    "    Returns\n",
    "    ------\n",
    "    num_dict: dictionary\n",
    "        \"dictionary with key=government, and\n",
    "        value=timeseries list of number of reactors\"\n",
    "    \"\"\"\n",
    "    init_year, init_month, duration, timestep = get_timesteps(cur)\n",
    "    governments = get_inst(cur)\n",
    "\n",
    "    # get power cap values\n",
    "    entry = cur.execute('SELECT max(value), timeseriespower.agentid, '\n",
    "                        'parentid, entertime FROM agententry '\n",
    "                        'INNER JOIN timeseriespower '\n",
    "                        'ON agententry.agentid = timeseriespower.agentid '\n",
    "                        'GROUP BY timeseriespower.agentid').fetchall()\n",
    "\n",
    "    exit_step = cur.execute('SELECT max(value), timeseriespower.agentid, '\n",
    "                            'parentid, exittime FROM agentexit '\n",
    "                            'INNER JOIN timeseriespower '\n",
    "                            'ON agentexit.agentid = timeseriespower.agentid'\n",
    "                            ' INNER JOIN agententry '\n",
    "                            'ON agentexit.agentid = agententry.agentid '\n",
    "                            'GROUP BY timeseriespower.agentid').fetchall()\n",
    "\n",
    "    return reactor_deployments(governments, timestep, entry, exit_step)\n",
    "\n",
    "\n",
    "def reactor_deployments(governments, timestep, entry, exit_step):\n",
    "    \"\"\"Adds and subtracts number of reactors deployed over time\n",
    "    for plotting\n",
    "\n",
    "    Parameters\n",
    "    ----------\n",
    "    governments: list\n",
    "        list of governments (countries)\n",
    "    timestep: np.linspace\n",
    "        list of timestep from 0 to simulation time\n",
    "    entry: list\n",
    "        power_cap, agentid, parentid, entertime\n",
    "        of all entered reactors\n",
    "\n",
    "    exit_step: list\n",
    "        power_cap, agentid, parenitd, exittime\n",
    "        of all decommissioned reactors\n",
    "\n",
    "    Returns\n",
    "    -------\n",
    "    deployment: dictionary\n",
    "        \"dictionary with key=government, and\n",
    "        value=timeseries number of reactors\"\n",
    "    \"\"\"\n",
    "    deployment = collections.OrderedDict()\n",
    "    for gov in governments:\n",
    "        num_reactors = []\n",
    "        count = 0\n",
    "        for t in timestep:\n",
    "            for enter in entry:\n",
    "                if (enter['entertime'] == t and\n",
    "                        enter['parentid'] == gov['agentid']):\n",
    "                    count += 1\n",
    "            for dec in exit_step:\n",
    "                if (dec['exittime'] == t and\n",
    "                        dec['parentid'] == gov['agentid']):\n",
    "                    count -= 1\n",
    "            num_reactors.append(count)\n",
    "        deployment[gov['prototype']] = np.asarray(num_reactors)\n",
    "\n",
    "    return deployment\n",
    "\n",
    "\n",
    "name = 'Number of Reactors vs Time'\n",
    "an.stacked_bar_chart(get_deployment_dict(cursor),\n",
    "                     timestep, 'Years', 'Number of Reactors',\n",
    "                     name, img_out + name, ini_yr)\n",
    "\n",
    "Image(filename=img_out + name + '.png')"
   ]
  },
  {
   "cell_type": "markdown",
   "metadata": {},
   "source": [
    "__Power generated vs. time__\n",
    "\n",
    "The amount of power generated over time is calculated from capacity over time with a few assumptions. Power generated is calculated from capacity with the the following function.\n",
    "\n",
    "$$P(t)=C(t)\\times CF(t)\\times HRPYR$$\n",
    "\n",
    "where,\n",
    "\n",
    "$$P(t) = Power\\ generated\\ over\\ a\\ year\\ [GWh]$$\n",
    "$$C(t) = Capacity\\ over\\ time\\ [GWe]$$\n",
    "$$CF(t)= Capacity\\ factor$$\n",
    "$$HRPYR= Number\\ of\\ hours\\ in\\ a\\ year$$\n",
    "\n",
    "The following assumptions are used for the calculation above.\n",
    "\n",
    "1. Refueling time of all reactors is 1 month.\n",
    "2. Capacity factor is constant throughout the year, and identical for all reactors.\n",
    "3. Reactors generate their full power even during startup and shutdown.\n",
    "\n",
    "Capacity factor data is obtained from the Energy Information Administration (EIA), which has the yearly average capacity factor for reactors in the United States from 1971 to 2017. The capacity factor is assumed constant from 2016 to the end of the simulation and from 1965 to 1971. Capacity factor for each year was stored in a separate [spreadsheet file](analysis/published_data/US/capacity_factor_extrapolated.csv). A set of python functions are used to calculate the power generated over time."
   ]
  },
  {
   "cell_type": "code",
   "execution_count": 19,
   "metadata": {
    "ExecuteTime": {
     "end_time": "2018-04-23T22:47:27.483606Z",
     "start_time": "2018-04-23T22:47:27.453598Z"
    }
   },
   "outputs": [
    {
     "name": "stdout",
     "output_type": "stream",
     "text": [
      "['Year', 'Capacity Factor']\n",
      "['1965', '48.2']\n",
      "['1966', '48.2']\n",
      "['1967', '48.2']\n",
      "['1968', '48.2']\n",
      "['1969', '48.2']\n",
      "['1970', '48.2']\n",
      "['1971', '48.2']\n",
      ".\n",
      ".\n",
      ".\n"
     ]
    }
   ],
   "source": [
    "hours_in_year = 24 * 365.25\n",
    "cf_data = import_csv('analysis/published_data/united_states/capacity_factor_extrapolated.csv',\n",
    "                     ',')\n",
    "print(*cf_data[:8], sep='\\n')\n",
    "print('.', '.', '.', sep='\\n')"
   ]
  },
  {
   "cell_type": "markdown",
   "metadata": {},
   "source": [
    "The capacity factor is assumed to be constant at 48.2% from 1965 to 1971, and at 92.5% from 2017 to 2049. Power generated at each timestep is calculated by performing an element-wise multiplication of  the capacity factor data and the capacity. However, since capacity factor is stored for each year, Assumption 2 is used. A separate function is used to create a list that stores the capacity factor for each timestep of the simulation."
   ]
  },
  {
   "cell_type": "code",
   "execution_count": 20,
   "metadata": {
    "ExecuteTime": {
     "end_time": "2018-04-23T22:47:29.065554Z",
     "start_time": "2018-04-23T22:47:27.485378Z"
    }
   },
   "outputs": [
    {
     "name": "stderr",
     "output_type": "stream",
     "text": [
      "/home/gyutae/anaconda3/lib/python3.6/site-packages/matplotlib/__init__.py:1855: MatplotlibDeprecationWarning: The *left* kwarg to `bar` is deprecated use *x* instead. Support for *left* will be removed in Matplotlib 3.0\n",
      "  return func(ax, *args, **kwargs)\n"
     ]
    },
    {
     "data": {
      "image/png": "[encoded data removed]",
      "text/plain": [
       "<IPython.core.display.Image object>"
      ]
     },
     "execution_count": 20,
     "metadata": {},
     "output_type": "execute_result"
    }
   ],
   "source": [
    "def get_cf(in_list):\n",
    "    \"\"\" Creates a list of capacity factor from\n",
    "    the imported csv file\n",
    "\n",
    "    Parameters\n",
    "    ----------\n",
    "    in_list: list\n",
    "        list containing data stored in a csv file\n",
    "\n",
    "    Returns\n",
    "    -------\n",
    "    cf: list\n",
    "        list of capacity factors per month\n",
    "    \"\"\"\n",
    "    cf = []\n",
    "    for row in in_list[1:]:\n",
    "        for i in range(0, 12):\n",
    "            cf.append(float(row[1]) / 100)\n",
    "\n",
    "    return cf\n",
    "\n",
    "name = 'Power Generated'\n",
    "cf = np.asarray(get_cf(cf_data))\n",
    "capacity = capacity_dict['United_States']\n",
    "generated = {\"United_States\": np.multiply(capacity, cf) * hours_in_year}\n",
    "an.stacked_bar_chart(generated, timestep,\n",
    "                     'Years', 'Power Generated [GWh]',\n",
    "                     name, img_out + name, ini_yr)\n",
    "\n",
    "Image(filename=img_out + name + '.png')"
   ]
  },
  {
   "cell_type": "markdown",
   "metadata": {},
   "source": [
    "__Power generated between 1971 and 2016__\n",
    "\n",
    "The NEI published the amount of power generated by nuclear power plants in the United States between 1971 and 2016 [4]. This information is used to compare the simulation results with the actual data. The data obtained from the previous analysis was used to obtain the power generated between 1971 and 2016 by calculating the starting index and the ending index. The published power generation was plotted for comparison."
   ]
  },
  {
   "cell_type": "code",
   "execution_count": 21,
   "metadata": {
    "ExecuteTime": {
     "end_time": "2018-04-23T22:47:29.898160Z",
     "start_time": "2018-04-23T22:47:29.077484Z"
    }
   },
   "outputs": [
    {
     "name": "stderr",
     "output_type": "stream",
     "text": [
      "/home/gyutae/anaconda3/lib/python3.6/site-packages/matplotlib/__init__.py:1855: MatplotlibDeprecationWarning: The *left* kwarg to `bar` is deprecated use *x* instead. Support for *left* will be removed in Matplotlib 3.0\n",
      "  return func(ax, *args, **kwargs)\n"
     ]
    },
    {
     "data": {
      "image/png": "[encoded data removed]",
      "text/plain": [
       "<IPython.core.display.Image object>"
      ]
     },
     "execution_count": 21,
     "metadata": {},
     "output_type": "execute_result"
    }
   ],
   "source": [
    "start_year = 1971\n",
    "end_year = 2017\n",
    "start_index = (start_year - 1965) * 12\n",
    "end_index = (end_year - 1965) * 12\n",
    "dura = end_year - start_year\n",
    "\n",
    "name = 'Power Generated 1971~2016'\n",
    "timestep_range = timestep[start_index: end_index]\n",
    "cf_range = cf[start_index: end_index]\n",
    "generated_range = {\"United_States\":\n",
    "                   generated[\"United_States\"][start_index: end_index]}\n",
    "an.stacked_bar_chart(generated_range, timestep_range,\n",
    "                     \"Years\", \"Power Generated [GWh]\",\n",
    "                     name, img_out + name, 1965)\n",
    "\n",
    "Image(filename=img_out + name + '.png')"
   ]
  },
  {
   "cell_type": "code",
   "execution_count": 22,
   "metadata": {
    "ExecuteTime": {
     "end_time": "2018-04-23T22:47:29.946601Z",
     "start_time": "2018-04-23T22:47:29.909216Z"
    }
   },
   "outputs": [
    {
     "data": {
      "image/png": "[encoded data removed]",
      "text/plain": [
       "<IPython.core.display.Image object>"
      ]
     },
     "execution_count": 22,
     "metadata": {},
     "output_type": "execute_result"
    }
   ],
   "source": [
    "Image(filename='analysis/published_data/united_states/Power Generated NEI.png')"
   ]
  },
  {
   "cell_type": "markdown",
   "metadata": {},
   "source": [
    "As shown in the two plots above,the plot of power generated between 1971 and 2016 from the _CYCLUS_ simulation matches  closely to that published by the NEI. There are a few differences between the two plots. First, the power generated according to _CYCLUS_ is slightly higher overall than that according to NEI. This can be explained from the difference in simulation and real-world refueling times. \n",
    "\n",
    "Due to software limitations of _CYCLUS_, refueling time for reactors can only be entered in integers of month, and stayed constant throughout the lifetime of the plant whereas actual refueling time varies in floating points of month and changes depending on various factors. The _CYCLUS_ simulation used to obtain the power generated over time assumes a refueling period of 1 month. According to the NEI, the average  refueling period for reactors in the United States varies quite significantly. The average refueling period in 1990 was 104 days, a period of over 3 months, and generally decreases to an average refueling period of 35 days, a period  just over 1 month, in 2017. As published by the NEI, the average refueling period of nuclear reactors in the United States is greater than 1 month between 1990 and 2017 [3]. This means that the power generated by the reactors deployed in the _CYCLUS_ simulation will have a greater amount of power generated over a period of time."
   ]
  },
  {
   "cell_type": "markdown",
   "metadata": {},
   "source": [
    "## Conclusion\n",
    "\n",
    "To conclude, _CYCLUS_ performed simulations at an accurate level as shown in the comparison of the power generation plots. However, some improvements in _CYCLUS_ would be benefitial in producing a more accurate simulation: the implementation of an enrichment facility that processes fuel on a need basis. There are other improvements that can be potentially made for this simulation to improve its accuracy.\n",
    "\n",
    "+  Specify actual burnup for reactors\n",
    "    + Currently, the reactors deployed in Cyclus are all deployed with a burnup of 51 GWd/MTHM. "
   ]
  },
  {
   "cell_type": "markdown",
   "metadata": {},
   "source": [
    "### References\n",
    "\n",
    "[1] N. Todreas and M. Kazimi, Nuclear systems. Boca Raton, FL: CRC Press, 2012.\n",
    "\n",
    "\n",
    "[2] D. Cacuci, Handbook of nuclear engineering. New York: Springer, 2010.\n",
    "\n",
    "\n",
    "[3] US Nuclear Refueling Outage Days. (n.d.). Retrieved from https://www.nei.org/Knowledge-Center/Nuclear-Statistics/US-Nuclear-Power-Plants/US-Nuclear-Refueling-Outage-Days\n",
    "\n",
    "\n",
    "[4] US Nuclear Generating Statistics. (n.d.). Retrieved from https://www.nei.org/Knowledge-Center/Nuclear-Statistics/US-Nuclear-Power-Plants/US-Nuclear-Generating-Statistics"
   ]
  }
 ],
 "metadata": {
  "kernelspec": {
   "display_name": "Python 3",
   "language": "python",
   "name": "python3"
  },
  "language_info": {
   "codemirror_mode": {
    "name": "ipython",
    "version": 3
   },
   "file_extension": ".py",
   "mimetype": "text/x-python",
   "name": "python",
   "nbconvert_exporter": "python",
   "pygments_lexer": "ipython3",
   "version": "3.6.4"
  },
  "varInspector": {
   "cols": {
    "lenName": 16,
    "lenType": 16,
    "lenVar": 40
   },
   "kernels_config": {
    "python": {
     "delete_cmd_postfix": "",
     "delete_cmd_prefix": "del ",
     "library": "var_list.py",
     "varRefreshCmd": "print(var_dic_list())"
    },
    "r": {
     "delete_cmd_postfix": ") ",
     "delete_cmd_prefix": "rm(",
     "library": "var_list.r",
     "varRefreshCmd": "cat(var_dic_list()) "
    }
   },
   "types_to_exclude": [
    "module",
    "function",
    "builtin_function_or_method",
    "instance",
    "_Feature"
   ],
   "window_display": false
  }
 },
 "nbformat": 4,
 "nbformat_minor": 2
}
