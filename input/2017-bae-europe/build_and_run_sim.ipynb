{
 "cells": [
  {
   "cell_type": "markdown",
   "metadata": {},
   "source": [
    "### Import Necessary Module and Set Path "
   ]
  },
  {
   "cell_type": "code",
   "execution_count": 72,
   "metadata": {},
   "outputs": [],
   "source": [
    "import sqlite3 as lite\n",
    "import os\n",
    "import matplotlib.pyplot as plt\n",
    "import sys\n",
    "import numpy as np\n",
    "from matplotlib import cm\n",
    "import collections\n",
    "\n",
    "sys.path.insert(0, '../../scripts/')\n",
    "jupyter_directory = os.getcwd()"
   ]
  },
  {
   "cell_type": "markdown",
   "metadata": {},
   "source": [
    "## dependencies\n",
    "* cyclus-input-gen\n",
    "install by:\n",
    "```\n",
    "git clone https://github.com/arfc/cyclus-input-gen\n",
    "cd cyclus-input-gen\n",
    "python setup.py install\n",
    "```"
   ]
  },
  {
   "cell_type": "code",
   "execution_count": 73,
   "metadata": {},
   "outputs": [],
   "source": [
    "import analysis as an\n",
    "import random_lifetime_extension as rle\n",
    "import cyclus_input_gen.from_pris as fp\n",
    "import cyclus_input_gen.demand_deploy as dd\n",
    "import cyclus_input_gen.find_replace as fr"
   ]
  },
  {
   "cell_type": "code",
   "execution_count": 74,
   "metadata": {},
   "outputs": [],
   "source": [
    "# write input file using cyclus_input_gen module\n",
    "# find database path -> the csv file is in cyclus-input-gen/database\n",
    "database_path = '/home/teddy/transition-scenarios/input/2017-bae-europe/cyclus-input-gen/database/reactors_pris_2016.csv'\n",
    "country_list = ['Poland', 'Hungary', 'United Kingdom', 'Czech Republic', 'Slovakia',\n",
    "                'Bulgaria', 'Finland', 'Netherlands', 'Italy', 'Slovenia',\n",
    "                'Belgium', 'Spain', 'Lithuania', 'France', 'Sweden', 'Germany', 'Romania']\n",
    "fp.main(database_path, 19700101, 2280, country_list, 'input_raw.xml')"
   ]
  },
  {
   "cell_type": "markdown",
   "metadata": {},
   "source": [
    "Then other reactors planned in other countries are added by referencing other sources"
   ]
  },
  {
   "cell_type": "code",
   "execution_count": 59,
   "metadata": {},
   "outputs": [
    {
     "name": "stdout",
     "output_type": "stream",
     "text": [
      "193453\n"
     ]
    }
   ],
   "source": [
    "# replace fuel cycle facilities\n",
    "with open('input_raw.xml') as f:\n",
    "    input_string = f.read()\n",
    "\n",
    "replace_start = \"\"\"\n",
    "<facility>\n",
    "    <name>mixer</name>\n",
    "\"\"\"\n",
    "replace_end = \"\"\"\n",
    "\n",
    "     <facility>\n",
    "    <!-- Belgium -->\n",
    "    <!-- PWR -->\n",
    "    <name>DOEL-1</name>\n",
    "    <config>\n",
    "      <Reactor>\n",
    "        <fuel_inrecipes>  <val>uox_fuel_recipe</val>       </fuel_inrecipes>\n",
    "        <fuel_outrecipes> <val>uox_used_fuel_recipe</val>  </fuel_outrecipes>\n",
    "        <fuel_incommods>  <val>uox</val>                   </fuel_incommods>\n",
    "        <fuel_outcommods> <val>uox_waste</val>             </fuel_outcommods>\n",
    "        <fuel_prefs>      <val>1.0</val>                   </fuel_prefs>\n",
    "        <cycle_time>18</cycle_time>\n",
    "        <refuel_time>2</refuel_time>\n",
    "        <assem_size>446.0</assem_size>\n",
    "        <n_assem_core>83</n_assem_core>\n",
    "        <n_assem_batch>27</n_assem_batch>\n",
    "        <power_cap>433</power_cap>\n",
    "      </Reactor>\n",
    "    </config>\n",
    "  </facility>\n",
    "\"\"\"\n",
    "\n",
    "new_input = fr.replace_file(input_string, replace_start, replace_end, 'facilities.xml')\n",
    "print(len(new_input))"
   ]
  },
  {
   "cell_type": "code",
   "execution_count": 60,
   "metadata": {},
   "outputs": [
    {
     "name": "stdout",
     "output_type": "stream",
     "text": [
      "193732\n"
     ]
    }
   ],
   "source": [
    "# delete unnecessary region definition\n",
    "start = \"\"\"\n",
    "<region>\n",
    "    <name>Sink_Source</name>\n",
    "    <config><NullRegion/></config>\n",
    "\"\"\"\n",
    "end = \"\"\"\n",
    "  <recipe>\n",
    "    <name>natl_u_recipe</name>\n",
    "    <basis>mass</basis>\n",
    "    <nuclide> <id>U235</id> <comp>0.711</comp> </nuclide>\n",
    "    <nuclide> <id>U238</id> <comp>99.289</comp> </nuclide>\n",
    "  </recipe>\n",
    "\"\"\"\n",
    "\n",
    "new_input = fr.replace_file(new_input, start, end, 'sink_source.xml')\n",
    "print(len(new_input))"
   ]
  },
  {
   "cell_type": "code",
   "execution_count": 61,
   "metadata": {},
   "outputs": [
    {
     "name": "stdout",
     "output_type": "stream",
     "text": [
      "203167\n"
     ]
    }
   ],
   "source": [
    "# replace recipe block with contents in recipes.xml\n",
    "replace_start = \"\"\"\n",
    "  <recipe>\n",
    "    <name>natl_u_recipe</name>\n",
    "    <basis>mass</basis>\n",
    "    <nuclide> <id>U235</id> <comp>0.711</comp> </nuclide>\n",
    "    <nuclide> <id>U238</id> <comp>99.289</comp> </nuclide>\n",
    "  </recipe>\n",
    "\"\"\"\n",
    "replace_end = \"\"\"</simulation>\"\"\"\n",
    "\n",
    "new_input = fr.replace_file(new_input, replace_start, replace_end, 'recipes.xml')\n",
    "print(len(new_input))\n"
   ]
  },
  {
   "cell_type": "code",
   "execution_count": 62,
   "metadata": {},
   "outputs": [
    {
     "name": "stdout",
     "output_type": "stream",
     "text": [
      "204720\n"
     ]
    }
   ],
   "source": [
    "# insert french_facilities insitution definition in France region:\n",
    "insert_start = \"\"\"\n",
    "  <region>\n",
    "      <name>France</name>\n",
    "      <config><NullRegion/></config>\n",
    "\"\"\"\n",
    "\n",
    "insert_end = \"\"\"\n",
    "      <institution>\n",
    "        <name>France_government</name>\n",
    "\"\"\"\n",
    "\n",
    "new_input = fr.replace_file(new_input, insert_start, insert_end, 'french_facilities_inst.xml', insert=True)\n",
    "print(len(new_input))"
   ]
  },
  {
   "cell_type": "code",
   "execution_count": 63,
   "metadata": {},
   "outputs": [],
   "source": [
    "with open('input.xml', 'w') as f:\n",
    "    f.write(new_input)"
   ]
  },
  {
   "cell_type": "markdown",
   "metadata": {},
   "source": [
    "### Change lifetimes of Germany, Belgium, and Sweden so the following is met:\n",
    "1. All German reactors shut down by 2022 (timestep 624)\n",
    "2. All Swedish reactors shut down in 2050 (timestep 960)\n",
    "3. All Belgium reactors shut down in 2025 (timestep 660)\n",
    "\n",
    "You can simply get the institution definitions for these nations in `lifetimes.xml`"
   ]
  },
  {
   "cell_type": "markdown",
   "metadata": {},
   "source": [
    "### Replace French reactor prototype definitions with the contents in file `france_reactors.xml`\n",
    "It starts with the reactor definition for CHINON A-2 and ends with definition for FLAMANVILLE-3.\n",
    "This is done because French reactors have different outcommodity names for separate tracking."
   ]
  },
  {
   "cell_type": "markdown",
   "metadata": {},
   "source": [
    "## Run Cyclus Input file (without ASTRIDs)"
   ]
  },
  {
   "cell_type": "code",
   "execution_count": 10,
   "metadata": {},
   "outputs": [
    {
     "name": "stdout",
     "output_type": "stream",
     "text": [
      "              :                                                               \n",
      "          .CL:CC CC             _Q     _Q  _Q_Q    _Q    _Q              _Q   \n",
      "        CC;CCCCCCCC:C;         /_\\)   /_\\)/_/\\\\)  /_\\)  /_\\)            /_\\)  \n",
      "        CCCCCCCCCCCCCl       __O|/O___O|/O_OO|/O__O|/O__O|/O____________O|/O__\n",
      "     CCCCCCf     iCCCLCC     /////////////////////////////////////////////////\n",
      "     iCCCt  ;;;;;.  CCCC                                                      \n",
      "    CCCC  ;;;;;;;;;. CClL.                          c                         \n",
      "   CCCC ,;;       ;;: CCCC  ;                   : CCCCi                       \n",
      "    CCC ;;         ;;  CC   ;;:                CCC`   `C;                     \n",
      "  lCCC ;;              CCCC  ;;;:             :CC .;;. C;   ;    :   ;  :;;   \n",
      "  CCCC ;.              CCCC    ;;;,           CC ;    ; Ci  ;    :   ;  :  ;  \n",
      "   iCC :;               CC       ;;;,        ;C ;       CC  ;    :   ; .      \n",
      "  CCCi ;;               CCC        ;;;.      .C ;       tf  ;    :   ;  ;.    \n",
      "  CCC  ;;               CCC          ;;;;;;; fC :       lC  ;    :   ;    ;:  \n",
      "   iCf ;;               CC         :;;:      tC ;       CC  ;    :   ;     ;  \n",
      "  fCCC :;              LCCf      ;;;:         LC :.  ,: C   ;    ;   ; ;   ;  \n",
      "  CCCC  ;;             CCCC    ;;;:           CCi `;;` CC.  ;;;; :;.;.  ; ,;  \n",
      "    CCl ;;             CC    ;;;;              CCC    CCL                     \n",
      "   tCCC  ;;        ;; CCCL  ;;;                  tCCCCC.                      \n",
      "    CCCC  ;;     :;; CCCCf  ;                     ,L                          \n",
      "     lCCC   ;;;;;;  CCCL                                                      \n",
      "     CCCCCC  :;;  fCCCCC                                                      \n",
      "      . CCCC     CCCC .                                                       \n",
      "       .CCCCCCCCCCCCCi                                                        \n",
      "          iCCCCCLCf                                                           \n",
      "           .  C. ,                                                            \n",
      "              :                                                               \n",
      "Experimental Warning: MatlBuyPolicy is experimental and its API may be subject to change\n",
      "Experimental Warning: MatlSellPolicy is experimental and its API may be subject to change\n",
      "Experimental Warning: The Storage Facility is experimental.\n",
      "Experimental Warning: MatlSellPolicy is experimental and its API may be subject to change\n",
      "Experimental Warning: the Mixer archetype is experimental\n",
      "Experimental Warning: MatlSellPolicy is experimental and its API may be subject to change\n",
      "Experimental Warning: the Mixer archetype is experimental\n",
      "Experimental Warning: MatlSellPolicy is experimental and its API may be subject to change\n",
      "Experimental Warning: the Mixer archetype is experimental\n",
      "Experimental Warning: MatlSellPolicy is experimental and its API may be subject to change\n",
      "Experimental Warning: the Mixer archetype is experimental\n",
      "Experimental Warning: MatlBuyPolicy is experimental and its API may be subject to change\n",
      "Experimental Warning: MatlSellPolicy is experimental and its API may be subject to change\n",
      "Experimental Warning: The Storage Facility is experimental.\n",
      "Experimental Warning: MatlBuyPolicy is experimental and its API may be subject to change\n",
      "Experimental Warning: MatlSellPolicy is experimental and its API may be subject to change\n",
      "Experimental Warning: The Storage Facility is experimental.\n",
      "Experimental Warning: MatlBuyPolicy is experimental and its API may be subject to change\n",
      "Experimental Warning: MatlSellPolicy is experimental and its API may be subject to change\n",
      "Experimental Warning: The Storage Facility is experimental.\n",
      "Experimental Warning: MatlBuyPolicy is experimental and its API may be subject to change\n",
      "Experimental Warning: MatlSellPolicy is experimental and its API may be subject to change\n",
      "Experimental Warning: The Storage Facility is experimental.\n",
      "Experimental Warning: MatlBuyPolicy is experimental and its API may be subject to change\n",
      "Experimental Warning: MatlSellPolicy is experimental and its API may be subject to change\n",
      "Experimental Warning: The Storage Facility is experimental.\n",
      "Experimental Warning: MatlBuyPolicy is experimental and its API may be subject to change\n",
      "Experimental Warning: MatlSellPolicy is experimental and its API may be subject to change\n",
      "Experimental Warning: The Storage Facility is experimental.\n",
      "Experimental Warning: MatlSellPolicy is experimental and its API may be subject to change\n",
      "Experimental Warning: the Mixer archetype is experimental\n",
      "Experimental Warning: MatlSellPolicy is experimental and its API may be subject to change\n",
      "Experimental Warning: the Mixer archetype is experimental\n",
      "Experimental Warning: MatlSellPolicy is experimental and its API may be subject to change\n",
      "Experimental Warning: the Mixer archetype is experimental\n",
      "Experimental Warning: MatlBuyPolicy is experimental and its API may be subject to change\n",
      "Experimental Warning: MatlSellPolicy is experimental and its API may be subject to change\n",
      "Experimental Warning: The Storage Facility is experimental.\n",
      "Experimental Warning: MatlBuyPolicy is experimental and its API may be subject to change\n",
      "Experimental Warning: MatlSellPolicy is experimental and its API may be subject to change\n",
      "Experimental Warning: The Storage Facility is experimental.\n",
      "Experimental Warning: MatlSellPolicy is experimental and its API may be subject to change\n",
      "Further Experimental Warnings will be suppressed.\n",
      "\n",
      "Status: Cyclus run successful!\n",
      "Output location: output.sqlite\n",
      "Simulation ID: a66bf3e2-2ad1-4b68-a154-bb627ae55a05\n"
     ]
    }
   ],
   "source": [
    "! rm output.sqlite\n",
    "! cyclus input.xml -o output.sqlite"
   ]
  },
  {
   "cell_type": "code",
   "execution_count": 11,
   "metadata": {},
   "outputs": [],
   "source": [
    "# get sqlite cursor and simulation time data\n",
    "cur = an.cursor('output.sqlite')\n",
    "init_year, init_month, duration, timestep = an.simulation_timesteps(cur)"
   ]
  },
  {
   "cell_type": "code",
   "execution_count": 13,
   "metadata": {},
   "outputs": [
    {
     "name": "stdout",
     "output_type": "stream",
     "text": [
      "64.72999999999999\n"
     ]
    }
   ],
   "source": [
    "# just france LWR power\n",
    "power_capacity = an.power_capacity(cur)\n",
    "\n",
    "power_demand_eq = str(max(power_capacity['France_government']))\n",
    "print(power_demand_eq)\n",
    "# with this power capacity, calculate deployment scheme for astrids:\n",
    "astrid_lifetime = 720\n",
    "astrid_deployment, powz = dd.get_new_deployment(power_capacity, ['France_government'],\n",
    "                                                power_demand_eq, 0.6, astrid_lifetime, 840, True)\n",
    "dd.write_deployinst(astrid_deployment, 'astrid', 'astrid_dep.xml', astrid_lifetime)"
   ]
  },
  {
   "cell_type": "code",
   "execution_count": 14,
   "metadata": {},
   "outputs": [],
   "source": [
    "# add institution wrapper to generated deployinst block\n",
    "head = \"\"\"\n",
    "      <institution>\n",
    "        <name>France_astrid</name>\n",
    "        <config>\n",
    "          <DeployInst>\n",
    "\"\"\"\n",
    "tail = \"\"\"\n",
    "\n",
    "          </DeployInst>\n",
    "        </config>\n",
    "      </institution>\n",
    "\"\"\"\n",
    "with open('astrid_dep.xml') as f:\n",
    "    read_string = f.read()\n",
    "    read_string = read_string.replace('<root>', '')\n",
    "    read_string = read_string.replace('</root>', '')\n",
    "    tot_string = head + read_string + tail\n",
    "with open('astrid_dep.xml', 'w') as f:\n",
    "    f.write(tot_string)"
   ]
  },
  {
   "cell_type": "code",
   "execution_count": 15,
   "metadata": {},
   "outputs": [
    {
     "name": "stdout",
     "output_type": "stream",
     "text": [
      "183474\n",
      "183539\n",
      "230765\n"
     ]
    }
   ],
   "source": [
    "# insert astrid block\n",
    "with open('input.xml') as f:\n",
    "    input_string = f.read()\n",
    "\n",
    "insert_start = \"\"\"          </DeployInst>\n",
    "        </config>\n",
    "      </institution>\"\"\"\n",
    "\n",
    "\n",
    "insert_end = \"\"\"</region>\n",
    "  \n",
    "  <region>\n",
    "      <name>Finland</name>\n",
    "      <config><NullRegion/></config>\n",
    "\"\"\"\n",
    "\n",
    "new_input = fr.replace_file(input_string, insert_start, insert_end, 'astrid_dep.xml', insert=True)\n",
    "print(len(new_input))\n",
    "with open('input_astrid.xml', 'w') as f:\n",
    "    f.write(new_input)"
   ]
  },
  {
   "cell_type": "code",
   "execution_count": 52,
   "metadata": {},
   "outputs": [
    {
     "name": "stdout",
     "output_type": "stream",
     "text": [
      "              :                                                               \n",
      "          .CL:CC CC             _Q     _Q  _Q_Q    _Q    _Q              _Q   \n",
      "        CC;CCCCCCCC:C;         /_\\)   /_\\)/_/\\\\)  /_\\)  /_\\)            /_\\)  \n",
      "        CCCCCCCCCCCCCl       __O|/O___O|/O_OO|/O__O|/O__O|/O____________O|/O__\n",
      "     CCCCCCf     iCCCLCC     /////////////////////////////////////////////////\n",
      "     iCCCt  ;;;;;.  CCCC                                                      \n",
      "    CCCC  ;;;;;;;;;. CClL.                          c                         \n",
      "   CCCC ,;;       ;;: CCCC  ;                   : CCCCi                       \n",
      "    CCC ;;         ;;  CC   ;;:                CCC`   `C;                     \n",
      "  lCCC ;;              CCCC  ;;;:             :CC .;;. C;   ;    :   ;  :;;   \n",
      "  CCCC ;.              CCCC    ;;;,           CC ;    ; Ci  ;    :   ;  :  ;  \n",
      "   iCC :;               CC       ;;;,        ;C ;       CC  ;    :   ; .      \n",
      "  CCCi ;;               CCC        ;;;.      .C ;       tf  ;    :   ;  ;.    \n",
      "  CCC  ;;               CCC          ;;;;;;; fC :       lC  ;    :   ;    ;:  \n",
      "   iCf ;;               CC         :;;:      tC ;       CC  ;    :   ;     ;  \n",
      "  fCCC :;              LCCf      ;;;:         LC :.  ,: C   ;    ;   ; ;   ;  \n",
      "  CCCC  ;;             CCCC    ;;;:           CCi `;;` CC.  ;;;; :;.;.  ; ,;  \n",
      "    CCl ;;             CC    ;;;;              CCC    CCL                     \n",
      "   tCCC  ;;        ;; CCCL  ;;;                  tCCCCC.                      \n",
      "    CCCC  ;;     :;; CCCCf  ;                     ,L                          \n",
      "     lCCC   ;;;;;;  CCCL                                                      \n",
      "     CCCCCC  :;;  fCCCCC                                                      \n",
      "      . CCCC     CCCC .                                                       \n",
      "       .CCCCCCCCCCCCCi                                                        \n",
      "          iCCCCCLCf                                                           \n",
      "           .  C. ,                                                            \n",
      "              :                                                               \n",
      "Experimental Warning: MatlBuyPolicy is experimental and its API may be subject to change\n",
      "Experimental Warning: MatlSellPolicy is experimental and its API may be subject to change\n",
      "Experimental Warning: The Storage Facility is experimental.\n",
      "Experimental Warning: MatlSellPolicy is experimental and its API may be subject to change\n",
      "Experimental Warning: the Mixer archetype is experimental\n",
      "Experimental Warning: MatlSellPolicy is experimental and its API may be subject to change\n",
      "Experimental Warning: the Mixer archetype is experimental\n",
      "Experimental Warning: MatlSellPolicy is experimental and its API may be subject to change\n",
      "Experimental Warning: the Mixer archetype is experimental\n",
      "Experimental Warning: MatlSellPolicy is experimental and its API may be subject to change\n",
      "Experimental Warning: the Mixer archetype is experimental\n",
      "Experimental Warning: MatlBuyPolicy is experimental and its API may be subject to change\n",
      "Experimental Warning: MatlSellPolicy is experimental and its API may be subject to change\n",
      "Experimental Warning: The Storage Facility is experimental.\n",
      "Experimental Warning: MatlBuyPolicy is experimental and its API may be subject to change\n",
      "Experimental Warning: MatlSellPolicy is experimental and its API may be subject to change\n",
      "Experimental Warning: The Storage Facility is experimental.\n",
      "Experimental Warning: MatlBuyPolicy is experimental and its API may be subject to change\n",
      "Experimental Warning: MatlSellPolicy is experimental and its API may be subject to change\n",
      "Experimental Warning: The Storage Facility is experimental.\n",
      "Experimental Warning: MatlBuyPolicy is experimental and its API may be subject to change\n",
      "Experimental Warning: MatlSellPolicy is experimental and its API may be subject to change\n",
      "Experimental Warning: The Storage Facility is experimental.\n",
      "Experimental Warning: MatlBuyPolicy is experimental and its API may be subject to change\n",
      "Experimental Warning: MatlSellPolicy is experimental and its API may be subject to change\n",
      "Experimental Warning: The Storage Facility is experimental.\n",
      "Experimental Warning: MatlBuyPolicy is experimental and its API may be subject to change\n",
      "Experimental Warning: MatlSellPolicy is experimental and its API may be subject to change\n",
      "Experimental Warning: The Storage Facility is experimental.\n",
      "Experimental Warning: MatlSellPolicy is experimental and its API may be subject to change\n",
      "Experimental Warning: the Mixer archetype is experimental\n",
      "Experimental Warning: MatlSellPolicy is experimental and its API may be subject to change\n",
      "Experimental Warning: the Mixer archetype is experimental\n",
      "Experimental Warning: MatlSellPolicy is experimental and its API may be subject to change\n",
      "Experimental Warning: the Mixer archetype is experimental\n",
      "Experimental Warning: MatlBuyPolicy is experimental and its API may be subject to change\n",
      "Experimental Warning: MatlSellPolicy is experimental and its API may be subject to change\n",
      "Experimental Warning: The Storage Facility is experimental.\n",
      "Experimental Warning: MatlBuyPolicy is experimental and its API may be subject to change\n",
      "Experimental Warning: MatlSellPolicy is experimental and its API may be subject to change\n",
      "Experimental Warning: The Storage Facility is experimental.\n",
      "Experimental Warning: MatlSellPolicy is experimental and its API may be subject to change\n",
      "Further Experimental Warnings will be suppressed.\n",
      "\n",
      "Status: Cyclus run successful!\n",
      "Output location: full_output.sqlite\n",
      "Simulation ID: 52bdc225-11ed-4cc4-a7d9-04ebe765cbfe\n"
     ]
    }
   ],
   "source": [
    "# run the new input with astrid reactors\n",
    "! rm full_output.sqlite\n",
    "! cyclus input_astrid.xml -o full_output.sqlite"
   ]
  },
  {
   "cell_type": "code",
   "execution_count": 79,
   "metadata": {},
   "outputs": [],
   "source": [
    "# get sqlite cursor and simulation time data\n",
    "cur = an.cursor('full_output.sqlite')\n",
    "init_year, init_month, duration, timestep = an.simulation_timesteps(cur)"
   ]
  },
  {
   "cell_type": "code",
   "execution_count": 80,
   "metadata": {},
   "outputs": [
    {
     "name": "stdout",
     "output_type": "stream",
     "text": [
      "french_facilities has no values\n",
      "Sink_Source_Inst has no values\n"
     ]
    }
   ],
   "source": [
    "# get number of reactors and capacity timeseries without astrids\n",
    "power_cap = an.power_capacity(cur)\n",
    "power_cap.pop('France_astrid', None)\n",
    "an.stacked_bar_chart(power_cap, timestep, 'Years',\n",
    "                    'Net Capacity [MWe]', 'Net Capacity vs Time',\n",
    "                    'no_astrid', init_year, colormap=cm.tab20c)"
   ]
  },
  {
   "cell_type": "code",
   "execution_count": 81,
   "metadata": {},
   "outputs": [
    {
     "name": "stdout",
     "output_type": "stream",
     "text": [
      "french_facilities has no values\n",
      "Sink_Source_Inst has no values\n"
     ]
    }
   ],
   "source": [
    "# get number of reactors and capacity timeseries with astrids\n",
    "power_cap = an.power_capacity(cur)\n",
    "power_cap['France_government'] += power_cap['France_astrid']\n",
    "power_cap.pop('France_astrid', None)\n",
    "an.stacked_bar_chart(power_cap, timestep, 'Years',\n",
    "                    'Net Capacity [MWe]', 'Net Capacity vs Time',\n",
    "                    'full_power', init_year, colormap=cm.tab20c)"
   ]
  },
  {
   "cell_type": "code",
   "execution_count": 82,
   "metadata": {},
   "outputs": [],
   "source": [
    "power_cap = an.power_capacity(cur)\n",
    "dictionary = {'lwr': power_cap['France_government'],\n",
    "              'astrid': power_cap['France_astrid']}\n",
    "init_year, init_month, duration, timestep = an.simulation_timesteps(cur)\n",
    "an.stacked_bar_chart(dictionary, timestep,\n",
    "                  'Years', 'Net_Capacity [GWe]',\n",
    "                  'Net Capacity vs Time',\n",
    "                  'france_power_plot', init_year)"
   ]
  },
  {
   "cell_type": "code",
   "execution_count": 83,
   "metadata": {},
   "outputs": [
    {
     "data": {
      "image/png": "[encoded data removed]",
      "text/plain": [
       "<Figure size 432x288 with 1 Axes>"
      ]
     },
     "metadata": {
      "needs_background": "light"
     },
     "output_type": "display_data"
    },
    {
     "name": "stdout",
     "output_type": "stream",
     "text": [
      "107\n",
      "Average number of ASTRIDS to deploy per year\n",
      "1.7833333333333334\n"
     ]
    },
    {
     "data": {
      "image/png": "[encoded data removed]",
      "text/plain": [
       "<Figure size 432x288 with 1 Axes>"
      ]
     },
     "metadata": {
      "needs_background": "light"
     },
     "output_type": "display_data"
    }
   ],
   "source": [
    "# astrid deployment\n",
    "entry = cur.execute('SELECT entertime FROM agententry WHERE prototype == \"astrid\"').fetchall()\n",
    "num_dict = {}\n",
    "cum_dict = {}\n",
    "num_dict['num dep'] = []\n",
    "for t in timestep:\n",
    "    astrid_num = 0\n",
    "    for agent in entry:\n",
    "        if agent['entertime'] == t:\n",
    "            astrid_num += 1\n",
    "    num_dict['num dep'].append(astrid_num)\n",
    "dep = an.deployments(cur)\n",
    "cum_dict['cumulative'] = dep['France_astrid']\n",
    "plt.plot(init_year + timestep/12, num_dict['num dep'])\n",
    "plt.show()\n",
    "plt.close()\n",
    "plt.plot(cum_dict['cumulative'])\n",
    "print(max(cum_dict['cumulative']))\n",
    "\n",
    "print('Average number of ASTRIDS to deploy per year')\n",
    "print(sum(num_dict['num dep']) / (2160-2040) )\n",
    "an.double_axis_bar_line_plot(num_dict, cum_dict, timestep,\n",
    "                             'Years', 'Number of SFRs Deployed', ' Number of SFRs Operational',\n",
    "                             'Build number and cumulative ASTRID Number vs Time', 'sfr_deploy',\n",
    "                             init_year)"
   ]
  },
  {
   "cell_type": "code",
   "execution_count": 84,
   "metadata": {},
   "outputs": [
    {
     "name": "stdout",
     "output_type": "stream",
     "text": [
      "0.01188489984729947\n"
     ]
    }
   ],
   "source": [
    "# Pu Composition in Spent Fuels:\n",
    "pu_frac_spent_uox = cur.execute('SELECT sum(massfrac) FROM recipes LEFT OUTER JOIN compositions ON '\n",
    "                'compositions.qualid = recipes.qualid '\n",
    "                'WHERE recipe = \"uox_used_fuel_recipe\" '\n",
    "                'and (nucid > 940000000 and nucid < 950000000)').fetchone()\n",
    "pu_frac_spent_astrid = cur.execute('SELECT sum(massfrac) FROM recipes LEFT OUTER JOIN compositions ON '\n",
    "                'compositions.qualid = recipes.qualid '\n",
    "                'WHERE recipe = \"sfr_spent_mox_recipe\" '\n",
    "                'and (nucid > 940000000 and nucid < 950000000)').fetchone()\n",
    "print(pu_frac_spent_uox[0])"
   ]
  },
  {
   "cell_type": "code",
   "execution_count": 85,
   "metadata": {},
   "outputs": [
    {
     "name": "stdout",
     "output_type": "stream",
     "text": [
      "Slovakia_government\n",
      "2744.684\n",
      "Czech Republic_government\n",
      "4143.786\n",
      "Hungary_government\n",
      "3118.878\n",
      "Sweden_government\n",
      "16014.024\n",
      "Germany_government\n",
      "18096.49\n",
      "Belgium_government\n",
      "4799.406\n",
      "french_facilities\n",
      "french_facilitieshas none you silly \n",
      "\n",
      "France_government\n",
      "France_governmenthas none you silly \n",
      "\n",
      "France_astrid\n",
      "France_astridhas none you silly \n",
      "\n",
      "Poland_government\n",
      "1807.638\n",
      "Netherlands_government\n",
      "539.214\n",
      "Italy_government\n",
      "577.792\n",
      "United Kingdom_government\n",
      "13157.684\n",
      "Lithuania_government\n",
      "1051.668\n",
      "Slovenia_government\n",
      "765.336\n",
      "Bulgaria_government\n",
      "2965.008\n",
      "Spain_government\n",
      "9725.296\n",
      "Romania_government\n",
      "1742.076\n",
      "Finland_government\n",
      "5604.65\n",
      "Sink_Source_Inst\n",
      "Sink_Source_Insthas none you silly \n",
      "\n",
      "Used UOX available for reprocessing Except France\n",
      "86853.63\n"
     ]
    }
   ],
   "source": [
    "# Fuel Used\n",
    "\n",
    "inst_output_dict = an.commodity_per_institution(cur, 'uox_waste', 960)\n",
    "total = 0\n",
    "for key in inst_output_dict:\n",
    "    print(key)\n",
    "    try:\n",
    "        print(inst_output_dict[key]/1000)\n",
    "        total += inst_output_dict[key]/1000\n",
    "    except:\n",
    "        print(key + 'has none you silly \\n')\n",
    "\n",
    "print('Used UOX available for reprocessing Except France')\n",
    "print(total)\n"
   ]
  },
  {
   "cell_type": "code",
   "execution_count": 86,
   "metadata": {},
   "outputs": [
    {
     "name": "stdout",
     "output_type": "stream",
     "text": [
      "French UNF UOX total in 2050: 64093.768000\n",
      "French UNF reprocesed up until 2050: 51511.597528\n",
      "French UNF UOX unused in 2050: 12582.170472\n",
      "Total UOX UNF available for Rerprocessing in 2050:99435.800472\n"
     ]
    }
   ],
   "source": [
    "# French UOX UNF total, in sink, and reprocessed\n",
    "agent_ids = an.agent_ids(cur, 'Reactor')\n",
    "french = an.facility_commodity_flux(cur, agent_ids, ['french_uox_waste'], True, True)\n",
    "print('French UNF UOX total in 2050: %f' %french['french_uox_waste'][960])\n",
    "\n",
    "agent_ids = an.prototype_id(cur, 'LA_HAGUE')\n",
    "french_rep = an.facility_commodity_flux(cur, agent_ids, ['cooled_french_uox_waste'], False, True)\n",
    "print('French UNF reprocesed up until 2050: %f' %french_rep['cooled_french_uox_waste'][960])\n",
    "\n",
    "unused = french['french_uox_waste'][960] - french_rep['cooled_french_uox_waste'][960]\n",
    "print('French UNF UOX unused in 2050: %f' %unused)\n",
    "\n",
    "#french['in_sink'] = [x - y for x, y in zip(french['french_uox_waste'], french_rep['cooled_french_uox_waste'])] \n",
    "#print('French SNF in Sink')\n",
    "#print(sum(french['in_sink']))\n",
    "\n",
    "total_uox_unf = total + unused\n",
    "\n",
    "print('Total UOX UNF available for Rerprocessing in 2050:%f' %total_uox_unf)"
   ]
  },
  {
   "cell_type": "code",
   "execution_count": 87,
   "metadata": {},
   "outputs": [
    {
     "name": "stdout",
     "output_type": "stream",
     "text": [
      "Pu-238 has mass fraction of 0.000100 - 9.943580 tonnes available from 2050 UNF\n",
      "Pu-239 has mass fraction of 0.005180 - 515.077446 tonnes available from 2050 UNF\n",
      "Pu-240 has mass fraction of 0.002320 - 230.691057 tonnes available from 2050 UNF\n",
      "Pu-241 has mass fraction of 0.001260 - 125.289109 tonnes available from 2050 UNF\n",
      "Pu-242 has mass fraction of 0.000487 - 48.425235 tonnes available from 2050 UNF\n",
      "Total: 0.009347 - 929.426427 tonnes available \n"
     ]
    }
   ],
   "source": [
    "# plutonium from UNF inventory\n",
    "pu_iso_list = [238, 239, 240, 241, 242]\n",
    "mass_frac_list = [0.0001, 0.00518, 0.00232, 0.00126, 0.000487]\n",
    "for i in range(5):\n",
    "    print('Pu-%i has mass fraction of %f - %f tonnes available from 2050 UNF' %(pu_iso_list[i], mass_frac_list[i], mass_frac_list[i] * total_uox_unf))\n",
    "print('Total: %f - %f tonnes available ' %(sum(mass_frac_list), sum(mass_frac_list) * total_uox_unf))\n"
   ]
  },
  {
   "cell_type": "code",
   "execution_count": 97,
   "metadata": {},
   "outputs": [
    {
     "name": "stdout",
     "output_type": "stream",
     "text": [
      "Total UOX Loaded up until 2050: 154237.246000 MTHM\n"
     ]
    }
   ],
   "source": [
    "# UOX loaded up until 2050\n",
    "agent_ids = an.agent_ids(cur, 'Reactor')\n",
    "uox_loaded = an.facility_commodity_flux(cur, agent_ids, ['uox'], False, True)\n",
    "tot_uox_loaded_2050 = uox_loaded['uox'][960]\n",
    "print('Total UOX Loaded up until 2050: %f MTHM' %tot_uox_loaded_2050)"
   ]
  },
  {
   "cell_type": "code",
   "execution_count": 98,
   "metadata": {},
   "outputs": [
    {
     "name": "stdout",
     "output_type": "stream",
     "text": [
      "Total MOX Loaded up until 2050: 6463.878000 MTHM\n"
     ]
    }
   ],
   "source": [
    "# LWR MOX loaded up until 2050\n",
    "mox_loaded = an.facility_commodity_flux(cur, agent_ids, ['mox'], False, True)\n",
    "tot_mox_loaded_2050 = mox_loaded['mox'][960]\n",
    "print('Total MOX Loaded up until 2050: %f MTHM' %tot_mox_loaded_2050)"
   ]
  },
  {
   "cell_type": "code",
   "execution_count": 99,
   "metadata": {},
   "outputs": [
    {
     "name": "stdout",
     "output_type": "stream",
     "text": [
      "Total tails at 2050: 1347339.420595\n"
     ]
    }
   ],
   "source": [
    "# Tails up until 2050\n",
    "agent_ids = an.agent_ids(cur, 'Enrichment')\n",
    "tails = an.facility_commodity_flux(cur, agent_ids, ['tails'], True, True)\n",
    "tails_2050 = tails['tails'][960]\n",
    "print('Total tails at 2050: %f' %tails_2050)\n"
   ]
  },
  {
   "cell_type": "code",
   "execution_count": 100,
   "metadata": {},
   "outputs": [
    {
     "name": "stdout",
     "output_type": "stream",
     "text": [
      "Total natural U at 2050: 1501576.666595\n"
     ]
    }
   ],
   "source": [
    "# Natural U used until 2050\n",
    "source = an.nat_u_timeseries(cur)\n",
    "source_2050 = source[960]\n",
    "print('Total natural U at 2050: %f' %source_2050)"
   ]
  },
  {
   "cell_type": "code",
   "execution_count": 101,
   "metadata": {
    "scrolled": false
   },
   "outputs": [
    {
     "name": "stdout",
     "output_type": "stream",
     "text": [
      "Total Tails in MTHM:\n",
      "1346560.2140195142\n"
     ]
    }
   ],
   "source": [
    "# get tailings timeseries both cumulative and non-cumulative up till 2050\n",
    "\n",
    "agent_ids = an.agent_ids(cur, 'Storage')\n",
    "tails_dict = an.facility_commodity_flux(cur, agent_ids, ['tails'], False)\n",
    "tails_dict['tails'] = tails_dict['tails'][:960]\n",
    "tails_no_cum = an.facility_commodity_flux(cur, agent_ids, ['tails'], False, False)\n",
    "tails_no_cum['tails'] = tails_no_cum['tails'][:960]\n",
    "an.double_axis_bar_line_plot(tails_no_cum, tails_dict, timestep[:960], 'Years', 'Monthly Discharge Mass [MTHM]', 'Cumulative Mass [MTHM]',\n",
    "                    'Tails Mass vs Time', 'tailings', init_year)\n",
    "\n",
    "print('Total Tails in MTHM:')\n",
    "print(max(tails_dict['tails']))"
   ]
  },
  {
   "cell_type": "code",
   "execution_count": 102,
   "metadata": {},
   "outputs": [],
   "source": [
    "# get total fuel mass vs time plot up until 2050\n",
    "fuel_dict = an.fuel_usage_timeseries(cur, ['uox', 'mox'], True)\n",
    "fuel_dict['uox'] = fuel_dict['uox'][:960]\n",
    "fuel_dict['mox'] = fuel_dict['mox'][:960]\n",
    "an.stacked_bar_chart(fuel_dict, timestep[:960],\n",
    "                  'Years', 'Mass[MTHM]',\n",
    "                  'Total LWR Fuel Mass vs Time',\n",
    "                  'total_fuel',\n",
    "                  init_year)"
   ]
  },
  {
   "cell_type": "code",
   "execution_count": null,
   "metadata": {
    "scrolled": true
   },
   "outputs": [],
   "source": [
    "# where does the astrid fuel come from?\n",
    "init_year, init_month, duration, timestep = an.simulation_timesteps(cur)\n",
    "\n",
    "agent_ids = an.agent_ids(cur, 'Reactor')\n",
    "astrid_loading = an.facility_commodity_flux(cur, agent_ids, ['astrid_fuel_legacy', 'astrid_fuel_new'], False, False)\n",
    "\n",
    "print('Total ASTRID fuel from spent UOX:')\n",
    "print(sum(astrid_loading['astrid_fuel_legacy']))\n",
    "print('Total ASTRID fuel from spent ASTRID fuel:')\n",
    "print(sum(astrid_loading['astrid_fuel_new']))\n",
    "print('Total ASTRID Fuel loaded')\n",
    "print(sum(astrid_loading['astrid_fuel_new']) + sum(astrid_loading['astrid_fuel_legacy']))\n",
    "print('Total depu used')\n",
    "print((sum(astrid_loading['astrid_fuel_new']) + sum(astrid_loading['astrid_fuel_legacy'])) * 0.78)"
   ]
  },
  {
   "cell_type": "code",
   "execution_count": 105,
   "metadata": {},
   "outputs": [
    {
     "name": "stdout",
     "output_type": "stream",
     "text": [
      "Total Pu from Spent UOX:\n",
      "630.8544000000053\n",
      "Total uox reprocessed [53080.3295026]\n",
      "Total Pu from Spent ASTRID Fuel:\n",
      "12900.053759999919\n",
      "Total astrid fuel reprocessed 47026.58753323656\n",
      "Total Pu Reprocessed: 13530.908159999924\n",
      "average uox reprocessing [110.81488414]\n",
      "average astrid fuel reprocessing 35.84343561984494\n",
      "average total reprocessing [59.58745062]\n",
      "Average fuel fab: 36.60959999999976\n"
     ]
    }
   ],
   "source": [
    "import collections\n",
    "new_dict = collections.OrderedDict()\n",
    "new_dict = {'fuel from used uox': astrid_loading['astrid_fuel_legacy'],\n",
    "            'fuel from used mox': astrid_loading['astrid_fuel_new']}\n",
    "an.stacked_bar_chart(new_dict, timestep,\n",
    "                  'Years', 'Mass[MTHM]',\n",
    "                  'ASTRID Fuel Loading vs Time',\n",
    "                  'where_fuel',\n",
    "                  init_year)\n",
    "\n",
    "print('Total Pu from Spent UOX:')\n",
    "pu_from_spent_uox = sum(new_dict['fuel from used uox']) * 0.22\n",
    "uox_rep = pu_from_spent_uox / pu_frac_spent_uox\n",
    "print(pu_from_spent_uox)\n",
    "print('Total uox reprocessed', uox_rep)\n",
    "print('Total Pu from Spent ASTRID Fuel:')\n",
    "pu_from_spent_astrid = sum(new_dict['fuel from used mox']) * 0.22\n",
    "astrid_rep = pu_from_spent_astrid / pu_frac_spent_astrid[0]\n",
    "print(pu_from_spent_astrid)\n",
    "print('Total astrid fuel reprocessed', astrid_rep)\n",
    "print('Total Pu Reprocessed:', pu_from_spent_astrid + pu_from_spent_uox)\n",
    "\n",
    "nonzero = [i for i, e in enumerate(new_dict['fuel from used uox']) if e != 0][-1] - 600\n",
    "print('average uox reprocessing', uox_rep / nonzero)\n",
    "\n",
    "nonzero = len([i for i, e in enumerate(new_dict['fuel from used mox']) if e != 0])\n",
    "print('average astrid fuel reprocessing', astrid_rep / nonzero)\n",
    "\n",
    "tot = np.array(new_dict['fuel from used uox']) + np.array(new_dict['fuel from used mox'])\n",
    "nonzero = len(timestep) - 600\n",
    "print('average total reprocessing', (astrid_rep + uox_rep) / nonzero)\n",
    "\n",
    "print('Average fuel fab:', sum(tot) / nonzero)\n"
   ]
  },
  {
   "cell_type": "code",
   "execution_count": 106,
   "metadata": {
    "scrolled": true
   },
   "outputs": [],
   "source": [
    "# cum plutonium flux\n",
    "agent_ids = an.agent_ids(cur, 'separations')\n",
    "pu = an.facility_commodity_flux(cur, agent_ids, ['uox_Pu', 'astrid_Pu'], True, False)\n",
    "pu['pu from legacy'] = pu.pop('uox_Pu')\n",
    "pu['pu from spent sfr fuel'] = pu.pop('astrid_Pu')\n",
    "\n",
    "an.stacked_bar_chart(pu, timestep, 'Years', 'Mass [MTHM]', 'Total Pu Mass vs Time', 'pu', init_year)\n"
   ]
  },
  {
   "cell_type": "code",
   "execution_count": 107,
   "metadata": {},
   "outputs": [
    {
     "name": "stdout",
     "output_type": "stream",
     "text": [
      "Total Reprocessed U Inventory:\n",
      "185381.2157748766\n"
     ]
    }
   ],
   "source": [
    "# Total Reprocessed Uranium Stockpile\n",
    "agent_ids = an.agent_ids(cur, 'sink')\n",
    "repu_inv = an.facility_commodity_flux(cur, agent_ids, ['uox_U', 'astrid_U'], False, True)\n",
    "an.stacked_bar_chart(repu_inv, timestep, 'Years', 'Mass[MTHM]', 'Total Rep U Mass vs Time', 'repu', init_year)\n",
    "\n",
    "print('Total Reprocessed U Inventory:')\n",
    "print(max([x+y for x, y in zip(repu_inv['uox_U'], repu_inv['astrid_U'])]))"
   ]
  },
  {
   "cell_type": "code",
   "execution_count": 108,
   "metadata": {},
   "outputs": [
    {
     "name": "stdout",
     "output_type": "stream",
     "text": [
      "Total Raffinate:\n",
      "23539.691789320532\n"
     ]
    }
   ],
   "source": [
    "# Raffinate\n",
    "agent_ids = an.agent_ids(cur, 'separations')\n",
    "reprocess_waste = an.facility_commodity_flux(cur, agent_ids, ['lahague_raffinate', 'uox_raffinate', 'astrid_raffinate'], True, False)\n",
    "an.stacked_bar_chart(reprocess_waste, timestep, 'Years', 'Mass [MTHM]',\n",
    "                     'Raffinate Inventory vs Time', 'raffinate', init_year)\n",
    "print('Total Raffinate:')\n",
    "print(sum([x+y+z for x, y, z in zip(reprocess_waste['lahague_raffinate'], reprocess_waste['uox_raffinate'], reprocess_waste['astrid_raffinate']\n",
    ")]))"
   ]
  },
  {
   "cell_type": "code",
   "execution_count": 109,
   "metadata": {
    "scrolled": true
   },
   "outputs": [
    {
     "name": "stdout",
     "output_type": "stream",
     "text": [
      "Total UOX Waste in MTHM:\n",
      "168557.21600000001\n",
      "Total UOX Waste Stored:\n",
      "101481.046\n",
      "Total MOX Waste in MTHM:\n",
      "6463.878\n"
     ]
    }
   ],
   "source": [
    "# get spent fuel no_cum and cumulative plot\n",
    "agent_ids = an.agent_ids(cur, 'Storage')\n",
    "snf_dict_no_cum = an.facility_commodity_flux(cur, agent_ids, ['uox_waste'],\n",
    "                                        False, False)\n",
    "snf_dict = an.facility_commodity_flux(cur, agent_ids, ['uox_waste'],\n",
    "                                        False, True) \n",
    "dictionary = {}\n",
    "dictionary['monthly_discharge'] = snf_dict_no_cum['uox_waste'][:960]\n",
    "dict2 = {}\n",
    "dict2['cum_mass'] = snf_dict['uox_waste'][:960]\n",
    "\n",
    "an.double_axis_bar_line_plot(dictionary,dict2, timestep[:960], 'Years',  'Monthly Discharge Mass [MTHM]','Cumulative Mass [MTHM]',\n",
    "                    'Spent Fuel Discharge vs Time', 'snf_discharge', init_year)\n",
    "\n",
    "agent_ids = an.agent_ids(cur, 'Storage')\n",
    "snf_dict = an.facility_commodity_flux(cur, agent_ids, ['uox_waste', 'french_uox_waste'],\n",
    "                                        False)\n",
    "print('Total UOX Waste in MTHM:')\n",
    "print(max([x + y for x, y in zip(snf_dict['uox_waste'], snf_dict['french_uox_waste'])]))\n",
    "print('Total UOX Waste Stored:')\n",
    "print(max(snf_dict['uox_waste']))\n",
    "agent_ids = an.agent_ids(cur, 'Sink')\n",
    "snf_dict = an.facility_commodity_flux(cur, agent_ids, ['mox_waste'],\n",
    "                                        False)\n",
    "print('Total MOX Waste in MTHM:')\n",
    "print(max(snf_dict['mox_waste']))"
   ]
  },
  {
   "cell_type": "code",
   "execution_count": 110,
   "metadata": {},
   "outputs": [
    {
     "name": "stdout",
     "output_type": "stream",
     "text": [
      "Total Natural U in MTHM:\n",
      "1640988.730645953\n",
      "Total UOX usage in MTHM:\n",
      "168557.21600000001\n",
      "Total MOX usage in MTHM:\n",
      "6463.878\n",
      "Total Tailings in MTHM:\n",
      "1472431.5146459502\n",
      "Finished!\n"
     ]
    }
   ],
   "source": [
    "# Display important simulation results\n",
    "\n",
    "# natural uranium demand\n",
    "dictionary = collections.OrderedDict()\n",
    "dictionary['natural_uranium'] = an.nat_u_timeseries(cur)\n",
    "print('Total Natural U in MTHM:')\n",
    "print(max(dictionary['natural_uranium']))\n",
    "\n",
    "# get spent fuel timeseries separated by region\n",
    "\n",
    "agent_ids = an.agent_ids(cur, 'Storage')\n",
    "comm_dict = an.commodity_flux_region(cur, agent_ids, ['uox_waste', 'french_uox_waste'], False)\n",
    "\n",
    "# get fuel usage timeseries in stacked bar chart\n",
    "fuel_dict = an.fuel_usage_timeseries(cur, ['uox', 'mox'])\n",
    "\n",
    "print('Total UOX usage in MTHM:')\n",
    "print(max(fuel_dict['uox']))\n",
    "print('Total MOX usage in MTHM:')\n",
    "print(max(fuel_dict['mox']))\n",
    "\n",
    "# get tailings timeseries\n",
    "agent_ids = an.agent_ids(cur, 'Storage')\n",
    "tails_dict = an.facility_commodity_flux(cur, agent_ids, ['tails'], False)\n",
    "print('Total Tailings in MTHM:')\n",
    "print(max(tails_dict['tails']))\n",
    "\n",
    "print('Finished!')"
   ]
  },
  {
   "cell_type": "code",
   "execution_count": 111,
   "metadata": {},
   "outputs": [
    {
     "data": {
      "image/png": "[encoded data removed]",
      "text/plain": [
       "<IPython.core.display.Image object>"
      ]
     },
     "execution_count": 111,
     "metadata": {},
     "output_type": "execute_result"
    }
   ],
   "source": [
    "# Display Net Capacity vs Time\n",
    "from IPython.display import Image\n",
    "Image(filename='power_plot.png')"
   ]
  },
  {
   "cell_type": "code",
   "execution_count": 112,
   "metadata": {
    "scrolled": false
   },
   "outputs": [
    {
     "ename": "FileNotFoundError",
     "evalue": "[Errno 2] No such file or directory: 'num_plot.png'",
     "output_type": "error",
     "traceback": [
      "\u001b[0;31m---------------------------------------------------------------------------\u001b[0m",
      "\u001b[0;31mFileNotFoundError\u001b[0m                         Traceback (most recent call last)",
      "\u001b[0;32m<ipython-input-112-99597814d034>\u001b[0m in \u001b[0;36m<module>\u001b[0;34m\u001b[0m\n\u001b[1;32m      1\u001b[0m \u001b[0;31m# Display Number of Reactors vs Time\u001b[0m\u001b[0;34m\u001b[0m\u001b[0;34m\u001b[0m\u001b[0m\n\u001b[1;32m      2\u001b[0m \u001b[0;32mfrom\u001b[0m \u001b[0mIPython\u001b[0m\u001b[0;34m.\u001b[0m\u001b[0mdisplay\u001b[0m \u001b[0;32mimport\u001b[0m \u001b[0mImage\u001b[0m\u001b[0;34m\u001b[0m\u001b[0m\n\u001b[0;32m----> 3\u001b[0;31m \u001b[0mImage\u001b[0m\u001b[0;34m(\u001b[0m\u001b[0mfilename\u001b[0m\u001b[0;34m=\u001b[0m\u001b[0;34m'num_plot.png'\u001b[0m\u001b[0;34m)\u001b[0m\u001b[0;34m\u001b[0m\u001b[0m\n\u001b[0m",
      "\u001b[0;32m~/anaconda3/lib/python3.6/site-packages/IPython/core/display.py\u001b[0m in \u001b[0;36m__init__\u001b[0;34m(self, data, url, filename, format, embed, width, height, retina, unconfined, metadata)\u001b[0m\n\u001b[1;32m   1161\u001b[0m         \u001b[0mself\u001b[0m\u001b[0;34m.\u001b[0m\u001b[0munconfined\u001b[0m \u001b[0;34m=\u001b[0m \u001b[0munconfined\u001b[0m\u001b[0;34m\u001b[0m\u001b[0m\n\u001b[1;32m   1162\u001b[0m         super(Image, self).__init__(data=data, url=url, filename=filename, \n\u001b[0;32m-> 1163\u001b[0;31m                 metadata=metadata)\n\u001b[0m\u001b[1;32m   1164\u001b[0m \u001b[0;34m\u001b[0m\u001b[0m\n\u001b[1;32m   1165\u001b[0m         \u001b[0;32mif\u001b[0m \u001b[0mself\u001b[0m\u001b[0;34m.\u001b[0m\u001b[0mwidth\u001b[0m \u001b[0;32mis\u001b[0m \u001b[0;32mNone\u001b[0m \u001b[0;32mand\u001b[0m \u001b[0mself\u001b[0m\u001b[0;34m.\u001b[0m\u001b[0mmetadata\u001b[0m\u001b[0;34m.\u001b[0m\u001b[0mget\u001b[0m\u001b[0;34m(\u001b[0m\u001b[0;34m'width'\u001b[0m\u001b[0;34m,\u001b[0m \u001b[0;34m{\u001b[0m\u001b[0;34m}\u001b[0m\u001b[0;34m)\u001b[0m\u001b[0;34m:\u001b[0m\u001b[0;34m\u001b[0m\u001b[0m\n",
      "\u001b[0;32m~/anaconda3/lib/python3.6/site-packages/IPython/core/display.py\u001b[0m in \u001b[0;36m__init__\u001b[0;34m(self, data, url, filename, metadata)\u001b[0m\n\u001b[1;32m    607\u001b[0m             \u001b[0mself\u001b[0m\u001b[0;34m.\u001b[0m\u001b[0mmetadata\u001b[0m \u001b[0;34m=\u001b[0m \u001b[0;34m{\u001b[0m\u001b[0;34m}\u001b[0m\u001b[0;34m\u001b[0m\u001b[0m\n\u001b[1;32m    608\u001b[0m \u001b[0;34m\u001b[0m\u001b[0m\n\u001b[0;32m--> 609\u001b[0;31m         \u001b[0mself\u001b[0m\u001b[0;34m.\u001b[0m\u001b[0mreload\u001b[0m\u001b[0;34m(\u001b[0m\u001b[0;34m)\u001b[0m\u001b[0;34m\u001b[0m\u001b[0m\n\u001b[0m\u001b[1;32m    610\u001b[0m         \u001b[0mself\u001b[0m\u001b[0;34m.\u001b[0m\u001b[0m_check_data\u001b[0m\u001b[0;34m(\u001b[0m\u001b[0;34m)\u001b[0m\u001b[0;34m\u001b[0m\u001b[0m\n\u001b[1;32m    611\u001b[0m \u001b[0;34m\u001b[0m\u001b[0m\n",
      "\u001b[0;32m~/anaconda3/lib/python3.6/site-packages/IPython/core/display.py\u001b[0m in \u001b[0;36mreload\u001b[0;34m(self)\u001b[0m\n\u001b[1;32m   1192\u001b[0m         \u001b[0;34m\"\"\"Reload the raw data from file or URL.\"\"\"\u001b[0m\u001b[0;34m\u001b[0m\u001b[0m\n\u001b[1;32m   1193\u001b[0m         \u001b[0;32mif\u001b[0m \u001b[0mself\u001b[0m\u001b[0;34m.\u001b[0m\u001b[0membed\u001b[0m\u001b[0;34m:\u001b[0m\u001b[0;34m\u001b[0m\u001b[0m\n\u001b[0;32m-> 1194\u001b[0;31m             \u001b[0msuper\u001b[0m\u001b[0;34m(\u001b[0m\u001b[0mImage\u001b[0m\u001b[0;34m,\u001b[0m\u001b[0mself\u001b[0m\u001b[0;34m)\u001b[0m\u001b[0;34m.\u001b[0m\u001b[0mreload\u001b[0m\u001b[0;34m(\u001b[0m\u001b[0;34m)\u001b[0m\u001b[0;34m\u001b[0m\u001b[0m\n\u001b[0m\u001b[1;32m   1195\u001b[0m             \u001b[0;32mif\u001b[0m \u001b[0mself\u001b[0m\u001b[0;34m.\u001b[0m\u001b[0mretina\u001b[0m\u001b[0;34m:\u001b[0m\u001b[0;34m\u001b[0m\u001b[0m\n\u001b[1;32m   1196\u001b[0m                 \u001b[0mself\u001b[0m\u001b[0;34m.\u001b[0m\u001b[0m_retina_shape\u001b[0m\u001b[0;34m(\u001b[0m\u001b[0;34m)\u001b[0m\u001b[0;34m\u001b[0m\u001b[0m\n",
      "\u001b[0;32m~/anaconda3/lib/python3.6/site-packages/IPython/core/display.py\u001b[0m in \u001b[0;36mreload\u001b[0;34m(self)\u001b[0m\n\u001b[1;32m    632\u001b[0m         \u001b[0;34m\"\"\"Reload the raw data from file or URL.\"\"\"\u001b[0m\u001b[0;34m\u001b[0m\u001b[0m\n\u001b[1;32m    633\u001b[0m         \u001b[0;32mif\u001b[0m \u001b[0mself\u001b[0m\u001b[0;34m.\u001b[0m\u001b[0mfilename\u001b[0m \u001b[0;32mis\u001b[0m \u001b[0;32mnot\u001b[0m \u001b[0;32mNone\u001b[0m\u001b[0;34m:\u001b[0m\u001b[0;34m\u001b[0m\u001b[0m\n\u001b[0;32m--> 634\u001b[0;31m             \u001b[0;32mwith\u001b[0m \u001b[0mopen\u001b[0m\u001b[0;34m(\u001b[0m\u001b[0mself\u001b[0m\u001b[0;34m.\u001b[0m\u001b[0mfilename\u001b[0m\u001b[0;34m,\u001b[0m \u001b[0mself\u001b[0m\u001b[0;34m.\u001b[0m\u001b[0m_read_flags\u001b[0m\u001b[0;34m)\u001b[0m \u001b[0;32mas\u001b[0m \u001b[0mf\u001b[0m\u001b[0;34m:\u001b[0m\u001b[0;34m\u001b[0m\u001b[0m\n\u001b[0m\u001b[1;32m    635\u001b[0m                 \u001b[0mself\u001b[0m\u001b[0;34m.\u001b[0m\u001b[0mdata\u001b[0m \u001b[0;34m=\u001b[0m \u001b[0mf\u001b[0m\u001b[0;34m.\u001b[0m\u001b[0mread\u001b[0m\u001b[0;34m(\u001b[0m\u001b[0;34m)\u001b[0m\u001b[0;34m\u001b[0m\u001b[0m\n\u001b[1;32m    636\u001b[0m         \u001b[0;32melif\u001b[0m \u001b[0mself\u001b[0m\u001b[0;34m.\u001b[0m\u001b[0murl\u001b[0m \u001b[0;32mis\u001b[0m \u001b[0;32mnot\u001b[0m \u001b[0;32mNone\u001b[0m\u001b[0;34m:\u001b[0m\u001b[0;34m\u001b[0m\u001b[0m\n",
      "\u001b[0;31mFileNotFoundError\u001b[0m: [Errno 2] No such file or directory: 'num_plot.png'"
     ]
    }
   ],
   "source": [
    "# Display Number of Reactors vs Time\n",
    "from IPython.display import Image\n",
    "Image(filename='num_plot.png')"
   ]
  },
  {
   "cell_type": "code",
   "execution_count": 198,
   "metadata": {},
   "outputs": [
    {
     "data": {
      "image/png": "[encoded data removed]",
      "text/plain": [
       "<IPython.core.display.Image object>"
      ]
     },
     "execution_count": 198,
     "metadata": {},
     "output_type": "execute_result"
    }
   ],
   "source": [
    "# Display natural U demand  vs Time\n",
    "from IPython.display import Image\n",
    "Image(filename='cum_mass_snf_discharge.png')"
   ]
  },
  {
   "cell_type": "code",
   "execution_count": 199,
   "metadata": {},
   "outputs": [
    {
     "data": {
      "image/png": "[encoded data removed]",
      "text/plain": [
       "<IPython.core.display.Image object>"
      ]
     },
     "execution_count": 199,
     "metadata": {},
     "output_type": "execute_result"
    }
   ],
   "source": [
    "# Display spent fuel vs Time\n",
    "from IPython.display import Image\n",
    "Image(filename='tails_tailings.png')"
   ]
  },
  {
   "cell_type": "code",
   "execution_count": 200,
   "metadata": {},
   "outputs": [
    {
     "data": {
      "image/png": "[encoded data removed]",
      "text/plain": [
       "<IPython.core.display.Image object>"
      ]
     },
     "execution_count": 200,
     "metadata": {},
     "output_type": "execute_result"
    }
   ],
   "source": [
    "# Display total fuel usage  vs Time\n",
    "from IPython.display import Image\n",
    "Image(filename='total_fuel.png')"
   ]
  },
  {
   "cell_type": "code",
   "execution_count": null,
   "metadata": {
    "collapsed": true
   },
   "outputs": [],
   "source": []
  },
  {
   "cell_type": "code",
   "execution_count": null,
   "metadata": {
    "collapsed": true
   },
   "outputs": [],
   "source": []
  },
  {
   "cell_type": "code",
   "execution_count": null,
   "metadata": {
    "collapsed": true
   },
   "outputs": [],
   "source": []
  }
 ],
 "metadata": {
  "kernelspec": {
   "display_name": "Python 3",
   "language": "python",
   "name": "python3"
  },
  "language_info": {
   "codemirror_mode": {
    "name": "ipython",
    "version": 3
   },
   "file_extension": ".py",
   "mimetype": "text/x-python",
   "name": "python",
   "nbconvert_exporter": "python",
   "pygments_lexer": "ipython3",
   "version": "3.6.6"
  }
 },
 "nbformat": 4,
 "nbformat_minor": 2
}
