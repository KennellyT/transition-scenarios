{
 "cells": [
  {
   "cell_type": "code",
   "execution_count": 9,
   "metadata": {},
   "outputs": [],
   "source": [
    "import sqlite3 as lite\n",
    "import os\n",
    "import sys\n",
    "import numpy as np\n",
    "import collections\n",
    "sys.path.insert(0, '../../scripts/')\n",
    "jupyter_directory = os.getcwd()\n",
    "from IPython.display import Image\n",
    "import matplotlib.pyplot as plt\n",
    "from collections import OrderedDict\n",
    "import os"
   ]
  },
  {
   "cell_type": "code",
   "execution_count": 10,
   "metadata": {},
   "outputs": [],
   "source": [
    "import analysis as an"
   ]
  },
  {
   "cell_type": "code",
   "execution_count": 11,
   "metadata": {},
   "outputs": [],
   "source": [
    "# metrics to get\n",
    "# does it transition?\n",
    "# pu inventory\n",
    "# raffinate\n",
    "# lwr unf reprocessed\n",
    "# reprocessing throughput\n",
    "# unreprocessed lwr amount"
   ]
  },
  {
   "cell_type": "code",
   "execution_count": 12,
   "metadata": {},
   "outputs": [],
   "source": [
    "# get isotopics for input and output recipe\n",
    "def get_element_content(cur, commodity, z):\n",
    "    \n",
    "    query = cur.execute('SELECT * FROM transactions '\n",
    "                        'INNER JOIN resources ON '\n",
    "                        'resources.resourceid = transactions.resourceid '\n",
    "                        'WHERE commodity = \"%s\"' %commodity).fetchall()\n",
    "    for i in query:\n",
    "        qualid = i['qualid']\n",
    "        break\n",
    "    query = cur.execute('SELECT NucId, MassFrac FROM compositions '\n",
    "                        'WHERE qualid = %i' %qualid).fetchall()\n",
    "    el_content = 0\n",
    "    for row in query:\n",
    "        if row['NucId'] // 1e7 == z:\n",
    "            el_content += row['MassFrac']\n",
    "    return el_content\n"
   ]
  },
  {
   "cell_type": "code",
   "execution_count": 15,
   "metadata": {},
   "outputs": [],
   "source": [
    "def metric_solver(cur):\n",
    "    output_dict = OrderedDict({})\n",
    "    lwr_pu = get_element_content(cur, 'lwr_')\n",
    "    sfr_pu = get_element_contenxt(cur, )\n",
    "    sfr_used_pu = get_element_content(cur, )\n",
    "    blanket_used_pu = get_element_content(cur, )\n",
    "    try:\n",
    "        legacy_pu = get_element_content(cur, )\n",
    "    except:\n",
    "        print('This one does not have legacy pu')\n",
    "    \n",
    "    # pu generated\n",
    "    storage_id = an.get_agent_ids(cur, 'storage')\n",
    "    rep_id = an.get_agent_ids(cur, 'separations')\n",
    "    lwr_fuel_out = np.array(an.get_facility_commodity_flux(cur, storage_id, [''], False, True))\n",
    "    sfr_fuel_out = np.array(an.get_facility_commodity_flux(cur, storage_id, [''], False, True))\n",
    "    blanket = np.array(an.get_facility_commodity_flux(cur, storage_id, [''], False, True))\n",
    "    try:\n",
    "        legacy = np.array(an.get_facility_commodity_flux(cur, rep_id, [''], False, True))\n",
    "    except:\n",
    "        print('This one does not have legacy pu')\n",
    "    pu_generated = (lwr_pu * lwr_fuel_out) + (sfr_fuel_out * sfr_used_pu) + (blanket * blanket_used_pu)\n",
    "    try:\n",
    "        pu_generate += legacy * legacy_pu\n",
    "    except:\n",
    "        print('I TOLD YOU NO LEGACY')\n",
    "\n",
    "    # pu used\n",
    "    mixer_id = an.get_agent_ids(cur, 'mixer')\n",
    "    sfr_fuel_in = np.array(an.get_facility_commodity_flux(cur, mixer_id, [''], True, True))\n",
    "    pu_used = (sfr_fuel_in * sfr_pu)\n",
    "    \n",
    "    # lwr reprocessed\n",
    "    legacy_sfr = sfr_fuel_in['']\n",
    "    legacy_pu = legacy_sfr * sfr_pu\n",
    "    legacy_lwr_reprocessed = legacy_pu / lwr_pu\n",
    "    output_dict['lwr UNF reprocessed'] = legacy_lwr_reprocessed[-1]\n",
    "    \n",
    "    # unreprocessed lwr amount\n",
    "    lwr_amount = lwr_fuel_out[''][-1]\n",
    "    try:\n",
    "        lwr_amount += legacy[''][-1]\n",
    "    except:\n",
    "        print('NO LEGACY')\n",
    "    unreprocessed_lwr = lwr_amount - legacy_lwr_reprocessed[-1]\n",
    "    output_dict['unreprocessed lwr'] = unreprocessed_lwr\n",
    "    \n",
    "    # reprocessing throughput\n",
    "    new_sfr = sfr_fuel_in['']\n",
    "    new_sfr_reprocesed = new_sfr * sfr_pu / sfr_used_pu\n",
    "    reprocessing_throughput = new_sfr_reprocessed + legacy_lwr_reprocesed\n",
    "    output_dict['sfr UNF reprocessed'] = new_sfr_reprocessed[-1]\n",
    "\n",
    "    # raffinate\n",
    "    sink_id = an.get_agent_ids(cur, 'sink')\n",
    "    raffinate = np.array(an.get_facility_commodity(cur, sink_id, ['reprocess_waste'], False, True))\n",
    "    output_dict['raffinate'] = raffinate[-1]\n",
    "    \n",
    "    # get them metrics\n",
    "    pu_inventory = pu_generated - pu_used\n",
    "    output_dict['pu inventory'] = pu_inventory[-1]\n",
    "    return output_dict"
   ]
  },
  {
   "cell_type": "code",
   "execution_count": null,
   "metadata": {},
   "outputs": [],
   "source": [
    "# do work\n",
    "f = open('./output/metrics', 'w')\n",
    "for dire in directory:\n",
    "    for k in ['.sqlite', '.sqlite', '.sqlite']:\n",
    "        filename = './%s/%s' %(dire, k)\n",
    "        outputname = '%s_%s' %(dire, k.replace('.sqlite', ''))\n",
    "        print('DOING %s' %outputname)\n",
    "        cur = an.get_cusor(filename)\n",
    "        an.plot_power(cur)\n",
    "        if k == '.sqlite':\n",
    "            os.rename('power_plot.png', './output/%s.png' %(outputname))\n",
    "        out_dict = metric_solver(cur)\n",
    "        f.write('%s\\n======================' %outputname)\n",
    "        for key, val in out_dict.items():\n",
    "            write_string = '%s:\\t%s\\ttons' %(key, str(val))\n",
    "            f.write(write_string)\n",
    "        f.write('\\n')"
   ]
  }
 ],
 "metadata": {
  "kernelspec": {
   "display_name": "Python 3",
   "language": "python",
   "name": "python3"
  },
  "language_info": {
   "codemirror_mode": {
    "name": "ipython",
    "version": 3
   },
   "file_extension": ".py",
   "mimetype": "text/x-python",
   "name": "python",
   "nbconvert_exporter": "python",
   "pygments_lexer": "ipython3",
   "version": "3.6.4"
  }
 },
 "nbformat": 4,
 "nbformat_minor": 2
}
